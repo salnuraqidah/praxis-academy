{
 "cells": [
  {
   "cell_type": "code",
   "execution_count": 7,
   "metadata": {},
   "outputs": [
    {
     "name": "stdout",
     "output_type": "stream",
     "text": [
      "[6, 9, 10, 19, 20, 21, 29, 30, 96]\n"
     ]
    }
   ],
   "source": [
    "# Insertion Sort\n",
    "def insertionSort(A):\n",
    "   for i in range(1,len(A)):\n",
    "\n",
    "     curNum = A[i]\n",
    "     position = i\n",
    "\n",
    "     while position>0 and A[position-1]>curNum:\n",
    "         A[position]=A[position-1]\n",
    "         position = position-1\n",
    "\n",
    "     A[position]=curNum\n",
    "\n",
    "A = [21,10,19,96,30,9,6,20,29]\n",
    "insertionSort(A)\n",
    "print(A)"
   ]
  },
  {
   "cell_type": "code",
   "execution_count": 6,
   "metadata": {},
   "outputs": [
    {
     "name": "stdout",
     "output_type": "stream",
     "text": [
      "Sorted Array in Ascending Order:\n",
      "\n",
      "[6, 9, 10, 19, 20, 21, 29, 30, 96]\n"
     ]
    }
   ],
   "source": [
    "# Selection sort\n",
    "def selectionSort(A, size):\n",
    "    for step in range(size):\n",
    "        min_idx = step\n",
    "        for i in range(step + 1, size):\n",
    "            # To sort in descending order, change > to < in this line.\n",
    "            if A[i] < A[min_idx]:\n",
    "                min_idx = i\n",
    "        (A[step], A[min_idx]) = (A[min_idx], A[step])\n",
    "data = [21,10,19,96,30,9,6,20,29]\n",
    "size = len(data)\n",
    "selectionSort(data, size)\n",
    "print(data)"
   ]
  },
  {
   "cell_type": "code",
   "execution_count": 17,
   "metadata": {},
   "outputs": [
    {
     "name": "stdout",
     "output_type": "stream",
     "text": [
      "[6, 9, 10, 19, 20, 21, 29, 30, 96]\n"
     ]
    }
   ],
   "source": [
    "# Shell Sort\n",
    "def shellSort(A, n):\n",
    "    gap = n // 2\n",
    "    while gap > 0:\n",
    "        for i in range(gap, n):\n",
    "            temp = A[i]\n",
    "            j = i\n",
    "            while j >= gap and A[j - gap] > temp:\n",
    "                A[j] = A[j - gap]\n",
    "                j -= gap\n",
    "            A[j] = temp\n",
    "        gap //= 2\n",
    "data = [21,10,19,96,30,9,6,20,29]\n",
    "size = len(data)\n",
    "shellSort(data, size)\n",
    "print(data)"
   ]
  },
  {
   "cell_type": "code",
   "execution_count": 18,
   "metadata": {},
   "outputs": [
    {
     "name": "stdout",
     "output_type": "stream",
     "text": [
      "[1, 2, 3, 6, 6, 8, 9]\n"
     ]
    }
   ],
   "source": [
    "# Counting sort in Python programming\n",
    "def countingSort(array):\n",
    "    size = len(array)\n",
    "    output = [0] * size\n",
    "    count = [0] * 10\n",
    "    for i in range(0, size):\n",
    "        count[array[i]] += 1\n",
    "    for i in range(1, 10):\n",
    "        count[i] += count[i - 1]\n",
    "    i = size - 1\n",
    "    while i >= 0:\n",
    "        output[count[array[i]] - 1] = array[i]\n",
    "        count[array[i]] -= 1\n",
    "        i -= 1\n",
    "    for i in range(0, size):\n",
    "        array[i] = output[i]\n",
    "data = [1,6,3,8,6,2,9]\n",
    "countingSort(data)\n",
    "print(data)"
   ]
  },
  {
   "cell_type": "code",
   "execution_count": 19,
   "metadata": {},
   "outputs": [
    {
     "name": "stdout",
     "output_type": "stream",
     "text": [
      "Sorted Array in descending order is\n",
      "[0.32, 0.33, 0.37, 0.42, 0.47, 0.51, 0.52]\n"
     ]
    }
   ],
   "source": [
    "# Bucket Sort in Python programming\n",
    "def bucketSort(array): \n",
    "    bucket = [] \n",
    "    for i in range(len(array)): \n",
    "        bucket.append([])\n",
    "        \n",
    "    for j in array: \n",
    "        index_b = int(10 * j) \n",
    "        bucket[index_b].append(j) \n",
    "    \n",
    "    for i in range(len(array)): \n",
    "        bucket[i] = sorted(bucket[i])\n",
    "        \n",
    "    k = 0\n",
    "    for i in range(len(array)): \n",
    "        for j in range(len(bucket[i])): \n",
    "            array[k] = bucket[i][j] \n",
    "            k += 1\n",
    "    return array \n",
    "array = [.42, .32, .33, .52, .37, .47, .51] \n",
    "print(\"Sorted Array in descending order is\") \n",
    "print(bucketSort(array))"
   ]
  },
  {
   "cell_type": "code",
   "execution_count": null,
   "metadata": {},
   "outputs": [],
   "source": []
  }
 ],
 "metadata": {
  "kernelspec": {
   "display_name": "Python 3",
   "language": "python",
   "name": "python3"
  },
  "language_info": {
   "codemirror_mode": {
    "name": "ipython",
    "version": 3
   },
   "file_extension": ".py",
   "mimetype": "text/x-python",
   "name": "python",
   "nbconvert_exporter": "python",
   "pygments_lexer": "ipython3",
   "version": "3.6.6"
  }
 },
 "nbformat": 4,
 "nbformat_minor": 2
}
