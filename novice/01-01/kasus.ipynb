{
 "cells": [
  {
   "cell_type": "code",
   "execution_count": 11,
   "metadata": {},
   "outputs": [
    {
     "name": "stdout",
     "output_type": "stream",
     "text": [
      "[6, 9, 10, 19, 20, 21, 29, 30, 96]\n"
     ]
    }
   ],
   "source": [
    "# Insertion Sort\n",
    "def insertionSort(A):\n",
    "   for i in range(1,len(A)):\n",
    "\n",
    "     curNum = A[i]\n",
    "     position = i\n",
    "\n",
    "     while position>0 and A[position-1]>curNum:\n",
    "         A[position]=A[position-1]\n",
    "         position = position-1\n",
    "\n",
    "     A[position]=curNum\n",
    "\n",
    "A = [21,10,19,96,30,9,6,20,29]\n",
    "insertionSort(A)\n",
    "print(A)"
   ]
  },
  {
   "cell_type": "code",
   "execution_count": 12,
   "metadata": {},
   "outputs": [
    {
     "name": "stdout",
     "output_type": "stream",
     "text": [
      "[6, 9, 10, 19, 20, 21, 29, 30, 96]\n"
     ]
    }
   ],
   "source": [
    "# Selection sort\n",
    "def selectionSort(A, size):\n",
    "    for step in range(size):\n",
    "        min_idx = step\n",
    "        for i in range(step + 1, size):\n",
    "            # To sort in descending order, change > to < in this line.\n",
    "            if A[i] < A[min_idx]:\n",
    "                min_idx = i\n",
    "        (A[step], A[min_idx]) = (A[min_idx], A[step])\n",
    "data = [21,10,19,96,30,9,6,20,29]\n",
    "size = len(data)\n",
    "selectionSort(data, size)\n",
    "print(data)"
   ]
  },
  {
   "cell_type": "code",
   "execution_count": 13,
   "metadata": {},
   "outputs": [
    {
     "name": "stdout",
     "output_type": "stream",
     "text": [
      "[6, 9, 10, 19, 20, 21, 29, 30, 96]\n"
     ]
    }
   ],
   "source": [
    "# Shell Sort\n",
    "def shellSort(A, n):\n",
    "    gap = n // 2\n",
    "    while gap > 0:\n",
    "        for i in range(gap, n):\n",
    "            temp = A[i]\n",
    "            j = i\n",
    "            while j >= gap and A[j - gap] > temp:\n",
    "                A[j] = A[j - gap]\n",
    "                j -= gap\n",
    "            A[j] = temp\n",
    "        gap //= 2\n",
    "data = [21,10,19,96,30,9,6,20,29]\n",
    "size = len(data)\n",
    "shellSort(data, size)\n",
    "print(data)"
   ]
  },
  {
   "cell_type": "code",
   "execution_count": 14,
   "metadata": {},
   "outputs": [
    {
     "name": "stdout",
     "output_type": "stream",
     "text": [
      "[6, 9, 10, 19, 20, 21, 29, 30, 96]\n"
     ]
    }
   ],
   "source": [
    "# Python program for implementation of MergeSort \n",
    "def mergeSort(arr): \n",
    "    if len(arr) >1: \n",
    "        mid = len(arr)//2 #Finding the mid of the array \n",
    "        L = arr[:mid] # Dividing the array elements  \n",
    "        R = arr[mid:] # into 2 halves \n",
    "  \n",
    "        mergeSort(L) # Sorting the first half \n",
    "        mergeSort(R) # Sorting the second half \n",
    "  \n",
    "        i = j = k = 0\n",
    "          \n",
    "        # Copy data to temp arrays L[] and R[] \n",
    "        while i < len(L) and j < len(R): \n",
    "            if L[i] < R[j]: \n",
    "                arr[k] = L[i] \n",
    "                i+=1\n",
    "            else: \n",
    "                arr[k] = R[j] \n",
    "                j+=1\n",
    "            k+=1\n",
    "          \n",
    "        # Checking if any element was left \n",
    "        while i < len(L): \n",
    "            arr[k] = L[i] \n",
    "            i+=1\n",
    "            k+=1\n",
    "          \n",
    "        while j < len(R): \n",
    "            arr[k] = R[j] \n",
    "            j+=1\n",
    "            k+=1\n",
    "  \n",
    "  \n",
    "arr = [21,10,19,96,30,9,6,20,29]\n",
    "mergeSort(arr) \n",
    "print(arr)"
   ]
  },
  {
   "cell_type": "code",
   "execution_count": 15,
   "metadata": {},
   "outputs": [
    {
     "name": "stdout",
     "output_type": "stream",
     "text": [
      "[6, 9, 10, 19, 20, 21, 29, 30, 96]\n"
     ]
    }
   ],
   "source": [
    "def bubbleSort(nlist):\n",
    "    for passnum in range(len(nlist)-1,0,-1):\n",
    "        for i in range(passnum):\n",
    "            if nlist[i]>nlist[i+1]:\n",
    "                temp = nlist[i]\n",
    "                nlist[i] = nlist[i+1]\n",
    "                nlist[i+1] = temp\n",
    "\n",
    "nlist = [21,10,19,96,30,9,6,20,29]\n",
    "bubbleSort(nlist)\n",
    "print(nlist)"
   ]
  },
  {
   "cell_type": "code",
   "execution_count": null,
   "metadata": {},
   "outputs": [],
   "source": []
  }
 ],
 "metadata": {
  "kernelspec": {
   "display_name": "Python 3",
   "language": "python",
   "name": "python3"
  },
  "language_info": {
   "codemirror_mode": {
    "name": "ipython",
    "version": 3
   },
   "file_extension": ".py",
   "mimetype": "text/x-python",
   "name": "python",
   "nbconvert_exporter": "python",
   "pygments_lexer": "ipython3",
   "version": "3.6.6"
  }
 },
 "nbformat": 4,
 "nbformat_minor": 2
}
