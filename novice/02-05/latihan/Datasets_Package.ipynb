{
  "nbformat": 4,
  "nbformat_minor": 0,
  "metadata": {
    "colab": {
      "name": "Datasets Package.ipynb",
      "provenance": [],
      "collapsed_sections": []
    },
    "kernelspec": {
      "name": "python3",
      "display_name": "Python 3"
    }
  },
  "cells": [
    {
      "cell_type": "code",
      "metadata": {
        "id": "N3X12GmDf4MB",
        "colab_type": "code",
        "colab": {
          "base_uri": "https://localhost:8080/",
          "height": 1000
        },
        "outputId": "97fe625b-88c0-4f96-8b70-fd24f606b1c0"
      },
      "source": [
        "import statsmodels.api as sm\n",
        "\n",
        "GSSvocab_vocab = sm.datasets.get_rdataset(\"GSSvocab\", \"carData\")\n",
        "\n",
        "print(GSSvocab_vocab.__doc__)"
      ],
      "execution_count": 1,
      "outputs": [
        {
          "output_type": "stream",
          "text": [
            "+----------+-----------------+\n",
            "| GSSvocab | R Documentation |\n",
            "+----------+-----------------+\n",
            "\n",
            "Data from the General Social Survey (GSS) from the National Opinion Research Center of the University of Chicago.\n",
            "-----------------------------------------------------------------------------------------------------------------\n",
            "\n",
            "Description\n",
            "~~~~~~~~~~~\n",
            "\n",
            "This data set illustrates analyis of a multifactor observational study,\n",
            "with response given by subject's score on a vocabulary test, and factors\n",
            "for age group, education level, natality status, gender and year of the\n",
            "survey.\n",
            "\n",
            "Usage\n",
            "~~~~~\n",
            "\n",
            "::\n",
            "\n",
            "   data(\"GSSvocab\")\n",
            "\n",
            "Format\n",
            "~~~~~~\n",
            "\n",
            "A data frame with 28867 observations on the following 8 variables.\n",
            "\n",
            "``year``\n",
            "   a factor with levels ``1978`` ``1982`` ``1984`` ``1987`` ``1988``\n",
            "   ``1989`` ``1990`` ``1991`` ``1993`` ``1994`` ``1996`` ``1998``\n",
            "   ``2000`` ``2004`` ``2006`` ``2008`` ``2010`` ``2012`` ``2014``\n",
            "   ``2016``. Data are included from the GSS for each of these years.\n",
            "\n",
            "``gender``\n",
            "   a factor with levels ``female`` ``male``\n",
            "\n",
            "``nativeBorn``\n",
            "   Was the respondent born in the US? A factor with levels ``no`` and\n",
            "   ``yes``.\n",
            "\n",
            "``ageGroup``\n",
            "   a factor with levels ``18-29`` ``30-39`` ``40-49`` ``50-59`` ``60+``,\n",
            "   grouped age of the respondent.\n",
            "\n",
            "``educGroup``\n",
            "   a factor with levels ``<12 yrs`` ``12 yrs`` ``13-15 yrs`` ``16 yrs``\n",
            "   ``>16 yrs``, grouped education level of the respondent. 12 years\n",
            "   corresponds to high school graduate, 16 years to college graduate.\n",
            "\n",
            "``vocab``\n",
            "   Number of words out of 10 correct on a vocabulary test\n",
            "\n",
            "``age``\n",
            "   age of the respondent in years\n",
            "\n",
            "``educ``\n",
            "   years of education of the respondent\n",
            "\n",
            "Details\n",
            "~~~~~~~\n",
            "\n",
            "This file includes the years of the GSS for which the ``vocab`` and\n",
            "``nativeBorn`` items were included.\n",
            "\n",
            "Source\n",
            "~~~~~~\n",
            "\n",
            "These data were collected from the GSS data explorer\n",
            "https://gssdataexplorer.norc.org, using the data fields ``year``,\n",
            "``id_``, ``age``, ``educ``, ``sex``, ``born`` and ``wordsum``. The GSS\n",
            "began in 1972, and has included several thousand data items, some\n",
            "regularly and some only once, on topics of interest to social\n",
            "scientists. Data have been slightly edited to change entires like\n",
            "``No answer`` and ``Not applicable`` to missing value codes.\n",
            "\n",
            "Examples\n",
            "~~~~~~~~\n",
            "\n",
            "::\n",
            "\n",
            "   data(GSSvocab)\n",
            "\n"
          ],
          "name": "stdout"
        },
        {
          "output_type": "stream",
          "text": [
            "/usr/local/lib/python3.6/dist-packages/statsmodels/datasets/utils.py:185: FutureWarning: `item` has been deprecated and will be removed in a future version\n",
            "  return dataset_meta[\"Title\"].item()\n"
          ],
          "name": "stderr"
        }
      ]
    },
    {
      "cell_type": "code",
      "metadata": {
        "id": "97-HSqDhh5ba",
        "colab_type": "code",
        "colab": {
          "base_uri": "https://localhost:8080/",
          "height": 204
        },
        "outputId": "dd0d7e96-84d2-4855-87e7-2f70c33703fc"
      },
      "source": [
        "GSSvocab_vocab.data.head()"
      ],
      "execution_count": 2,
      "outputs": [
        {
          "output_type": "execute_result",
          "data": {
            "text/html": [
              "<div>\n",
              "<style scoped>\n",
              "    .dataframe tbody tr th:only-of-type {\n",
              "        vertical-align: middle;\n",
              "    }\n",
              "\n",
              "    .dataframe tbody tr th {\n",
              "        vertical-align: top;\n",
              "    }\n",
              "\n",
              "    .dataframe thead th {\n",
              "        text-align: right;\n",
              "    }\n",
              "</style>\n",
              "<table border=\"1\" class=\"dataframe\">\n",
              "  <thead>\n",
              "    <tr style=\"text-align: right;\">\n",
              "      <th></th>\n",
              "      <th>year</th>\n",
              "      <th>gender</th>\n",
              "      <th>nativeBorn</th>\n",
              "      <th>ageGroup</th>\n",
              "      <th>educGroup</th>\n",
              "      <th>vocab</th>\n",
              "      <th>age</th>\n",
              "      <th>educ</th>\n",
              "    </tr>\n",
              "  </thead>\n",
              "  <tbody>\n",
              "    <tr>\n",
              "      <th>1978.1</th>\n",
              "      <td>1978</td>\n",
              "      <td>female</td>\n",
              "      <td>yes</td>\n",
              "      <td>50-59</td>\n",
              "      <td>12 yrs</td>\n",
              "      <td>10.0</td>\n",
              "      <td>52.0</td>\n",
              "      <td>12.0</td>\n",
              "    </tr>\n",
              "    <tr>\n",
              "      <th>1978.2</th>\n",
              "      <td>1978</td>\n",
              "      <td>female</td>\n",
              "      <td>yes</td>\n",
              "      <td>60+</td>\n",
              "      <td>&lt;12 yrs</td>\n",
              "      <td>6.0</td>\n",
              "      <td>74.0</td>\n",
              "      <td>9.0</td>\n",
              "    </tr>\n",
              "    <tr>\n",
              "      <th>1978.3</th>\n",
              "      <td>1978</td>\n",
              "      <td>male</td>\n",
              "      <td>yes</td>\n",
              "      <td>30-39</td>\n",
              "      <td>&lt;12 yrs</td>\n",
              "      <td>4.0</td>\n",
              "      <td>35.0</td>\n",
              "      <td>10.0</td>\n",
              "    </tr>\n",
              "    <tr>\n",
              "      <th>1978.4</th>\n",
              "      <td>1978</td>\n",
              "      <td>female</td>\n",
              "      <td>yes</td>\n",
              "      <td>50-59</td>\n",
              "      <td>12 yrs</td>\n",
              "      <td>9.0</td>\n",
              "      <td>50.0</td>\n",
              "      <td>12.0</td>\n",
              "    </tr>\n",
              "    <tr>\n",
              "      <th>1978.5</th>\n",
              "      <td>1978</td>\n",
              "      <td>female</td>\n",
              "      <td>yes</td>\n",
              "      <td>40-49</td>\n",
              "      <td>12 yrs</td>\n",
              "      <td>6.0</td>\n",
              "      <td>41.0</td>\n",
              "      <td>12.0</td>\n",
              "    </tr>\n",
              "  </tbody>\n",
              "</table>\n",
              "</div>"
            ],
            "text/plain": [
              "        year  gender nativeBorn ageGroup educGroup  vocab   age  educ\n",
              "1978.1  1978  female        yes    50-59    12 yrs   10.0  52.0  12.0\n",
              "1978.2  1978  female        yes      60+   <12 yrs    6.0  74.0   9.0\n",
              "1978.3  1978    male        yes    30-39   <12 yrs    4.0  35.0  10.0\n",
              "1978.4  1978  female        yes    50-59    12 yrs    9.0  50.0  12.0\n",
              "1978.5  1978  female        yes    40-49    12 yrs    6.0  41.0  12.0"
            ]
          },
          "metadata": {
            "tags": []
          },
          "execution_count": 2
        }
      ]
    },
    {
      "cell_type": "code",
      "metadata": {
        "id": "3nEwrS56ipkx",
        "colab_type": "code",
        "colab": {}
      },
      "source": [
        "import statsmodels.api as sm\n",
        "\n",
        "data = sm.datasets.stackloss.load_pandas()"
      ],
      "execution_count": 0,
      "outputs": []
    },
    {
      "cell_type": "code",
      "metadata": {
        "id": "giFjPg9ZkKTW",
        "colab_type": "code",
        "colab": {
          "base_uri": "https://localhost:8080/",
          "height": 700
        },
        "outputId": "c72cdab0-f953-4d7f-cd7d-c12d750d6556"
      },
      "source": [
        "data.data"
      ],
      "execution_count": 10,
      "outputs": [
        {
          "output_type": "execute_result",
          "data": {
            "text/html": [
              "<div>\n",
              "<style scoped>\n",
              "    .dataframe tbody tr th:only-of-type {\n",
              "        vertical-align: middle;\n",
              "    }\n",
              "\n",
              "    .dataframe tbody tr th {\n",
              "        vertical-align: top;\n",
              "    }\n",
              "\n",
              "    .dataframe thead th {\n",
              "        text-align: right;\n",
              "    }\n",
              "</style>\n",
              "<table border=\"1\" class=\"dataframe\">\n",
              "  <thead>\n",
              "    <tr style=\"text-align: right;\">\n",
              "      <th></th>\n",
              "      <th>STACKLOSS</th>\n",
              "      <th>AIRFLOW</th>\n",
              "      <th>WATERTEMP</th>\n",
              "      <th>ACIDCONC</th>\n",
              "    </tr>\n",
              "  </thead>\n",
              "  <tbody>\n",
              "    <tr>\n",
              "      <th>0</th>\n",
              "      <td>42.0</td>\n",
              "      <td>80.0</td>\n",
              "      <td>27.0</td>\n",
              "      <td>89.0</td>\n",
              "    </tr>\n",
              "    <tr>\n",
              "      <th>1</th>\n",
              "      <td>37.0</td>\n",
              "      <td>80.0</td>\n",
              "      <td>27.0</td>\n",
              "      <td>88.0</td>\n",
              "    </tr>\n",
              "    <tr>\n",
              "      <th>2</th>\n",
              "      <td>37.0</td>\n",
              "      <td>75.0</td>\n",
              "      <td>25.0</td>\n",
              "      <td>90.0</td>\n",
              "    </tr>\n",
              "    <tr>\n",
              "      <th>3</th>\n",
              "      <td>28.0</td>\n",
              "      <td>62.0</td>\n",
              "      <td>24.0</td>\n",
              "      <td>87.0</td>\n",
              "    </tr>\n",
              "    <tr>\n",
              "      <th>4</th>\n",
              "      <td>18.0</td>\n",
              "      <td>62.0</td>\n",
              "      <td>22.0</td>\n",
              "      <td>87.0</td>\n",
              "    </tr>\n",
              "    <tr>\n",
              "      <th>5</th>\n",
              "      <td>18.0</td>\n",
              "      <td>62.0</td>\n",
              "      <td>23.0</td>\n",
              "      <td>87.0</td>\n",
              "    </tr>\n",
              "    <tr>\n",
              "      <th>6</th>\n",
              "      <td>19.0</td>\n",
              "      <td>62.0</td>\n",
              "      <td>24.0</td>\n",
              "      <td>93.0</td>\n",
              "    </tr>\n",
              "    <tr>\n",
              "      <th>7</th>\n",
              "      <td>20.0</td>\n",
              "      <td>62.0</td>\n",
              "      <td>24.0</td>\n",
              "      <td>93.0</td>\n",
              "    </tr>\n",
              "    <tr>\n",
              "      <th>8</th>\n",
              "      <td>15.0</td>\n",
              "      <td>58.0</td>\n",
              "      <td>23.0</td>\n",
              "      <td>87.0</td>\n",
              "    </tr>\n",
              "    <tr>\n",
              "      <th>9</th>\n",
              "      <td>14.0</td>\n",
              "      <td>58.0</td>\n",
              "      <td>18.0</td>\n",
              "      <td>80.0</td>\n",
              "    </tr>\n",
              "    <tr>\n",
              "      <th>10</th>\n",
              "      <td>14.0</td>\n",
              "      <td>58.0</td>\n",
              "      <td>18.0</td>\n",
              "      <td>89.0</td>\n",
              "    </tr>\n",
              "    <tr>\n",
              "      <th>11</th>\n",
              "      <td>13.0</td>\n",
              "      <td>58.0</td>\n",
              "      <td>17.0</td>\n",
              "      <td>88.0</td>\n",
              "    </tr>\n",
              "    <tr>\n",
              "      <th>12</th>\n",
              "      <td>11.0</td>\n",
              "      <td>58.0</td>\n",
              "      <td>18.0</td>\n",
              "      <td>82.0</td>\n",
              "    </tr>\n",
              "    <tr>\n",
              "      <th>13</th>\n",
              "      <td>12.0</td>\n",
              "      <td>58.0</td>\n",
              "      <td>19.0</td>\n",
              "      <td>93.0</td>\n",
              "    </tr>\n",
              "    <tr>\n",
              "      <th>14</th>\n",
              "      <td>8.0</td>\n",
              "      <td>50.0</td>\n",
              "      <td>18.0</td>\n",
              "      <td>89.0</td>\n",
              "    </tr>\n",
              "    <tr>\n",
              "      <th>15</th>\n",
              "      <td>7.0</td>\n",
              "      <td>50.0</td>\n",
              "      <td>18.0</td>\n",
              "      <td>86.0</td>\n",
              "    </tr>\n",
              "    <tr>\n",
              "      <th>16</th>\n",
              "      <td>8.0</td>\n",
              "      <td>50.0</td>\n",
              "      <td>19.0</td>\n",
              "      <td>72.0</td>\n",
              "    </tr>\n",
              "    <tr>\n",
              "      <th>17</th>\n",
              "      <td>8.0</td>\n",
              "      <td>50.0</td>\n",
              "      <td>19.0</td>\n",
              "      <td>79.0</td>\n",
              "    </tr>\n",
              "    <tr>\n",
              "      <th>18</th>\n",
              "      <td>9.0</td>\n",
              "      <td>50.0</td>\n",
              "      <td>20.0</td>\n",
              "      <td>80.0</td>\n",
              "    </tr>\n",
              "    <tr>\n",
              "      <th>19</th>\n",
              "      <td>15.0</td>\n",
              "      <td>56.0</td>\n",
              "      <td>20.0</td>\n",
              "      <td>82.0</td>\n",
              "    </tr>\n",
              "    <tr>\n",
              "      <th>20</th>\n",
              "      <td>15.0</td>\n",
              "      <td>70.0</td>\n",
              "      <td>20.0</td>\n",
              "      <td>91.0</td>\n",
              "    </tr>\n",
              "  </tbody>\n",
              "</table>\n",
              "</div>"
            ],
            "text/plain": [
              "    STACKLOSS  AIRFLOW  WATERTEMP  ACIDCONC\n",
              "0        42.0     80.0       27.0      89.0\n",
              "1        37.0     80.0       27.0      88.0\n",
              "2        37.0     75.0       25.0      90.0\n",
              "3        28.0     62.0       24.0      87.0\n",
              "4        18.0     62.0       22.0      87.0\n",
              "5        18.0     62.0       23.0      87.0\n",
              "6        19.0     62.0       24.0      93.0\n",
              "7        20.0     62.0       24.0      93.0\n",
              "8        15.0     58.0       23.0      87.0\n",
              "9        14.0     58.0       18.0      80.0\n",
              "10       14.0     58.0       18.0      89.0\n",
              "11       13.0     58.0       17.0      88.0\n",
              "12       11.0     58.0       18.0      82.0\n",
              "13       12.0     58.0       19.0      93.0\n",
              "14        8.0     50.0       18.0      89.0\n",
              "15        7.0     50.0       18.0      86.0\n",
              "16        8.0     50.0       19.0      72.0\n",
              "17        8.0     50.0       19.0      79.0\n",
              "18        9.0     50.0       20.0      80.0\n",
              "19       15.0     56.0       20.0      82.0\n",
              "20       15.0     70.0       20.0      91.0"
            ]
          },
          "metadata": {
            "tags": []
          },
          "execution_count": 10
        }
      ]
    },
    {
      "cell_type": "code",
      "metadata": {
        "id": "NEGAO4h8lCyH",
        "colab_type": "code",
        "colab": {
          "base_uri": "https://localhost:8080/",
          "height": 125
        },
        "outputId": "7c93a525-c74f-46bc-fd19-f9a488e81e9d"
      },
      "source": [
        "data.endog.iloc[:5]"
      ],
      "execution_count": 11,
      "outputs": [
        {
          "output_type": "execute_result",
          "data": {
            "text/plain": [
              "0    42.0\n",
              "1    37.0\n",
              "2    37.0\n",
              "3    28.0\n",
              "4    18.0\n",
              "Name: STACKLOSS, dtype: float64"
            ]
          },
          "metadata": {
            "tags": []
          },
          "execution_count": 11
        }
      ]
    },
    {
      "cell_type": "code",
      "metadata": {
        "id": "W8gnOOzglPUK",
        "colab_type": "code",
        "colab": {
          "base_uri": "https://localhost:8080/",
          "height": 204
        },
        "outputId": "37286bec-3d0b-471e-d81e-06056d6df0d7"
      },
      "source": [
        "data.exog.iloc[:5,:]"
      ],
      "execution_count": 16,
      "outputs": [
        {
          "output_type": "execute_result",
          "data": {
            "text/html": [
              "<div>\n",
              "<style scoped>\n",
              "    .dataframe tbody tr th:only-of-type {\n",
              "        vertical-align: middle;\n",
              "    }\n",
              "\n",
              "    .dataframe tbody tr th {\n",
              "        vertical-align: top;\n",
              "    }\n",
              "\n",
              "    .dataframe thead th {\n",
              "        text-align: right;\n",
              "    }\n",
              "</style>\n",
              "<table border=\"1\" class=\"dataframe\">\n",
              "  <thead>\n",
              "    <tr style=\"text-align: right;\">\n",
              "      <th></th>\n",
              "      <th>AIRFLOW</th>\n",
              "      <th>WATERTEMP</th>\n",
              "      <th>ACIDCONC</th>\n",
              "    </tr>\n",
              "  </thead>\n",
              "  <tbody>\n",
              "    <tr>\n",
              "      <th>0</th>\n",
              "      <td>80.0</td>\n",
              "      <td>27.0</td>\n",
              "      <td>89.0</td>\n",
              "    </tr>\n",
              "    <tr>\n",
              "      <th>1</th>\n",
              "      <td>80.0</td>\n",
              "      <td>27.0</td>\n",
              "      <td>88.0</td>\n",
              "    </tr>\n",
              "    <tr>\n",
              "      <th>2</th>\n",
              "      <td>75.0</td>\n",
              "      <td>25.0</td>\n",
              "      <td>90.0</td>\n",
              "    </tr>\n",
              "    <tr>\n",
              "      <th>3</th>\n",
              "      <td>62.0</td>\n",
              "      <td>24.0</td>\n",
              "      <td>87.0</td>\n",
              "    </tr>\n",
              "    <tr>\n",
              "      <th>4</th>\n",
              "      <td>62.0</td>\n",
              "      <td>22.0</td>\n",
              "      <td>87.0</td>\n",
              "    </tr>\n",
              "  </tbody>\n",
              "</table>\n",
              "</div>"
            ],
            "text/plain": [
              "   AIRFLOW  WATERTEMP  ACIDCONC\n",
              "0     80.0       27.0      89.0\n",
              "1     80.0       27.0      88.0\n",
              "2     75.0       25.0      90.0\n",
              "3     62.0       24.0      87.0\n",
              "4     62.0       22.0      87.0"
            ]
          },
          "metadata": {
            "tags": []
          },
          "execution_count": 16
        }
      ]
    },
    {
      "cell_type": "code",
      "metadata": {
        "id": "ZisikurulwNw",
        "colab_type": "code",
        "colab": {
          "base_uri": "https://localhost:8080/",
          "height": 35
        },
        "outputId": "736e2f34-ecd7-49e0-b004-02fca4dc1e4a"
      },
      "source": [
        "data.endog_name"
      ],
      "execution_count": 17,
      "outputs": [
        {
          "output_type": "execute_result",
          "data": {
            "text/plain": [
              "'STACKLOSS'"
            ]
          },
          "metadata": {
            "tags": []
          },
          "execution_count": 17
        }
      ]
    },
    {
      "cell_type": "code",
      "metadata": {
        "id": "WfxpMp0ll6Va",
        "colab_type": "code",
        "colab": {
          "base_uri": "https://localhost:8080/",
          "height": 35
        },
        "outputId": "4da0af09-c224-4e9d-aff6-55edaf1a036c"
      },
      "source": [
        "data.exog_name"
      ],
      "execution_count": 18,
      "outputs": [
        {
          "output_type": "execute_result",
          "data": {
            "text/plain": [
              "['AIRFLOW', 'WATERTEMP', 'ACIDCONC']"
            ]
          },
          "metadata": {
            "tags": []
          },
          "execution_count": 18
        }
      ]
    },
    {
      "cell_type": "code",
      "metadata": {
        "id": "TAgXRSiZl_Ot",
        "colab_type": "code",
        "colab": {
          "base_uri": "https://localhost:8080/",
          "height": 35
        },
        "outputId": "d5cec095-49ec-4b1f-83aa-c2711a4f211e"
      },
      "source": [
        "type(data.data)"
      ],
      "execution_count": 19,
      "outputs": [
        {
          "output_type": "execute_result",
          "data": {
            "text/plain": [
              "pandas.core.frame.DataFrame"
            ]
          },
          "metadata": {
            "tags": []
          },
          "execution_count": 19
        }
      ]
    },
    {
      "cell_type": "code",
      "metadata": {
        "id": "_qJwi8eSmI9P",
        "colab_type": "code",
        "colab": {
          "base_uri": "https://localhost:8080/",
          "height": 35
        },
        "outputId": "5f10bde8-f235-4d33-f84f-74da3f810b79"
      },
      "source": [
        "data.names"
      ],
      "execution_count": 20,
      "outputs": [
        {
          "output_type": "execute_result",
          "data": {
            "text/plain": [
              "['STACKLOSS', 'AIRFLOW', 'WATERTEMP', 'ACIDCONC']"
            ]
          },
          "metadata": {
            "tags": []
          },
          "execution_count": 20
        }
      ]
    },
    {
      "cell_type": "code",
      "metadata": {
        "id": "hvK8teUlmbuG",
        "colab_type": "code",
        "colab": {
          "base_uri": "https://localhost:8080/",
          "height": 700
        },
        "outputId": "f4a627bc-6dbe-48a8-c9b1-7f0adfef4c53"
      },
      "source": [
        "data.exog"
      ],
      "execution_count": 21,
      "outputs": [
        {
          "output_type": "execute_result",
          "data": {
            "text/html": [
              "<div>\n",
              "<style scoped>\n",
              "    .dataframe tbody tr th:only-of-type {\n",
              "        vertical-align: middle;\n",
              "    }\n",
              "\n",
              "    .dataframe tbody tr th {\n",
              "        vertical-align: top;\n",
              "    }\n",
              "\n",
              "    .dataframe thead th {\n",
              "        text-align: right;\n",
              "    }\n",
              "</style>\n",
              "<table border=\"1\" class=\"dataframe\">\n",
              "  <thead>\n",
              "    <tr style=\"text-align: right;\">\n",
              "      <th></th>\n",
              "      <th>AIRFLOW</th>\n",
              "      <th>WATERTEMP</th>\n",
              "      <th>ACIDCONC</th>\n",
              "    </tr>\n",
              "  </thead>\n",
              "  <tbody>\n",
              "    <tr>\n",
              "      <th>0</th>\n",
              "      <td>80.0</td>\n",
              "      <td>27.0</td>\n",
              "      <td>89.0</td>\n",
              "    </tr>\n",
              "    <tr>\n",
              "      <th>1</th>\n",
              "      <td>80.0</td>\n",
              "      <td>27.0</td>\n",
              "      <td>88.0</td>\n",
              "    </tr>\n",
              "    <tr>\n",
              "      <th>2</th>\n",
              "      <td>75.0</td>\n",
              "      <td>25.0</td>\n",
              "      <td>90.0</td>\n",
              "    </tr>\n",
              "    <tr>\n",
              "      <th>3</th>\n",
              "      <td>62.0</td>\n",
              "      <td>24.0</td>\n",
              "      <td>87.0</td>\n",
              "    </tr>\n",
              "    <tr>\n",
              "      <th>4</th>\n",
              "      <td>62.0</td>\n",
              "      <td>22.0</td>\n",
              "      <td>87.0</td>\n",
              "    </tr>\n",
              "    <tr>\n",
              "      <th>5</th>\n",
              "      <td>62.0</td>\n",
              "      <td>23.0</td>\n",
              "      <td>87.0</td>\n",
              "    </tr>\n",
              "    <tr>\n",
              "      <th>6</th>\n",
              "      <td>62.0</td>\n",
              "      <td>24.0</td>\n",
              "      <td>93.0</td>\n",
              "    </tr>\n",
              "    <tr>\n",
              "      <th>7</th>\n",
              "      <td>62.0</td>\n",
              "      <td>24.0</td>\n",
              "      <td>93.0</td>\n",
              "    </tr>\n",
              "    <tr>\n",
              "      <th>8</th>\n",
              "      <td>58.0</td>\n",
              "      <td>23.0</td>\n",
              "      <td>87.0</td>\n",
              "    </tr>\n",
              "    <tr>\n",
              "      <th>9</th>\n",
              "      <td>58.0</td>\n",
              "      <td>18.0</td>\n",
              "      <td>80.0</td>\n",
              "    </tr>\n",
              "    <tr>\n",
              "      <th>10</th>\n",
              "      <td>58.0</td>\n",
              "      <td>18.0</td>\n",
              "      <td>89.0</td>\n",
              "    </tr>\n",
              "    <tr>\n",
              "      <th>11</th>\n",
              "      <td>58.0</td>\n",
              "      <td>17.0</td>\n",
              "      <td>88.0</td>\n",
              "    </tr>\n",
              "    <tr>\n",
              "      <th>12</th>\n",
              "      <td>58.0</td>\n",
              "      <td>18.0</td>\n",
              "      <td>82.0</td>\n",
              "    </tr>\n",
              "    <tr>\n",
              "      <th>13</th>\n",
              "      <td>58.0</td>\n",
              "      <td>19.0</td>\n",
              "      <td>93.0</td>\n",
              "    </tr>\n",
              "    <tr>\n",
              "      <th>14</th>\n",
              "      <td>50.0</td>\n",
              "      <td>18.0</td>\n",
              "      <td>89.0</td>\n",
              "    </tr>\n",
              "    <tr>\n",
              "      <th>15</th>\n",
              "      <td>50.0</td>\n",
              "      <td>18.0</td>\n",
              "      <td>86.0</td>\n",
              "    </tr>\n",
              "    <tr>\n",
              "      <th>16</th>\n",
              "      <td>50.0</td>\n",
              "      <td>19.0</td>\n",
              "      <td>72.0</td>\n",
              "    </tr>\n",
              "    <tr>\n",
              "      <th>17</th>\n",
              "      <td>50.0</td>\n",
              "      <td>19.0</td>\n",
              "      <td>79.0</td>\n",
              "    </tr>\n",
              "    <tr>\n",
              "      <th>18</th>\n",
              "      <td>50.0</td>\n",
              "      <td>20.0</td>\n",
              "      <td>80.0</td>\n",
              "    </tr>\n",
              "    <tr>\n",
              "      <th>19</th>\n",
              "      <td>56.0</td>\n",
              "      <td>20.0</td>\n",
              "      <td>82.0</td>\n",
              "    </tr>\n",
              "    <tr>\n",
              "      <th>20</th>\n",
              "      <td>70.0</td>\n",
              "      <td>20.0</td>\n",
              "      <td>91.0</td>\n",
              "    </tr>\n",
              "  </tbody>\n",
              "</table>\n",
              "</div>"
            ],
            "text/plain": [
              "    AIRFLOW  WATERTEMP  ACIDCONC\n",
              "0      80.0       27.0      89.0\n",
              "1      80.0       27.0      88.0\n",
              "2      75.0       25.0      90.0\n",
              "3      62.0       24.0      87.0\n",
              "4      62.0       22.0      87.0\n",
              "5      62.0       23.0      87.0\n",
              "6      62.0       24.0      93.0\n",
              "7      62.0       24.0      93.0\n",
              "8      58.0       23.0      87.0\n",
              "9      58.0       18.0      80.0\n",
              "10     58.0       18.0      89.0\n",
              "11     58.0       17.0      88.0\n",
              "12     58.0       18.0      82.0\n",
              "13     58.0       19.0      93.0\n",
              "14     50.0       18.0      89.0\n",
              "15     50.0       18.0      86.0\n",
              "16     50.0       19.0      72.0\n",
              "17     50.0       19.0      79.0\n",
              "18     50.0       20.0      80.0\n",
              "19     56.0       20.0      82.0\n",
              "20     70.0       20.0      91.0"
            ]
          },
          "metadata": {
            "tags": []
          },
          "execution_count": 21
        }
      ]
    },
    {
      "cell_type": "code",
      "metadata": {
        "id": "foCSWiTqmgtx",
        "colab_type": "code",
        "colab": {
          "base_uri": "https://localhost:8080/",
          "height": 413
        },
        "outputId": "9fc5516a-4434-4fad-fb3c-539ba41bb50a"
      },
      "source": [
        "data.endog"
      ],
      "execution_count": 22,
      "outputs": [
        {
          "output_type": "execute_result",
          "data": {
            "text/plain": [
              "0     42.0\n",
              "1     37.0\n",
              "2     37.0\n",
              "3     28.0\n",
              "4     18.0\n",
              "5     18.0\n",
              "6     19.0\n",
              "7     20.0\n",
              "8     15.0\n",
              "9     14.0\n",
              "10    14.0\n",
              "11    13.0\n",
              "12    11.0\n",
              "13    12.0\n",
              "14     8.0\n",
              "15     7.0\n",
              "16     8.0\n",
              "17     8.0\n",
              "18     9.0\n",
              "19    15.0\n",
              "20    15.0\n",
              "Name: STACKLOSS, dtype: float64"
            ]
          },
          "metadata": {
            "tags": []
          },
          "execution_count": 22
        }
      ]
    },
    {
      "cell_type": "code",
      "metadata": {
        "id": "jchrE-jmmqLM",
        "colab_type": "code",
        "colab": {
          "base_uri": "https://localhost:8080/",
          "height": 89
        },
        "outputId": "12d5b24a-218b-491d-bb64-457b5551eb67"
      },
      "source": [
        "y, x = data.endog, data.exog\n",
        "res = sm.OLS(y, x).fit()\n",
        "res.params"
      ],
      "execution_count": 23,
      "outputs": [
        {
          "output_type": "execute_result",
          "data": {
            "text/plain": [
              "AIRFLOW      0.796765\n",
              "WATERTEMP    1.111422\n",
              "ACIDCONC    -0.624993\n",
              "dtype: float64"
            ]
          },
          "metadata": {
            "tags": []
          },
          "execution_count": 23
        }
      ]
    },
    {
      "cell_type": "code",
      "metadata": {
        "id": "r8s0OSs-m8lW",
        "colab_type": "code",
        "colab": {
          "base_uri": "https://localhost:8080/",
          "height": 465
        },
        "outputId": "419af2ff-ce4a-46e0-9a09-0074c1152cd2"
      },
      "source": [
        "res.summary()"
      ],
      "execution_count": 24,
      "outputs": [
        {
          "output_type": "execute_result",
          "data": {
            "text/html": [
              "<table class=\"simpletable\">\n",
              "<caption>OLS Regression Results</caption>\n",
              "<tr>\n",
              "  <th>Dep. Variable:</th>        <td>STACKLOSS</td>    <th>  R-squared (uncentered):</th>      <td>   0.965</td>\n",
              "</tr>\n",
              "<tr>\n",
              "  <th>Model:</th>                   <td>OLS</td>       <th>  Adj. R-squared (uncentered):</th> <td>   0.959</td>\n",
              "</tr>\n",
              "<tr>\n",
              "  <th>Method:</th>             <td>Least Squares</td>  <th>  F-statistic:       </th>          <td>   165.9</td>\n",
              "</tr>\n",
              "<tr>\n",
              "  <th>Date:</th>             <td>Thu, 12 Dec 2019</td> <th>  Prob (F-statistic):</th>          <td>2.66e-13</td>\n",
              "</tr>\n",
              "<tr>\n",
              "  <th>Time:</th>                 <td>05:36:42</td>     <th>  Log-Likelihood:    </th>          <td> -57.625</td>\n",
              "</tr>\n",
              "<tr>\n",
              "  <th>No. Observations:</th>      <td>    21</td>      <th>  AIC:               </th>          <td>   121.2</td>\n",
              "</tr>\n",
              "<tr>\n",
              "  <th>Df Residuals:</th>          <td>    18</td>      <th>  BIC:               </th>          <td>   124.4</td>\n",
              "</tr>\n",
              "<tr>\n",
              "  <th>Df Model:</th>              <td>     3</td>      <th>                     </th>              <td> </td>   \n",
              "</tr>\n",
              "<tr>\n",
              "  <th>Covariance Type:</th>      <td>nonrobust</td>    <th>                     </th>              <td> </td>   \n",
              "</tr>\n",
              "</table>\n",
              "<table class=\"simpletable\">\n",
              "<tr>\n",
              "      <td></td>         <th>coef</th>     <th>std err</th>      <th>t</th>      <th>P>|t|</th>  <th>[0.025</th>    <th>0.975]</th>  \n",
              "</tr>\n",
              "<tr>\n",
              "  <th>AIRFLOW</th>   <td>    0.7968</td> <td>    0.166</td> <td>    4.793</td> <td> 0.000</td> <td>    0.448</td> <td>    1.146</td>\n",
              "</tr>\n",
              "<tr>\n",
              "  <th>WATERTEMP</th> <td>    1.1114</td> <td>    0.456</td> <td>    2.437</td> <td> 0.025</td> <td>    0.153</td> <td>    2.069</td>\n",
              "</tr>\n",
              "<tr>\n",
              "  <th>ACIDCONC</th>  <td>   -0.6250</td> <td>    0.085</td> <td>   -7.378</td> <td> 0.000</td> <td>   -0.803</td> <td>   -0.447</td>\n",
              "</tr>\n",
              "</table>\n",
              "<table class=\"simpletable\">\n",
              "<tr>\n",
              "  <th>Omnibus:</th>       <td> 0.555</td> <th>  Durbin-Watson:     </th> <td>   1.520</td>\n",
              "</tr>\n",
              "<tr>\n",
              "  <th>Prob(Omnibus):</th> <td> 0.758</td> <th>  Jarque-Bera (JB):  </th> <td>   0.614</td>\n",
              "</tr>\n",
              "<tr>\n",
              "  <th>Skew:</th>          <td>-0.136</td> <th>  Prob(JB):          </th> <td>   0.736</td>\n",
              "</tr>\n",
              "<tr>\n",
              "  <th>Kurtosis:</th>      <td> 2.207</td> <th>  Cond. No.          </th> <td>    57.5</td>\n",
              "</tr>\n",
              "</table><br/><br/>Warnings:<br/>[1] Standard Errors assume that the covariance matrix of the errors is correctly specified."
            ],
            "text/plain": [
              "<class 'statsmodels.iolib.summary.Summary'>\n",
              "\"\"\"\n",
              "                                 OLS Regression Results                                \n",
              "=======================================================================================\n",
              "Dep. Variable:              STACKLOSS   R-squared (uncentered):                   0.965\n",
              "Model:                            OLS   Adj. R-squared (uncentered):              0.959\n",
              "Method:                 Least Squares   F-statistic:                              165.9\n",
              "Date:                Thu, 12 Dec 2019   Prob (F-statistic):                    2.66e-13\n",
              "Time:                        05:36:42   Log-Likelihood:                         -57.625\n",
              "No. Observations:                  21   AIC:                                      121.2\n",
              "Df Residuals:                      18   BIC:                                      124.4\n",
              "Df Model:                           3                                                  \n",
              "Covariance Type:            nonrobust                                                  \n",
              "==============================================================================\n",
              "                 coef    std err          t      P>|t|      [0.025      0.975]\n",
              "------------------------------------------------------------------------------\n",
              "AIRFLOW        0.7968      0.166      4.793      0.000       0.448       1.146\n",
              "WATERTEMP      1.1114      0.456      2.437      0.025       0.153       2.069\n",
              "ACIDCONC      -0.6250      0.085     -7.378      0.000      -0.803      -0.447\n",
              "==============================================================================\n",
              "Omnibus:                        0.555   Durbin-Watson:                   1.520\n",
              "Prob(Omnibus):                  0.758   Jarque-Bera (JB):                0.614\n",
              "Skew:                          -0.136   Prob(JB):                        0.736\n",
              "Kurtosis:                       2.207   Cond. No.                         57.5\n",
              "==============================================================================\n",
              "\n",
              "Warnings:\n",
              "[1] Standard Errors assume that the covariance matrix of the errors is correctly specified.\n",
              "\"\"\""
            ]
          },
          "metadata": {
            "tags": []
          },
          "execution_count": 24
        }
      ]
    },
    {
      "cell_type": "code",
      "metadata": {
        "id": "1OECDST8nJMN",
        "colab_type": "code",
        "colab": {
          "base_uri": "https://localhost:8080/",
          "height": 35
        },
        "outputId": "98297e14-f52b-41a8-b666-92e6752f5bbc"
      },
      "source": [
        "dir(sm.datasets.stackloss)[:6]"
      ],
      "execution_count": 28,
      "outputs": [
        {
          "output_type": "execute_result",
          "data": {
            "text/plain": [
              "['COPYRIGHT', 'DESCRLONG', 'DESCRSHORT', 'NOTE', 'SOURCE', 'TITLE']"
            ]
          },
          "metadata": {
            "tags": []
          },
          "execution_count": 28
        }
      ]
    }
  ]
}