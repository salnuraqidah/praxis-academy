{
  "nbformat": 4,
  "nbformat_minor": 0,
  "metadata": {
    "colab": {
      "name": "Ordinary Least Squares.ipynb",
      "provenance": [],
      "collapsed_sections": []
    },
    "kernelspec": {
      "name": "python3",
      "display_name": "Python 3"
    }
  },
  "cells": [
    {
      "cell_type": "code",
      "metadata": {
        "id": "hPZn5KaUrnJL",
        "colab_type": "code",
        "colab": {
          "base_uri": "https://localhost:8080/",
          "height": 35
        },
        "outputId": "b60a1383-de8b-4927-ce2c-1a7e82e6b49d"
      },
      "source": [
        "from __future__ import print_function\n",
        "import numpy as np\n",
        "import statsmodels.api as sm\n",
        "import matplotlib.pyplot as plt\n",
        "from statsmodels.sandbox.regression.predstd import wls_prediction_std\n",
        "\n",
        "a= np.random.seed(100)\n",
        "print(a)"
      ],
      "execution_count": 7,
      "outputs": [
        {
          "output_type": "stream",
          "text": [
            "None\n"
          ],
          "name": "stdout"
        }
      ]
    },
    {
      "cell_type": "code",
      "metadata": {
        "id": "pY3zlwspsTqw",
        "colab_type": "code",
        "colab": {}
      },
      "source": [
        "nsample = 100\n",
        "x = np.linspace(0, 10, 100)\n",
        "X = np.column_stack((x, x**2))\n",
        "beta = np.array([1, 0.1, 10])\n",
        "e = np.random.normal(size=nsample)"
      ],
      "execution_count": 0,
      "outputs": []
    },
    {
      "cell_type": "code",
      "metadata": {
        "id": "x01kuj8vswQN",
        "colab_type": "code",
        "colab": {}
      },
      "source": [
        "X = sm.add_constant(X)\n",
        "y = np.dot(X, beta) + e"
      ],
      "execution_count": 0,
      "outputs": []
    },
    {
      "cell_type": "code",
      "metadata": {
        "id": "AJ0FZucEtkzk",
        "colab_type": "code",
        "colab": {
          "base_uri": "https://localhost:8080/",
          "height": 485
        },
        "outputId": "d1ef591d-1a51-4854-a4a2-66cccb1d6102"
      },
      "source": [
        "model = sm.OLS(y, X)\n",
        "results = model.fit()\n",
        "print(results.summary())"
      ],
      "execution_count": 9,
      "outputs": [
        {
          "output_type": "stream",
          "text": [
            "                            OLS Regression Results                            \n",
            "==============================================================================\n",
            "Dep. Variable:                      y   R-squared:                       1.000\n",
            "Model:                            OLS   Adj. R-squared:                  1.000\n",
            "Method:                 Least Squares   F-statistic:                 4.020e+06\n",
            "Date:                Thu, 12 Dec 2019   Prob (F-statistic):          2.83e-239\n",
            "Time:                        06:06:22   Log-Likelihood:                -146.51\n",
            "No. Observations:                 100   AIC:                             299.0\n",
            "Df Residuals:                      97   BIC:                             306.8\n",
            "Df Model:                           2                                         \n",
            "Covariance Type:            nonrobust                                         \n",
            "==============================================================================\n",
            "                 coef    std err          t      P>|t|      [0.025      0.975]\n",
            "------------------------------------------------------------------------------\n",
            "const          1.3423      0.313      4.292      0.000       0.722       1.963\n",
            "x1            -0.0402      0.145     -0.278      0.781      -0.327       0.247\n",
            "x2            10.0103      0.014    715.745      0.000       9.982      10.038\n",
            "==============================================================================\n",
            "Omnibus:                        2.042   Durbin-Watson:                   2.274\n",
            "Prob(Omnibus):                  0.360   Jarque-Bera (JB):                1.875\n",
            "Skew:                           0.234   Prob(JB):                        0.392\n",
            "Kurtosis:                       2.519   Cond. No.                         144.\n",
            "==============================================================================\n",
            "\n",
            "Warnings:\n",
            "[1] Standard Errors assume that the covariance matrix of the errors is correctly specified.\n"
          ],
          "name": "stdout"
        }
      ]
    },
    {
      "cell_type": "code",
      "metadata": {
        "id": "HAX7epvit8W1",
        "colab_type": "code",
        "colab": {
          "base_uri": "https://localhost:8080/",
          "height": 53
        },
        "outputId": "7cf05ae0-b12c-40f1-db0b-c11468d01b12"
      },
      "source": [
        "print('Parameters: ', results.params)\n",
        "print('R2: ', results.rsquared)"
      ],
      "execution_count": 10,
      "outputs": [
        {
          "output_type": "stream",
          "text": [
            "Parameters:  [ 1.34233516 -0.04024948 10.01025357]\n",
            "R2:  0.9999879365025871\n"
          ],
          "name": "stdout"
        }
      ]
    },
    {
      "cell_type": "code",
      "metadata": {
        "id": "MOc0csIuzGWi",
        "colab_type": "code",
        "colab": {}
      },
      "source": [
        "#OLS non-linear curve but linear in parameters\n",
        "nsample = 50\n",
        "sig = 0.5\n",
        "x = np.linspace(0, 20, nsample)\n",
        "X = np.column_stack((x, np.sin(x), (x-5)**2, np.ones(nsample)))\n",
        "beta = [0.5, 0.5, -0.02, 5.]\n",
        "\n",
        "y_true = np.dot(X, beta)\n",
        "y = y_true + sig *np.random.normal(size=nsample)"
      ],
      "execution_count": 0,
      "outputs": []
    },
    {
      "cell_type": "code",
      "metadata": {
        "id": "_6yt3tIB0Mi4",
        "colab_type": "code",
        "colab": {
          "base_uri": "https://localhost:8080/",
          "height": 503
        },
        "outputId": "4edc377e-eb5c-4aa1-8684-30ff9f3b7047"
      },
      "source": [
        "res = sm.OLS(y, X).fit()\n",
        "print(res.summary())"
      ],
      "execution_count": 12,
      "outputs": [
        {
          "output_type": "stream",
          "text": [
            "                            OLS Regression Results                            \n",
            "==============================================================================\n",
            "Dep. Variable:                      y   R-squared:                       0.939\n",
            "Model:                            OLS   Adj. R-squared:                  0.935\n",
            "Method:                 Least Squares   F-statistic:                     236.7\n",
            "Date:                Thu, 12 Dec 2019   Prob (F-statistic):           5.80e-28\n",
            "Time:                        06:34:54   Log-Likelihood:                -31.893\n",
            "No. Observations:                  50   AIC:                             71.79\n",
            "Df Residuals:                      46   BIC:                             79.43\n",
            "Df Model:                           3                                         \n",
            "Covariance Type:            nonrobust                                         \n",
            "==============================================================================\n",
            "                 coef    std err          t      P>|t|      [0.025      0.975]\n",
            "------------------------------------------------------------------------------\n",
            "x1             0.5099      0.025     20.316      0.000       0.459       0.560\n",
            "x2             0.5555      0.099      5.631      0.000       0.357       0.754\n",
            "x3            -0.0222      0.002    -10.096      0.000      -0.027      -0.018\n",
            "const          5.0130      0.163     30.808      0.000       4.685       5.341\n",
            "==============================================================================\n",
            "Omnibus:                        2.693   Durbin-Watson:                   2.048\n",
            "Prob(Omnibus):                  0.260   Jarque-Bera (JB):                1.507\n",
            "Skew:                           0.075   Prob(JB):                        0.471\n",
            "Kurtosis:                       2.163   Cond. No.                         221.\n",
            "==============================================================================\n",
            "\n",
            "Warnings:\n",
            "[1] Standard Errors assume that the covariance matrix of the errors is correctly specified.\n"
          ],
          "name": "stdout"
        }
      ]
    },
    {
      "cell_type": "code",
      "metadata": {
        "id": "9P-M57FU0b-j",
        "colab_type": "code",
        "colab": {
          "base_uri": "https://localhost:8080/",
          "height": 215
        },
        "outputId": "8a629f6d-4c30-4cdd-f386-6d870ffb6363"
      },
      "source": [
        "print('Parameters: ', res.params)\n",
        "print('Standard Errors: ', res.bse)\n",
        "print('Predicted Value: ', res.predict())"
      ],
      "execution_count": 13,
      "outputs": [
        {
          "output_type": "stream",
          "text": [
            "Parameters:  [ 0.50985175  0.55547804 -0.022245    5.01300174]\n",
            "Standard Errors:  [0.02509546 0.09865319 0.0022034  0.16271989]\n",
            "Predicted Value:  [ 4.45687674  4.9725521   5.44459089  5.84272001  6.14759182  6.35396279\n",
            "  6.47155505  6.52345908  6.54233999  6.56507073  6.62667399  6.75456804\n",
            "  6.96406202  7.25584068  7.61585186  8.01761524  8.42657298  8.80576747\n",
            "  9.12191335  9.35086622  9.4815895   9.51796768  9.47816814  9.39165627\n",
            "  9.29435442  9.22273996  9.20785211  9.27019234  9.41635598  9.63794868\n",
            "  9.91296554 10.20940648 10.49053372 10.72090774 10.87220989 10.92789502\n",
            " 10.88590983 10.75903025 10.57276234 10.36115173 10.16119006 10.00673728\n",
            "  9.92295865  9.92219009 10.00191142 10.14516049 10.32331993 10.50081896\n",
            " 10.64097753 10.71203277]\n"
          ],
          "name": "stdout"
        }
      ]
    },
    {
      "cell_type": "code",
      "metadata": {
        "id": "fsLA5-FY2Eu6",
        "colab_type": "code",
        "colab": {
          "base_uri": "https://localhost:8080/",
          "height": 392
        },
        "outputId": "6b7a7b27-1c20-4000-d76b-317ac359a43d"
      },
      "source": [
        "prstd, iv_l, iv_u = wls_prediction_std(res)\n",
        "\n",
        "fig, ax = plt.subplots(figsize=(8,6))\n",
        "\n",
        "ax.plot(x, y, 'o', label=\"data\")\n",
        "ax.plot(x, y_true, 'b-', label=\"True\")\n",
        "ax.plot(x, res.fittedvalues, 'r--', label=\"OLS\")\n",
        "ax.plot(x, iv_u, 'r--')\n",
        "ax.plot(x, iv_l, 'r--')\n",
        "ax.legend(loc='best')"
      ],
      "execution_count": 14,
      "outputs": [
        {
          "output_type": "execute_result",
          "data": {
            "text/plain": [
              "<matplotlib.legend.Legend at 0x7fa6a99e5898>"
            ]
          },
          "metadata": {
            "tags": []
          },
          "execution_count": 14
        },
        {
          "output_type": "display_data",
          "data": {
            "image/png": "[encoded data removed]",
            "text/plain": [
              "<Figure size 576x432 with 1 Axes>"
            ]
          },
          "metadata": {
            "tags": []
          }
        }
      ]
    },
    {
      "cell_type": "code",
      "metadata": {
        "id": "FtrZZBOE4PI7",
        "colab_type": "code",
        "colab": {}
      },
      "source": [
        "#OLS with dummy variables\n",
        "nsample = 50\n",
        "groups = np.zeros(nsample, int)\n",
        "groups[20:40] = 1\n",
        "groups[40:] = 2\n",
        "\n",
        "dummy = sm.categorical(groups, drop=True)\n",
        "x = np.linspace(0, 20, nsample)\n",
        "\n",
        "X = np.column_stack((x, dummy[:,1:]))\n",
        "X = sm.add_constant(X, prepend=False)\n",
        "\n",
        "beta = [1., 3, -3, 10]\n",
        "y_true = np.dot(X, beta)\n",
        "e = np.random.normal(size=nsample)\n",
        "y = y_true + e"
      ],
      "execution_count": 0,
      "outputs": []
    },
    {
      "cell_type": "code",
      "metadata": {
        "id": "li9CWUcL5pmP",
        "colab_type": "code",
        "colab": {
          "base_uri": "https://localhost:8080/",
          "height": 251
        },
        "outputId": "c4fd5505-b3bc-47ce-ce38-38621698482f"
      },
      "source": [
        "print(X[:5,:])\n",
        "print(y[:5])\n",
        "print(groups)\n",
        "print(dummy[:5,:])"
      ],
      "execution_count": 16,
      "outputs": [
        {
          "output_type": "stream",
          "text": [
            "[[0.         0.         0.         1.        ]\n",
            " [0.40816327 0.         0.         1.        ]\n",
            " [0.81632653 0.         0.         1.        ]\n",
            " [1.2244898  0.         0.         1.        ]\n",
            " [1.63265306 0.         0.         1.        ]]\n",
            "[ 8.8119824   9.85841707  9.87628037 10.39655743 11.74151653]\n",
            "[0 0 0 0 0 0 0 0 0 0 0 0 0 0 0 0 0 0 0 0 1 1 1 1 1 1 1 1 1 1 1 1 1 1 1 1 1\n",
            " 1 1 1 2 2 2 2 2 2 2 2 2 2]\n",
            "[[1. 0. 0.]\n",
            " [1. 0. 0.]\n",
            " [1. 0. 0.]\n",
            " [1. 0. 0.]\n",
            " [1. 0. 0.]]\n"
          ],
          "name": "stdout"
        }
      ]
    },
    {
      "cell_type": "code",
      "metadata": {
        "id": "_xAxBI3K56bb",
        "colab_type": "code",
        "colab": {
          "base_uri": "https://localhost:8080/",
          "height": 503
        },
        "outputId": "57a40438-9822-4a66-bf2c-5d01623e580c"
      },
      "source": [
        "res2 = sm.OLS(y, X).fit()\n",
        "print(res2.summary())"
      ],
      "execution_count": 18,
      "outputs": [
        {
          "output_type": "stream",
          "text": [
            "                            OLS Regression Results                            \n",
            "==============================================================================\n",
            "Dep. Variable:                      y   R-squared:                       0.974\n",
            "Model:                            OLS   Adj. R-squared:                  0.972\n",
            "Method:                 Least Squares   F-statistic:                     568.3\n",
            "Date:                Thu, 12 Dec 2019   Prob (F-statistic):           2.41e-36\n",
            "Time:                        06:59:43   Log-Likelihood:                -70.313\n",
            "No. Observations:                  50   AIC:                             148.6\n",
            "Df Residuals:                      46   BIC:                             156.3\n",
            "Df Model:                           3                                         \n",
            "Covariance Type:            nonrobust                                         \n",
            "==============================================================================\n",
            "                 coef    std err          t      P>|t|      [0.025      0.975]\n",
            "------------------------------------------------------------------------------\n",
            "x1             1.0194      0.067     15.190      0.000       0.884       1.154\n",
            "x2             3.0422      0.637      4.774      0.000       1.760       4.325\n",
            "x3            -3.0605      1.038     -2.948      0.005      -5.150      -0.971\n",
            "const          9.6339      0.347     27.730      0.000       8.935      10.333\n",
            "==============================================================================\n",
            "Omnibus:                        0.008   Durbin-Watson:                   1.973\n",
            "Prob(Omnibus):                  0.996   Jarque-Bera (JB):                0.115\n",
            "Skew:                          -0.028   Prob(JB):                        0.944\n",
            "Kurtosis:                       2.771   Cond. No.                         96.3\n",
            "==============================================================================\n",
            "\n",
            "Warnings:\n",
            "[1] Standard Errors assume that the covariance matrix of the errors is correctly specified.\n"
          ],
          "name": "stdout"
        }
      ]
    },
    {
      "cell_type": "code",
      "metadata": {
        "id": "x3T4qX-L6CzA",
        "colab_type": "code",
        "colab": {
          "base_uri": "https://localhost:8080/",
          "height": 374
        },
        "outputId": "0281c07b-9a96-441f-fa58-4c47a27e3fa8"
      },
      "source": [
        "prstd, iv_l, iv_u = wls_prediction_std(res2)\n",
        "\n",
        "fig, ax = plt.subplots(figsize=(8,6))\n",
        "\n",
        "ax.plot(x, y, 'o', label=\"Data\")\n",
        "ax.plot(x, y_true, 'b-', label=\"True\")\n",
        "ax.plot(x, res2.fittedvalues, 'r--.', label=\"Predicted\")\n",
        "ax.plot(x, iv_u, 'r--')\n",
        "ax.plot(x, iv_l, 'r--')\n",
        "legend = ax.legend(loc=\"best\")"
      ],
      "execution_count": 19,
      "outputs": [
        {
          "output_type": "display_data",
          "data": {
            "image/png": "[encoded data removed]",
            "text/plain": [
              "<Figure size 576x432 with 1 Axes>"
            ]
          },
          "metadata": {
            "tags": []
          }
        }
      ]
    },
    {
      "cell_type": "code",
      "metadata": {
        "id": "CIk94hnB6gZT",
        "colab_type": "code",
        "colab": {
          "base_uri": "https://localhost:8080/",
          "height": 71
        },
        "outputId": "2efffef9-2d2c-4853-cccd-99ddff18bed9"
      },
      "source": [
        "#Joint hypothesis test\n",
        "#F-test\n",
        "\n",
        "R = [[0, 1, 0, 0],[0, 0, 1, 0]]\n",
        "print(np.array(R))\n",
        "print(res2.f_test(R))"
      ],
      "execution_count": 20,
      "outputs": [
        {
          "output_type": "stream",
          "text": [
            "[[0 1 0 0]\n",
            " [0 0 1 0]]\n",
            "<F test: F=array([[118.60168864]]), p=7.001100012458997e-19, df_denom=46, df_num=2>\n"
          ],
          "name": "stdout"
        }
      ]
    },
    {
      "cell_type": "code",
      "metadata": {
        "id": "jhDG3_B97HOG",
        "colab_type": "code",
        "colab": {
          "base_uri": "https://localhost:8080/",
          "height": 35
        },
        "outputId": "f0d53c22-8d8e-4d00-c39e-a9d474349025"
      },
      "source": [
        "print(res2.f_test(\"x2 = x3 = 0\"))"
      ],
      "execution_count": 21,
      "outputs": [
        {
          "output_type": "stream",
          "text": [
            "<F test: F=array([[118.60168864]]), p=7.001100012458888e-19, df_denom=46, df_num=2>\n"
          ],
          "name": "stdout"
        }
      ]
    },
    {
      "cell_type": "code",
      "metadata": {
        "id": "ZqvJQ3WA7Klt",
        "colab_type": "code",
        "colab": {}
      },
      "source": [
        "#small group effects\n",
        "beta = [1., 0.3, -0.0, 10]\n",
        "y_true = np.dot(X, beta)\n",
        "y = y_true + np.random.normal(size=nsample)\n",
        "\n",
        "res3 = sm.OLS(y, X).fit()"
      ],
      "execution_count": 0,
      "outputs": []
    },
    {
      "cell_type": "code",
      "metadata": {
        "id": "XsjMvQHF7vJI",
        "colab_type": "code",
        "colab": {
          "base_uri": "https://localhost:8080/",
          "height": 35
        },
        "outputId": "04758b74-0d85-4513-f222-e7e80f74f954"
      },
      "source": [
        "print(res3.f_test(R))"
      ],
      "execution_count": 27,
      "outputs": [
        {
          "output_type": "stream",
          "text": [
            "<F test: F=array([[1.67391374]]), p=0.1987308359343001, df_denom=46, df_num=2>\n"
          ],
          "name": "stdout"
        }
      ]
    },
    {
      "cell_type": "code",
      "metadata": {
        "id": "hujjdPft720a",
        "colab_type": "code",
        "colab": {
          "base_uri": "https://localhost:8080/",
          "height": 35
        },
        "outputId": "c71c5263-3cbe-4501-df83-5833a54360fc"
      },
      "source": [
        "print(res3.f_test(R))"
      ],
      "execution_count": 28,
      "outputs": [
        {
          "output_type": "stream",
          "text": [
            "<F test: F=array([[1.67391374]]), p=0.1987308359343001, df_denom=46, df_num=2>\n"
          ],
          "name": "stdout"
        }
      ]
    },
    {
      "cell_type": "code",
      "metadata": {
        "id": "mVBasMJI7-8c",
        "colab_type": "code",
        "colab": {
          "base_uri": "https://localhost:8080/",
          "height": 35
        },
        "outputId": "bd14e9be-7758-4ddc-8f30-beafefc2d8ae"
      },
      "source": [
        "print(res3.f_test(\"x2 = x3 = 0\"))"
      ],
      "execution_count": 29,
      "outputs": [
        {
          "output_type": "stream",
          "text": [
            "<F test: F=array([[1.67391374]]), p=0.1987308359343001, df_denom=46, df_num=2>\n"
          ],
          "name": "stdout"
        }
      ]
    },
    {
      "cell_type": "code",
      "metadata": {
        "id": "WRz3lbC98KYu",
        "colab_type": "code",
        "colab": {
          "base_uri": "https://localhost:8080/",
          "height": 73
        },
        "outputId": "f1ec07ae-cb2a-4cc5-99b5-84e6693223e7"
      },
      "source": [
        "#Multicollinearity\n",
        "from statsmodels.datasets.longley import load_pandas\n",
        "y = load_pandas().endog\n",
        "X = load_pandas().exog\n",
        "X = sm.add_constant(X)"
      ],
      "execution_count": 35,
      "outputs": [
        {
          "output_type": "stream",
          "text": [
            "/usr/local/lib/python3.6/dist-packages/numpy/core/fromnumeric.py:2495: FutureWarning: Method .ptp is deprecated and will be removed in a future version. Use numpy.ptp instead.\n",
            "  return ptp(axis=axis, out=out, **kwargs)\n"
          ],
          "name": "stderr"
        }
      ]
    },
    {
      "cell_type": "code",
      "metadata": {
        "id": "4nGIqI3d8YWy",
        "colab_type": "code",
        "colab": {
          "base_uri": "https://localhost:8080/",
          "height": 629
        },
        "outputId": "2b270eaa-e251-48dc-d4aa-8854bddba355"
      },
      "source": [
        "ols_model = sm.OLS(y, X)\n",
        "ols_results = ols_model.fit()\n",
        "print(ols_results.summary())"
      ],
      "execution_count": 36,
      "outputs": [
        {
          "output_type": "stream",
          "text": [
            "                            OLS Regression Results                            \n",
            "==============================================================================\n",
            "Dep. Variable:                 TOTEMP   R-squared:                       0.995\n",
            "Model:                            OLS   Adj. R-squared:                  0.992\n",
            "Method:                 Least Squares   F-statistic:                     330.3\n",
            "Date:                Thu, 12 Dec 2019   Prob (F-statistic):           4.98e-10\n",
            "Time:                        07:14:39   Log-Likelihood:                -109.62\n",
            "No. Observations:                  16   AIC:                             233.2\n",
            "Df Residuals:                       9   BIC:                             238.6\n",
            "Df Model:                           6                                         \n",
            "Covariance Type:            nonrobust                                         \n",
            "==============================================================================\n",
            "                 coef    std err          t      P>|t|      [0.025      0.975]\n",
            "------------------------------------------------------------------------------\n",
            "const      -3.482e+06    8.9e+05     -3.911      0.004    -5.5e+06   -1.47e+06\n",
            "GNPDEFL       15.0619     84.915      0.177      0.863    -177.029     207.153\n",
            "GNP           -0.0358      0.033     -1.070      0.313      -0.112       0.040\n",
            "UNEMP         -2.0202      0.488     -4.136      0.003      -3.125      -0.915\n",
            "ARMED         -1.0332      0.214     -4.822      0.001      -1.518      -0.549\n",
            "POP           -0.0511      0.226     -0.226      0.826      -0.563       0.460\n",
            "YEAR        1829.1515    455.478      4.016      0.003     798.788    2859.515\n",
            "==============================================================================\n",
            "Omnibus:                        0.749   Durbin-Watson:                   2.559\n",
            "Prob(Omnibus):                  0.688   Jarque-Bera (JB):                0.684\n",
            "Skew:                           0.420   Prob(JB):                        0.710\n",
            "Kurtosis:                       2.434   Cond. No.                     4.86e+09\n",
            "==============================================================================\n",
            "\n",
            "Warnings:\n",
            "[1] Standard Errors assume that the covariance matrix of the errors is correctly specified.\n",
            "[2] The condition number is large, 4.86e+09. This might indicate that there are\n",
            "strong multicollinearity or other numerical problems.\n"
          ],
          "name": "stdout"
        },
        {
          "output_type": "stream",
          "text": [
            "/usr/local/lib/python3.6/dist-packages/scipy/stats/stats.py:1450: UserWarning: kurtosistest only valid for n>=20 ... continuing anyway, n=16\n",
            "  \"anyway, n=%i\" % int(n))\n"
          ],
          "name": "stderr"
        }
      ]
    },
    {
      "cell_type": "code",
      "metadata": {
        "id": "AH9NzXQU8nmP",
        "colab_type": "code",
        "colab": {}
      },
      "source": [
        "norm_x = X.values\n",
        "for i, name in enumerate(X):\n",
        "    if name == \"const\":\n",
        "        continue\n",
        "    norm_x[:,i] = X[name]/np.linalg.norm(X[name])\n",
        "norm_xtx = np.dot(norm_x.T,norm_x)"
      ],
      "execution_count": 0,
      "outputs": []
    },
    {
      "cell_type": "code",
      "metadata": {
        "id": "1JGsX2l48sSY",
        "colab_type": "code",
        "colab": {
          "base_uri": "https://localhost:8080/",
          "height": 35
        },
        "outputId": "ea940d69-41ca-4000-92bc-8f294e2330da"
      },
      "source": [
        "eigs = np.linalg.eigvals(norm_xtx)\n",
        "condition_number = np.sqrt(eigs.max() / eigs.min())\n",
        "print(condition_number)"
      ],
      "execution_count": 38,
      "outputs": [
        {
          "output_type": "stream",
          "text": [
            "56240.87037739987\n"
          ],
          "name": "stdout"
        }
      ]
    },
    {
      "cell_type": "code",
      "metadata": {
        "id": "G7-PJfHa80Rp",
        "colab_type": "code",
        "colab": {
          "base_uri": "https://localhost:8080/",
          "height": 161
        },
        "outputId": "8e9ecea5-2dc2-49ac-a1bf-6e9edd508b29"
      },
      "source": [
        "ols_results2 = sm.OLS(y.iloc[:14], X.iloc[:14]).fit()\n",
        "print(\"Percentage change %4.2f%%\\n\"*7 % tuple([i for i in (ols_results2.params - ols_results.params)/ols_results.params*100]))"
      ],
      "execution_count": 39,
      "outputs": [
        {
          "output_type": "stream",
          "text": [
            "Percentage change 4.55%\n",
            "Percentage change -2228.01%\n",
            "Percentage change 154304695.31%\n",
            "Percentage change 1366329.02%\n",
            "Percentage change 1112549.36%\n",
            "Percentage change 92708715.91%\n",
            "Percentage change 817944.26%\n",
            "\n"
          ],
          "name": "stdout"
        }
      ]
    },
    {
      "cell_type": "code",
      "metadata": {
        "id": "ggiljllT9i2k",
        "colab_type": "code",
        "colab": {}
      },
      "source": [
        "infl = ols_results.get_influence()"
      ],
      "execution_count": 0,
      "outputs": []
    },
    {
      "cell_type": "code",
      "metadata": {
        "id": "gCuRKi-S9qJt",
        "colab_type": "code",
        "colab": {
          "base_uri": "https://localhost:8080/",
          "height": 35
        },
        "outputId": "7985b50b-3ce6-4a6c-b48a-5b92acea3540"
      },
      "source": [
        "2./len(X)**.5"
      ],
      "execution_count": 41,
      "outputs": [
        {
          "output_type": "execute_result",
          "data": {
            "text/plain": [
              "0.5"
            ]
          },
          "metadata": {
            "tags": []
          },
          "execution_count": 41
        }
      ]
    },
    {
      "cell_type": "code",
      "metadata": {
        "id": "Oj1iy2Va9ynR",
        "colab_type": "code",
        "colab": {
          "base_uri": "https://localhost:8080/",
          "height": 575
        },
        "outputId": "e017b7d4-a18e-4f62-c907-9812b89b2ad2"
      },
      "source": [
        "print(infl.summary_frame().filter(regex=\"dfb\"))"
      ],
      "execution_count": 42,
      "outputs": [
        {
          "output_type": "stream",
          "text": [
            "    dfb_const  dfb_GNPDEFL  ...        dfb_POP      dfb_YEAR\n",
            "0   -0.016406  -169.822675  ...  207954.113589 -31969.158503\n",
            "1   -0.020608  -187.251727  ...   25343.938290 -29760.155888\n",
            "2   -0.008382   -65.417834  ...  107465.770565 -29593.195253\n",
            "3    0.018093   288.503914  ...  456190.215133 -36213.129569\n",
            "4    1.871260  -171.109595  ... -389122.401699 -49905.782854\n",
            "5   -0.321373  -104.123822  ...  144354.586054 -28985.057609\n",
            "6    0.315945  -169.413317  ... -107413.074918 -32984.462465\n",
            "7    0.015816   -69.343793  ...   92843.959345 -29724.975873\n",
            "8   -0.004019   -86.903523  ...   83931.635336 -29563.619222\n",
            "9   -1.018242  -201.315802  ...   18392.575057 -29203.217108\n",
            "10   0.030947   -78.359439  ...   93617.648517 -29846.022426\n",
            "11   0.005987  -100.926843  ...   95414.217290 -29690.904188\n",
            "12  -0.135883   -32.093127  ...  258559.048569 -29296.334617\n",
            "13   0.032736   -78.513866  ...  104434.061226 -30025.564763\n",
            "14   0.305868   -16.833121  ...  275103.677859 -36060.612522\n",
            "15  -0.538323   102.027105  ... -110176.960671 -28053.834556\n",
            "\n",
            "[16 rows x 7 columns]\n"
          ],
          "name": "stdout"
        },
        {
          "output_type": "stream",
          "text": [
            "/usr/local/lib/python3.6/dist-packages/statsmodels/stats/outliers_influence.py:695: RuntimeWarning: invalid value encountered in sqrt\n",
            "  return self.resid / sigma / np.sqrt(1 - hii)\n",
            "/usr/local/lib/python3.6/dist-packages/scipy/stats/_distn_infrastructure.py:901: RuntimeWarning: invalid value encountered in greater\n",
            "  return (a < x) & (x < b)\n",
            "/usr/local/lib/python3.6/dist-packages/scipy/stats/_distn_infrastructure.py:901: RuntimeWarning: invalid value encountered in less\n",
            "  return (a < x) & (x < b)\n",
            "/usr/local/lib/python3.6/dist-packages/scipy/stats/_distn_infrastructure.py:1892: RuntimeWarning: invalid value encountered in less_equal\n",
            "  cond2 = cond0 & (x <= _a)\n",
            "/usr/local/lib/python3.6/dist-packages/statsmodels/stats/outliers_influence.py:729: RuntimeWarning: invalid value encountered in sqrt\n",
            "  dffits_ = self.resid_studentized_internal * np.sqrt(hii / (1 - hii))\n",
            "/usr/local/lib/python3.6/dist-packages/statsmodels/stats/outliers_influence.py:758: RuntimeWarning: invalid value encountered in sqrt\n",
            "  dffits_ = self.resid_studentized_external * np.sqrt(hii / (1 - hii))\n"
          ],
          "name": "stderr"
        }
      ]
    }
  ]
}