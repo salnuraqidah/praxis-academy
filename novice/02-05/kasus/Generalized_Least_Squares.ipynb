{
  "nbformat": 4,
  "nbformat_minor": 0,
  "metadata": {
    "colab": {
      "name": "Generalized Least Squares.ipynb",
      "provenance": [],
      "collapsed_sections": []
    },
    "kernelspec": {
      "name": "python3",
      "display_name": "Python 3"
    }
  },
  "cells": [
    {
      "cell_type": "code",
      "metadata": {
        "id": "KLqUi0JHcvVQ",
        "colab_type": "code",
        "colab": {}
      },
      "source": [
        "from __future__ import print_function\n",
        "import statsmodels.api as sm\n",
        "import pandas"
      ],
      "execution_count": 0,
      "outputs": []
    },
    {
      "cell_type": "code",
      "metadata": {
        "id": "ymA04hK_c7IN",
        "colab_type": "code",
        "colab": {
          "base_uri": "https://localhost:8080/",
          "height": 413
        },
        "outputId": "38aa131c-ee84-4707-ed08-23009c174b4d"
      },
      "source": [
        "data = sm.datasets.longley.load(as_pandas=False)\n",
        "data.exog = sm.add_constant(data.exog)\n",
        "print(data.exog[:-5])"
      ],
      "execution_count": 2,
      "outputs": [
        {
          "output_type": "stream",
          "text": [
            "[[1.00000e+00 8.30000e+01 2.34289e+05 2.35600e+03 1.59000e+03 1.07608e+05\n",
            "  1.94700e+03]\n",
            " [1.00000e+00 8.85000e+01 2.59426e+05 2.32500e+03 1.45600e+03 1.08632e+05\n",
            "  1.94800e+03]\n",
            " [1.00000e+00 8.82000e+01 2.58054e+05 3.68200e+03 1.61600e+03 1.09773e+05\n",
            "  1.94900e+03]\n",
            " [1.00000e+00 8.95000e+01 2.84599e+05 3.35100e+03 1.65000e+03 1.10929e+05\n",
            "  1.95000e+03]\n",
            " [1.00000e+00 9.62000e+01 3.28975e+05 2.09900e+03 3.09900e+03 1.12075e+05\n",
            "  1.95100e+03]\n",
            " [1.00000e+00 9.81000e+01 3.46999e+05 1.93200e+03 3.59400e+03 1.13270e+05\n",
            "  1.95200e+03]\n",
            " [1.00000e+00 9.90000e+01 3.65385e+05 1.87000e+03 3.54700e+03 1.15094e+05\n",
            "  1.95300e+03]\n",
            " [1.00000e+00 1.00000e+02 3.63112e+05 3.57800e+03 3.35000e+03 1.16219e+05\n",
            "  1.95400e+03]\n",
            " [1.00000e+00 1.01200e+02 3.97469e+05 2.90400e+03 3.04800e+03 1.17388e+05\n",
            "  1.95500e+03]\n",
            " [1.00000e+00 1.04600e+02 4.19180e+05 2.82200e+03 2.85700e+03 1.18734e+05\n",
            "  1.95600e+03]\n",
            " [1.00000e+00 1.08400e+02 4.42769e+05 2.93600e+03 2.79800e+03 1.20445e+05\n",
            "  1.95700e+03]]\n"
          ],
          "name": "stdout"
        }
      ]
    },
    {
      "cell_type": "code",
      "metadata": {
        "id": "9ryWrGcFdEsv",
        "colab_type": "code",
        "colab": {}
      },
      "source": [
        "ols_resid = sm.OLS(data.endog, data.exog).fit().resid"
      ],
      "execution_count": 0,
      "outputs": []
    },
    {
      "cell_type": "code",
      "metadata": {
        "id": "nPqRXCRRdKtB",
        "colab_type": "code",
        "colab": {
          "base_uri": "https://localhost:8080/",
          "height": 53
        },
        "outputId": "8d18a379-d641-485f-a56f-df6b84a1cb25"
      },
      "source": [
        "resid_fit = sm.OLS(ols_resid[1:], sm.add_constant(ols_resid[:-1])).fit()\n",
        "print(resid_fit.tvalues[1])\n",
        "print(resid_fit.pvalues[1])"
      ],
      "execution_count": 4,
      "outputs": [
        {
          "output_type": "stream",
          "text": [
            "-1.4390229839590876\n",
            "0.17378444789217867\n"
          ],
          "name": "stdout"
        }
      ]
    },
    {
      "cell_type": "code",
      "metadata": {
        "id": "GRk6QiLmdPXh",
        "colab_type": "code",
        "colab": {}
      },
      "source": [
        "rho = resid_fit.params[1]"
      ],
      "execution_count": 0,
      "outputs": []
    },
    {
      "cell_type": "code",
      "metadata": {
        "id": "OCrnvUeUdhID",
        "colab_type": "code",
        "colab": {
          "base_uri": "https://localhost:8080/",
          "height": 107
        },
        "outputId": "6944df9f-0c1a-46b1-c299-8311caea2b43"
      },
      "source": [
        "from scipy.linalg import toeplitz\n",
        "\n",
        "toeplitz(range(5))"
      ],
      "execution_count": 6,
      "outputs": [
        {
          "output_type": "execute_result",
          "data": {
            "text/plain": [
              "array([[0, 1, 2, 3, 4],\n",
              "       [1, 0, 1, 2, 3],\n",
              "       [2, 1, 0, 1, 2],\n",
              "       [3, 2, 1, 0, 1],\n",
              "       [4, 3, 2, 1, 0]])"
            ]
          },
          "metadata": {
            "tags": []
          },
          "execution_count": 6
        }
      ]
    },
    {
      "cell_type": "code",
      "metadata": {
        "id": "Qc4J0ig_dxOG",
        "colab_type": "code",
        "colab": {}
      },
      "source": [
        "order = toeplitz(range(len(ols_resid)))"
      ],
      "execution_count": 0,
      "outputs": []
    },
    {
      "cell_type": "code",
      "metadata": {
        "id": "sHfiBfZTeBBy",
        "colab_type": "code",
        "colab": {}
      },
      "source": [
        "sigma = rho**order\n",
        "gls_model = sm.GLS(data.endog, data.exog, sigma=sigma)\n",
        "gls_results = gls.model.fit()"
      ],
      "execution_count": 0,
      "outputs": []
    },
    {
      "cell_type": "code",
      "metadata": {
        "id": "9ve_K6iaebnP",
        "colab_type": "code",
        "colab": {
          "base_uri": "https://localhost:8080/",
          "height": 629
        },
        "outputId": "dd3711ee-970d-46f1-ac48-1cb6a0b51afe"
      },
      "source": [
        "glsar_model = sm.GLSAR(data.endog, data.exog, 1)\n",
        "glsar_results = glsar_model.iterative_fit(1)\n",
        "print(glsar_results.summary())"
      ],
      "execution_count": 8,
      "outputs": [
        {
          "output_type": "stream",
          "text": [
            "                           GLSAR Regression Results                           \n",
            "==============================================================================\n",
            "Dep. Variable:                      y   R-squared:                       0.996\n",
            "Model:                          GLSAR   Adj. R-squared:                  0.992\n",
            "Method:                 Least Squares   F-statistic:                     295.2\n",
            "Date:                Fri, 20 Dec 2019   Prob (F-statistic):           6.09e-09\n",
            "Time:                        08:46:10   Log-Likelihood:                -102.04\n",
            "No. Observations:                  15   AIC:                             218.1\n",
            "Df Residuals:                       8   BIC:                             223.0\n",
            "Df Model:                           6                                         \n",
            "Covariance Type:            nonrobust                                         \n",
            "==============================================================================\n",
            "                 coef    std err          t      P>|t|      [0.025      0.975]\n",
            "------------------------------------------------------------------------------\n",
            "const      -3.468e+06   8.72e+05     -3.979      0.004   -5.48e+06   -1.46e+06\n",
            "x1            34.5568     84.734      0.408      0.694    -160.840     229.953\n",
            "x2            -0.0343      0.033     -1.047      0.326      -0.110       0.041\n",
            "x3            -1.9621      0.481     -4.083      0.004      -3.070      -0.854\n",
            "x4            -1.0020      0.211     -4.740      0.001      -1.489      -0.515\n",
            "x5            -0.0978      0.225     -0.435      0.675      -0.616       0.421\n",
            "x6          1823.1829    445.829      4.089      0.003     795.100    2851.266\n",
            "==============================================================================\n",
            "Omnibus:                        1.960   Durbin-Watson:                   2.554\n",
            "Prob(Omnibus):                  0.375   Jarque-Bera (JB):                1.423\n",
            "Skew:                           0.713   Prob(JB):                        0.491\n",
            "Kurtosis:                       2.508   Cond. No.                     4.80e+09\n",
            "==============================================================================\n",
            "\n",
            "Warnings:\n",
            "[1] Standard Errors assume that the covariance matrix of the errors is correctly specified.\n",
            "[2] The condition number is large, 4.8e+09. This might indicate that there are\n",
            "strong multicollinearity or other numerical problems.\n"
          ],
          "name": "stdout"
        },
        {
          "output_type": "stream",
          "text": [
            "/usr/local/lib/python3.6/dist-packages/scipy/stats/stats.py:1450: UserWarning: kurtosistest only valid for n>=20 ... continuing anyway, n=15\n",
            "  \"anyway, n=%i\" % int(n))\n"
          ],
          "name": "stderr"
        }
      ]
    },
    {
      "cell_type": "code",
      "metadata": {
        "id": "r8j8s_YufG3Y",
        "colab_type": "code",
        "colab": {
          "base_uri": "https://localhost:8080/",
          "height": 89
        },
        "outputId": "6234cf10-79df-4e30-9d2a-e6ae1c41c311"
      },
      "source": [
        "print(glsar_results.params)\n",
        "print(glsar_results.bse)\n"
      ],
      "execution_count": 10,
      "outputs": [
        {
          "output_type": "stream",
          "text": [
            "[-3.46796063e+06  3.45567846e+01 -3.43410090e-02 -1.96214395e+00\n",
            " -1.00197296e+00 -9.78045986e-02  1.82318289e+03]\n",
            "[8.71584052e+05 8.47337145e+01 3.28032450e-02 4.80544865e-01\n",
            " 2.11383871e-01 2.24774369e-01 4.45828748e+02]\n"
          ],
          "name": "stdout"
        }
      ]
    }
  ]
}