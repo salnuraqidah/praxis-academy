{
 "cells": [
  {
   "cell_type": "code",
   "execution_count": 1,
   "metadata": {},
   "outputs": [
    {
     "data": {
      "text/plain": [
       "[1, 2, 3]"
      ]
     },
     "execution_count": 1,
     "metadata": {},
     "output_type": "execute_result"
    }
   ],
   "source": [
    "list(map(int, [\"1\", \"2\", \"3\"]))"
   ]
  },
  {
   "cell_type": "code",
   "execution_count": 3,
   "metadata": {},
   "outputs": [
    {
     "data": {
      "text/plain": [
       "<function __main__.hello_world.<locals>.world(w)>"
      ]
     },
     "execution_count": 3,
     "metadata": {},
     "output_type": "execute_result"
    }
   ],
   "source": [
    ">>> def hello_world(h):\n",
    "...     def world(w):\n",
    "...         print(h, w)\n",
    "...     return world # returning functions\n",
    "...\n",
    ">>> h = hello_world # assigning\n",
    ">>> x = h(\"hello\") # assigning\n",
    ">>> x"
   ]
  },
  {
   "cell_type": "code",
   "execution_count": 4,
   "metadata": {},
   "outputs": [
    {
     "name": "stdout",
     "output_type": "stream",
     "text": [
      "hello world\n"
     ]
    }
   ],
   "source": [
    "x(\"world\")"
   ]
  },
  {
   "cell_type": "code",
   "execution_count": 5,
   "metadata": {},
   "outputs": [
    {
     "data": {
      "text/plain": [
       "[<function __main__.hello_world(h)>,\n",
       " <function __main__.hello_world.<locals>.world(w)>]"
      ]
     },
     "execution_count": 5,
     "metadata": {},
     "output_type": "execute_result"
    }
   ],
   "source": [
    ">>> function_list = [h, x]\n",
    ">>> function_list"
   ]
  },
  {
   "cell_type": "code",
   "execution_count": 6,
   "metadata": {},
   "outputs": [],
   "source": [
    "def naive_sum(list):\n",
    "    s = 0\n",
    "    for l in list:\n",
    "        s += l\n",
    "    return s"
   ]
  },
  {
   "cell_type": "code",
   "execution_count": 9,
   "metadata": {},
   "outputs": [
    {
     "data": {
      "text/plain": [
       "<map at 0x1acc10b55f8>"
      ]
     },
     "execution_count": 9,
     "metadata": {},
     "output_type": "execute_result"
    }
   ],
   "source": [
    "def func1():\n",
    "    pass\n",
    "\n",
    "def func2():\n",
    "    pass\n",
    "\n",
    "def func3():\n",
    "    pass\n",
    "\n",
    "executing = lambda f: f()\n",
    "map(executing, [func1, func2, func3])"
   ]
  },
  {
   "cell_type": "code",
   "execution_count": 10,
   "metadata": {},
   "outputs": [],
   "source": [
    "def fib(n):\n",
    "    if n == 0: return 0\n",
    "    elif n == 1: return 1\n",
    "    else: return fib(n-1)+fib(n-2)"
   ]
  },
  {
   "cell_type": "code",
   "execution_count": 11,
   "metadata": {},
   "outputs": [
    {
     "name": "stdout",
     "output_type": "stream",
     "text": [
      "783012621312\n"
     ]
    }
   ],
   "source": [
    "# procedural code\n",
    "starting_number = 96\n",
    "\n",
    "# get the square of the number\n",
    "square = starting_number ** 2\n",
    "\n",
    "# increment the number by 1\n",
    "increment = square + 1\n",
    "\n",
    "# cube of the number\n",
    "cube = increment ** 3\n",
    "\n",
    "# decrease the cube by 1\n",
    "decrement = cube - 1\n",
    "\n",
    "# get the final result\n",
    "result = print(decrement) # output 783012621312"
   ]
  },
  {
   "cell_type": "code",
   "execution_count": 12,
   "metadata": {},
   "outputs": [
    {
     "name": "stdout",
     "output_type": "stream",
     "text": [
      "783012621312\n"
     ]
    }
   ],
   "source": [
    "# define a function `call` where you provide the function and the arguments\n",
    "def call(x, f):\n",
    "    return f(x)\n",
    "\n",
    "# define a function that returns the square\n",
    "square = lambda x : x*x\n",
    "\n",
    "# define a function that returns the increment\n",
    "increment = lambda x : x+1\n",
    "\n",
    "# define a function that returns the cube\n",
    "cube = lambda x : x*x*x\n",
    "\n",
    "# define a function that returns the decrement\n",
    "decrement = lambda x : x-1\n",
    "\n",
    "# put all the functions in a list in the order that you want to execute them\n",
    "funcs = [square, increment, cube, decrement]\n",
    "\n",
    "# bring it all together. Below is the non functional part. \n",
    "# in functional programming you separate the functional and the non functional parts.\n",
    "from functools import reduce # reduce is in the functools library\n",
    "print(reduce(call, funcs, 96)) # output 783012621312"
   ]
  },
  {
   "cell_type": "code",
   "execution_count": 13,
   "metadata": {},
   "outputs": [
    {
     "data": {
      "text/plain": [
       "7"
      ]
     },
     "execution_count": 13,
     "metadata": {},
     "output_type": "execute_result"
    }
   ],
   "source": [
    "def add(a, b):\n",
    "    return a + b\n",
    "\n",
    "plus = add\n",
    "\n",
    "plus(3, 4)  # returns 7"
   ]
  },
  {
   "cell_type": "code",
   "execution_count": 14,
   "metadata": {},
   "outputs": [
    {
     "data": {
      "text/plain": [
       "7"
      ]
     },
     "execution_count": 14,
     "metadata": {},
     "output_type": "execute_result"
    }
   ],
   "source": [
    "(lambda a, b: a + b)(3, 4)  # returns 7\n",
    "\n",
    "addition = lambda a, b: a + b\n",
    "addition(3, 4)  # returns 7"
   ]
  },
  {
   "cell_type": "code",
   "execution_count": 15,
   "metadata": {},
   "outputs": [
    {
     "data": {
      "text/plain": [
       "['Isaac Asimov',\n",
       " 'Margaret Atwood',\n",
       " 'Ray Bradbury',\n",
       " 'Octavia Butler',\n",
       " 'Usula K Le Guin',\n",
       " 'Neal Stephenson']"
      ]
     },
     "execution_count": 15,
     "metadata": {},
     "output_type": "execute_result"
    }
   ],
   "source": [
    "authors = ['Octavia Butler', 'Isaac Asimov', 'Neal Stephenson', 'Margaret Atwood', 'Usula K Le Guin', 'Ray Bradbury']\n",
    "sorted(authors, key=len)  # Returns list ordered by length of author name\n",
    "sorted(authors, key=lambda name: name.split()[-1])  # Returns list ordered alphabetically by last name."
   ]
  },
  {
   "cell_type": "code",
   "execution_count": 16,
   "metadata": {},
   "outputs": [
    {
     "ename": "SyntaxError",
     "evalue": "invalid syntax (<ipython-input-16-05eef90da60a>, line 6)",
     "output_type": "error",
     "traceback": [
      "\u001b[1;36m  File \u001b[1;32m\"<ipython-input-16-05eef90da60a>\"\u001b[1;36m, line \u001b[1;32m6\u001b[0m\n\u001b[1;33m    reduce(lambda: x, y: x * y, val, 1) # 1 * 1 * 2 * 3 * 4 * 5 * 6\u001b[0m\n\u001b[1;37m                       ^\u001b[0m\n\u001b[1;31mSyntaxError\u001b[0m\u001b[1;31m:\u001b[0m invalid syntax\n"
     ]
    }
   ],
   "source": [
    "val = [1, 2, 3, 4, 5, 6]\n",
    "\n",
    "# Multiply every item by two\n",
    "list(map(lambda x: x * 2, val)) # [2, 4, 6, 8, 10, 12]\n",
    "# Take the factorial by multiplying the value so far to the next item\n",
    "reduce(lambda: x, y: x * y, val, 1) # 1 * 1 * 2 * 3 * 4 * 5 * 6"
   ]
  },
  {
   "cell_type": "code",
   "execution_count": 17,
   "metadata": {},
   "outputs": [
    {
     "ename": "NameError",
     "evalue": "name 'partial' is not defined",
     "output_type": "error",
     "traceback": [
      "\u001b[1;31m---------------------------------------------------------------------------\u001b[0m",
      "\u001b[1;31mNameError\u001b[0m                                 Traceback (most recent call last)",
      "\u001b[1;32m<ipython-input-17-062e3571ddfa>\u001b[0m in \u001b[0;36m<module>\u001b[1;34m()\u001b[0m\n\u001b[0;32m      1\u001b[0m \u001b[1;32mdef\u001b[0m \u001b[0mpower\u001b[0m\u001b[1;33m(\u001b[0m\u001b[0mbase\u001b[0m\u001b[1;33m,\u001b[0m \u001b[0mexp\u001b[0m\u001b[1;33m)\u001b[0m\u001b[1;33m:\u001b[0m\u001b[1;33m\u001b[0m\u001b[0m\n\u001b[0;32m      2\u001b[0m      \u001b[1;32mreturn\u001b[0m \u001b[0mbase\u001b[0m \u001b[1;33m**\u001b[0m \u001b[0mexp\u001b[0m\u001b[1;33m\u001b[0m\u001b[0m\n\u001b[1;32m----> 3\u001b[1;33m \u001b[0mcube\u001b[0m \u001b[1;33m=\u001b[0m \u001b[0mpartial\u001b[0m\u001b[1;33m(\u001b[0m\u001b[0mpower\u001b[0m\u001b[1;33m,\u001b[0m \u001b[0mexp\u001b[0m\u001b[1;33m=\u001b[0m\u001b[1;36m3\u001b[0m\u001b[1;33m)\u001b[0m\u001b[1;33m\u001b[0m\u001b[0m\n\u001b[0m\u001b[0;32m      4\u001b[0m \u001b[0mcube\u001b[0m\u001b[1;33m(\u001b[0m\u001b[1;36m5\u001b[0m\u001b[1;33m)\u001b[0m\u001b[1;33m\u001b[0m\u001b[0m\n",
      "\u001b[1;31mNameError\u001b[0m: name 'partial' is not defined"
     ]
    }
   ],
   "source": [
    "def power(base, exp):\n",
    "     return base ** exp\n",
    "cube = partial(power, exp=3)\n",
    "cube(5)"
   ]
  },
  {
   "cell_type": "code",
   "execution_count": 18,
   "metadata": {},
   "outputs": [
    {
     "ename": "SyntaxError",
     "evalue": "invalid syntax (<ipython-input-18-3ae37ba93528>, line 10)",
     "output_type": "error",
     "traceback": [
      "\u001b[1;36m  File \u001b[1;32m\"<ipython-input-18-3ae37ba93528>\"\u001b[1;36m, line \u001b[1;32m10\u001b[0m\n\u001b[1;33m    raise exc\u001b[0m\n\u001b[1;37m        ^\u001b[0m\n\u001b[1;31mSyntaxError\u001b[0m\u001b[1;31m:\u001b[0m invalid syntax\n"
     ]
    }
   ],
   "source": [
    "def retry(func):\n",
    "    def retried_function(*args, **kwargs):\n",
    "        exc = None\n",
    "        for _ in range(3):\n",
    "            try:\n",
    "               return func(*args, **kwargs)\n",
    "            except Exception as exc:\n",
    "               print(\"Exception raised while calling %s with args:%s, kwargs: %s. Retrying\" % (func, args, kwargs).\n",
    "\n",
    "        raise exc\n",
    "     return retried_function\n",
    "\n",
    "@retry\n",
    "def do_something_risky():\n",
    "    ...\n",
    "\n",
    "retried_function = retry(do_something_risky)  # No need to use `@`"
   ]
  },
  {
   "cell_type": "code",
   "execution_count": 19,
   "metadata": {},
   "outputs": [],
   "source": [
    "dictionary = ['fox', 'boss', 'orange', 'toes', 'fairy', 'cup']\n",
    "def puralize(words):\n",
    "   for i in range(len(words)):\n",
    "       word = words[i]\n",
    "       if word.endswith('s') or word.endswith('x'):\n",
    "           word += 'es'\n",
    "       if word.endswith('y'):\n",
    "           word = word[:-1] + 'ies'\n",
    "       else:\n",
    "           word += 's'\n",
    "       words[i] = word\n",
    "\n",
    "def test_pluralize():\n",
    "    pluralize(dictionary)\n",
    "    assert dictionary == ['foxes', 'bosses', 'oranges', 'toeses', 'fairies', 'cups']"
   ]
  },
  {
   "cell_type": "code",
   "execution_count": 20,
   "metadata": {},
   "outputs": [
    {
     "ename": "SyntaxError",
     "evalue": "invalid syntax (<ipython-input-20-c944350c163c>, line 7)",
     "output_type": "error",
     "traceback": [
      "\u001b[1;36m  File \u001b[1;32m\"<ipython-input-20-c944350c163c>\"\u001b[1;36m, line \u001b[1;32m7\u001b[0m\n\u001b[1;33m    plural = word + 'es')\u001b[0m\n\u001b[1;37m                        ^\u001b[0m\n\u001b[1;31mSyntaxError\u001b[0m\u001b[1;31m:\u001b[0m invalid syntax\n"
     ]
    }
   ],
   "source": [
    "dictionary = ['fox', 'boss', 'orange', 'toes', 'fairy', 'cup']\n",
    "def puralize(words):\n",
    "   result = []\n",
    "   for word in words:\n",
    "       word = words[i]\n",
    "       if word.endswith('s') or word.endswith('x'):\n",
    "           plural = word + 'es')\n",
    "       if word.endswith('y'):\n",
    "           plural = word[:-1] + 'ies'\n",
    "       else:\n",
    "           plural = +  's'\n",
    "       result.append(plural)\n",
    "    return result\n",
    "\n",
    "def test_pluralize():\n",
    "    result = pluralize(dictionary)\n",
    "    assert result == ['foxes', 'bosses', 'oranges', 'toeses', 'fairies', 'cups']"
   ]
  },
  {
   "cell_type": "code",
   "execution_count": 21,
   "metadata": {},
   "outputs": [],
   "source": [
    "from collections import namedtuple\n",
    "VerbTenses = namedtuple('VerbTenses', ['past', 'present', 'future'])\n",
    "# versus\n",
    "class VerbTenses(object):\n",
    "    def __init__(self, past, present, future):\n",
    "        self.past = past,\n",
    "        self.present = present\n",
    "        self.future = future"
   ]
  },
  {
   "cell_type": "code",
   "execution_count": 22,
   "metadata": {},
   "outputs": [
    {
     "name": "stdout",
     "output_type": "stream",
     "text": [
      "[1, 3, 5, 10]\n",
      "[2, 6, 10, 20]\n"
     ]
    }
   ],
   "source": [
    "def multiply_2_pure(numbers):\n",
    "    new_numbers = []\n",
    "    for n in numbers:\n",
    "        new_numbers.append(n * 2)\n",
    "    return new_numbers\n",
    "\n",
    "original_numbers = [1, 3, 5, 10]\n",
    "changed_numbers = multiply_2_pure(original_numbers)\n",
    "print(original_numbers) # [1, 3, 5, 10]\n",
    "print(changed_numbers)  "
   ]
  },
  {
   "cell_type": "code",
   "execution_count": 23,
   "metadata": {},
   "outputs": [
    {
     "name": "stdout",
     "output_type": "stream",
     "text": [
      "[4, 5]\n",
      "[4, 5]\n"
     ]
    },
    {
     "ename": "TypeError",
     "evalue": "'tuple' object does not support item assignment",
     "output_type": "error",
     "traceback": [
      "\u001b[1;31m---------------------------------------------------------------------------\u001b[0m",
      "\u001b[1;31mTypeError\u001b[0m                                 Traceback (most recent call last)",
      "\u001b[1;32m<ipython-input-23-dda0ae951da0>\u001b[0m in \u001b[0;36m<module>\u001b[1;34m()\u001b[0m\n\u001b[0;32m     10\u001b[0m \u001b[1;33m\u001b[0m\u001b[0m\n\u001b[0;32m     11\u001b[0m \u001b[1;31m# This fails with the tuple\u001b[0m\u001b[1;33m\u001b[0m\u001b[1;33m\u001b[0m\u001b[0m\n\u001b[1;32m---> 12\u001b[1;33m \u001b[0mimmutable_collection\u001b[0m\u001b[1;33m[\u001b[0m\u001b[1;36m1\u001b[0m\u001b[1;33m]\u001b[0m \u001b[1;33m=\u001b[0m \u001b[1;36m15\u001b[0m\u001b[1;33m\u001b[0m\u001b[0m\n\u001b[0m",
      "\u001b[1;31mTypeError\u001b[0m: 'tuple' object does not support item assignment"
     ]
    }
   ],
   "source": [
    "mutable_collection = ['Tim', 10, [4, 5]]\n",
    "immutable_collection = ('Tim', 10, [4, 5])\n",
    "\n",
    "# Reading from data types are essentially the same:\n",
    "print(mutable_collection[2])    # [4, 5]\n",
    "print(immutable_collection[2])  # [4, 5]\n",
    "\n",
    "# Let's change the 2nd value from 10 to 15\n",
    "mutable_collection[1] = 15\n",
    "\n",
    "# This fails with the tuple\n",
    "immutable_collection[1] = 15"
   ]
  },
  {
   "cell_type": "code",
   "execution_count": 24,
   "metadata": {},
   "outputs": [
    {
     "name": "stdout",
     "output_type": "stream",
     "text": [
      "[4, 5, 6]\n"
     ]
    }
   ],
   "source": [
    "immutable_collection[2].append(6)\n",
    "print(immutable_collection[2])"
   ]
  },
  {
   "cell_type": "code",
   "execution_count": 25,
   "metadata": {},
   "outputs": [
    {
     "ename": "TypeError",
     "evalue": "'tuple' object does not support item assignment",
     "output_type": "error",
     "traceback": [
      "\u001b[1;31m---------------------------------------------------------------------------\u001b[0m",
      "\u001b[1;31mTypeError\u001b[0m                                 Traceback (most recent call last)",
      "\u001b[1;32m<ipython-input-25-3b5168d43b1f>\u001b[0m in \u001b[0;36m<module>\u001b[1;34m()\u001b[0m\n\u001b[1;32m----> 1\u001b[1;33m \u001b[0mimmutable_collection\u001b[0m\u001b[1;33m[\u001b[0m\u001b[1;36m2\u001b[0m\u001b[1;33m]\u001b[0m \u001b[1;33m=\u001b[0m \u001b[1;33m[\u001b[0m\u001b[1;36m4\u001b[0m\u001b[1;33m,\u001b[0m \u001b[1;36m5\u001b[0m\u001b[1;33m]\u001b[0m\u001b[1;33m\u001b[0m\u001b[0m\n\u001b[0m",
      "\u001b[1;31mTypeError\u001b[0m: 'tuple' object does not support item assignment"
     ]
    }
   ],
   "source": [
    "immutable_collection[2] = [4, 5]"
   ]
  },
  {
   "cell_type": "code",
   "execution_count": 26,
   "metadata": {},
   "outputs": [
    {
     "name": "stdout",
     "output_type": "stream",
     "text": [
      "Hello\n",
      "Hello\n",
      "Hello\n",
      "Hello\n",
      "Hello\n"
     ]
    }
   ],
   "source": [
    "def write_repeat(message, n):\n",
    "    for i in range(n):\n",
    "        print(message)\n",
    "\n",
    "write_repeat('Hello', 5)"
   ]
  },
  {
   "cell_type": "code",
   "execution_count": 27,
   "metadata": {},
   "outputs": [
    {
     "name": "stderr",
     "output_type": "stream",
     "text": [
      "ERROR:root:Hello\n",
      "ERROR:root:Hello\n",
      "ERROR:root:Hello\n",
      "ERROR:root:Hello\n",
      "ERROR:root:Hello\n"
     ]
    },
    {
     "name": "stdout",
     "output_type": "stream",
     "text": [
      "Hello\n",
      "Hello\n",
      "Hello\n",
      "Hello\n",
      "Hello\n"
     ]
    }
   ],
   "source": [
    "def hof_write_repeat(message, n, action):\n",
    "    for i in range(n):\n",
    "        action(message)\n",
    "\n",
    "hof_write_repeat('Hello', 5, print)\n",
    "\n",
    "# Import the logging library\n",
    "import logging\n",
    "# Log the output as an error instead\n",
    "hof_write_repeat('Hello', 5, logging.error)"
   ]
  },
  {
   "cell_type": "code",
   "execution_count": 28,
   "metadata": {},
   "outputs": [
    {
     "name": "stdout",
     "output_type": "stream",
     "text": [
      "[25, 90]\n"
     ]
    }
   ],
   "source": [
    "def add2(numbers):\n",
    "    new_numbers = []\n",
    "    for n in numbers:\n",
    "        new_numbers.append(n + 2)\n",
    "    return new_numbers\n",
    "\n",
    "print(add2([23, 88]))"
   ]
  },
  {
   "cell_type": "code",
   "execution_count": 29,
   "metadata": {},
   "outputs": [
    {
     "name": "stdout",
     "output_type": "stream",
     "text": [
      "[28, 93]\n",
      "[33, 98]\n"
     ]
    }
   ],
   "source": [
    "def hof_add(increment):\n",
    "    # Create a function that loops and adds the increment\n",
    "    def add_increment(numbers):\n",
    "        new_numbers = []\n",
    "        for n in numbers:\n",
    "            new_numbers.append(n + increment)\n",
    "        return new_numbers\n",
    "    # We return the function as we do any other value\n",
    "    return add_increment\n",
    "\n",
    "add5 = hof_add(5)\n",
    "print(add5([23, 88]))   # [28, 93]\n",
    "add10 = hof_add(10)\n",
    "print(add10([23, 88]))"
   ]
  },
  {
   "cell_type": "code",
   "execution_count": 30,
   "metadata": {},
   "outputs": [
    {
     "name": "stdout",
     "output_type": "stream",
     "text": [
      "36\n"
     ]
    }
   ],
   "source": [
    "def hof_product(multiplier):\n",
    "    return lambda x: x * multiplier\n",
    "\n",
    "mult6 = hof_product(6)\n",
    "print(mult6(6)) # 36"
   ]
  },
  {
   "cell_type": "code",
   "execution_count": 31,
   "metadata": {},
   "outputs": [
    {
     "name": "stdout",
     "output_type": "stream",
     "text": [
      "<map object at 0x000001ACC10DB0B8>\n",
      "Hi Shivani\n",
      "Hi Jason\n",
      "Hi Yusef\n",
      "Hi Sakura\n"
     ]
    }
   ],
   "source": [
    "names = ['Shivani', 'Jason', 'Yusef', 'Sakura']\n",
    "greeted_names = map(lambda x: 'Hi ' + x, names)\n",
    "\n",
    "# This prints something similar to: <map object at 0x10ed93cc0>\n",
    "print(greeted_names)\n",
    "# Recall, that map returns an iterator \n",
    "\n",
    "# We can print all names in a for loop\n",
    "for name in greeted_names:\n",
    "    print(name)\n"
   ]
  },
  {
   "cell_type": "code",
   "execution_count": 32,
   "metadata": {},
   "outputs": [
    {
     "name": "stdout",
     "output_type": "stream",
     "text": [
      "[27, 216, 729, 1728, 3375, 5832]\n"
     ]
    }
   ],
   "source": [
    "# Let's arbitrarily get the all numbers divisible by 3 between 1 and 20 and cube them\n",
    "arbitrary_numbers = map(lambda num: num ** 3, filter(lambda num: num % 3 == 0, range(1, 21)))\n",
    "\n",
    "print(list(arbitrary_numbers)) # [27, 216, 729, 1728, 3375, 5832]"
   ]
  },
  {
   "cell_type": "code",
   "execution_count": 33,
   "metadata": {},
   "outputs": [
    {
     "name": "stdout",
     "output_type": "stream",
     "text": [
      "['Hi Shivani', 'Hi Jan', 'Hi Yusef', 'Hi Sakura']\n"
     ]
    }
   ],
   "source": [
    "# Recall\n",
    "names = ['Shivani', 'Jan', 'Yusef', 'Sakura']\n",
    "# Instead of: map(lambda x: 'Hi ' + x, names), we can do\n",
    "greeted_names = ['Hi ' + name for name in names]\n",
    "\n",
    "print(greeted_names) # ['Hi Shivani', 'Hi Jason', 'Hi Yusef', 'Hi Sakura']"
   ]
  },
  {
   "cell_type": "code",
   "execution_count": 34,
   "metadata": {},
   "outputs": [
    {
     "name": "stdout",
     "output_type": "stream",
     "text": [
      "[35]\n",
      "[27, 216, 729, 1728, 3375, 5832]\n"
     ]
    }
   ],
   "source": [
    "# Recall\n",
    "numbers = [13, 4, 18, 35]\n",
    "# Instead of: filter(lambda num: num % 5 == 0, numbers), we can do\n",
    "div_by_5 = [num for num in numbers if num % 5 == 0]\n",
    "\n",
    "print(div_by_5) # [35]\n",
    "\n",
    "# We can manage the combined case as well:\n",
    "# Instead of: \n",
    "# map(lambda num: num ** 3, filter(lambda num: num % 3 == 0, range(1, 21)))\n",
    "arbitrary_numbers = [num ** 3 for num in range(1, 21) if num % 3 == 0]\n",
    "print(arbitrary_numbers) # [27, 216, 729, 1728, 3375, 5832]"
   ]
  },
  {
   "cell_type": "code",
   "execution_count": null,
   "metadata": {},
   "outputs": [],
   "source": []
  }
 ],
 "metadata": {
  "kernelspec": {
   "display_name": "Python 3",
   "language": "python",
   "name": "python3"
  },
  "language_info": {
   "codemirror_mode": {
    "name": "ipython",
    "version": 3
   },
   "file_extension": ".py",
   "mimetype": "text/x-python",
   "name": "python",
   "nbconvert_exporter": "python",
   "pygments_lexer": "ipython3",
   "version": "3.6.6"
  }
 },
 "nbformat": 4,
 "nbformat_minor": 2
}
