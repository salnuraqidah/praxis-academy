{
 "cells": [
  {
   "cell_type": "code",
   "execution_count": 8,
   "metadata": {},
   "outputs": [
    {
     "name": "stderr",
     "output_type": "stream",
     "text": [
      "C:\\ProgramData\\Anaconda3\\lib\\site-packages\\urllib3\\connectionpool.py:857: InsecureRequestWarning: Unverified HTTPS request is being made. Adding certificate verification is strongly advised. See: https://urllib3.readthedocs.io/en/latest/advanced-usage.html#ssl-warnings\n",
      "  InsecureRequestWarning)\n"
     ]
    },
    {
     "data": {
      "text/plain": [
       "200"
      ]
     },
     "execution_count": 8,
     "metadata": {},
     "output_type": "execute_result"
    }
   ],
   "source": [
    "import urllib3\n",
    "http = urllib3.PoolManager()\n",
    "r = http.request('GET', 'https://www.bhinneka.com/jual/cari/iphone.html')\n",
    "r.status"
   ]
  },
  {
   "cell_type": "code",
   "execution_count": 9,
   "metadata": {},
   "outputs": [
    {
     "data": {
      "text/plain": [
       "b'<!DOCTYPE html>\\n<html lang=\"id-ID\">\\n\\n<head>\\n    <meta charset=\"utf-8\">\\n    <meta http-equiv=\"X-UA-Compatible\" content=\"IE=edge,chrome=1\">\\n        <link rel=\"canonical\" href=\"https://www.bhinneka.com/jual/cari\" />\\n    <title>Mencari Produk - iphone.html</title>\\n    <meta title=\"Mencari Produk - Iphone.html\">\\n    <meta name=\"description\" content=\"Toko Online No. 1 dan Terbesar di Indonesia dengan produk LENGKAP, Kualitas TERJAMIN, Harga MURAH, CICILAN 0%, dan GRATIS Pengiriman\">\\n    <meta name=\"robots\" content=\"NOINDEX, FOLLOW, NOODP, NOYDIR\">\\n        <meta name=\"keywords\" content=\"Mencari Produk - iphone.html\">\\n    <meta name=\"viewport\" content=\"width=device-width, maximum-scale=1, minimum-scale=1, user-scalable=no\">\\n        <!-- Favicon-->\\n    <link rel=\"apple-touch-icon-precomposed\" href=\"//static.bmdstatic.com/sf/assets/img/favicons/favicon-152.png?v=1.9.8\">\\n    <link rel=\"apple-touch-icon-precomposed\" sizes=\"152x152\" href=\"//static.bmdstatic.com/sf/assets/img/favicons/favicon-152.png?v=1.9.8\">\\n    <link rel=\"apple-touch-icon-precomposed\" sizes=\"144x144\" href=\"//static.bmdstatic.com/sf/assets/img/favicons/favicon-144.png?v=1.9.8\">\\n    <link rel=\"apple-touch-icon-precomposed\" sizes=\"120x120\" href=\"//static.bmdstatic.com/sf/assets/img/favicons/favicon-120.png?v=1.9.8\">\\n    <link rel=\"apple-touch-icon-precomposed\" sizes=\"114x114\" href=\"//static.bmdstatic.com/sf/assets/img/favicons/favicon-114.png?v=1.9.8\">\\n    <link rel=\"apple-touch-icon-precomposed\" sizes=\"76x76\" href=\"//static.bmdstatic.com/sf/assets/img/favicons/favicon-76.png?v=1.9.8\">\\n    <link rel=\"apple-touch-icon-precomposed\" href=\"//static.bmdstatic.com/sf/assets/img/favicons/favicon-57.png?v=1.9.8\">\\n    <meta name=\"msapplication-TileColor\" content=\"#092c52\">\\n    <meta name=\"msapplication-TileImage\" content=\"//static.bmdstatic.com/sf/assets/img/favicons/favicon-144.png?v=1.9.8\">\\n    <link rel=\"icon\" sizes=\"16x16 24x24 32x32 48x48 64x64\" href=\"//static.bmdstatic.com/sf/assets/img/favicons/favicon.ico?v=1.9.8\">\\n    <link rel=\"mask-icon\" href=\"//static.bmdstatic.com/sf/assets/img/favicons/favicon.svg?v=1.9.8\" color=\"#092c52\">\\n    <!-- Theme color for chrome, firefox and opera-->\\n    <meta name=\"theme-color\" content=\"#092c52\">\\n    <link rel=\"stylesheet\" type=\"text/css\" href=\"//static.bmdstatic.com/sf/assets/fonts/geomanist/geomanist-webfont.css?v=1.9.8\">\\n    <link rel=\"stylesheet\" type=\"text/css\" href=\"//static.bmdstatic.com/sf/assets/css/bmd/all.min.css?v=1.9.8\">\\n        <link rel=\"stylesheet\" type=\"text/css\" href=\"//static.bmdstatic.com/sf/assets/css/bmd/product-list.css?v=1.9.8\" />\\n    <script type=\"text/javascript\" src=\"//static.bmdstatic.com/sf/assets/js/bmd/plugins.js?v=1.9.8\"></script>\\n\\n    <!-- Google Tag Manager -->\\n    <script>(function(w,d,s,l,i){w[l]=w[l]||[];w[l].push({\\'gtm.start\\':\\n    new Date().getTime(),event:\\'gtm.js\\',\\'pack\\':\\'starfish\\'});var f=d.getElementsByTagName(s)[0],\\n    j=d.createElement(s),dl=l!=\\'dataLayer\\'?\\'&l=\\'+l:\\'\\';j.async=true;j.src=\\n    \\'https://www.googletagmanager.com/gtm.js?id=\\'+i+dl;f.parentNode.insertBefore(j,f);\\n    })(window,document,\\'script\\',\\'dataLayer\\',\\'GTM-PXD88J\\');</script>\\n    <!-- End Google Tag Manager -->\\n\\n    <!-- Rich Snippets -->\\n        <!-- End Rich Snippets -->\\n</head>\\n\\n<body class=\"bt-page\">\\n    <!-- Google Tag Manager (noscript) -->\\n<noscript><iframe src=\"https://www.googletagmanager.com/ns.html?id=GTM-PXD88J\"\\nheight=\"0\" width=\"0\" style=\"display:none;visibility:hidden\"></iframe></noscript>\\n<!-- End Google Tag Manager (noscript) -->\\n\\n    <!--[if lt IE 11]>\\n<p class=\\'browsehappy\\'>You are using an <strong>outdated</strong> browser. Please <a href=\\'http://browsehappy.com/\\'>upgrade your browser</a> to improve your experience.</p>\\n<![endif]-->\\n    <div class=\"bt-body-wrapper\">\\n        <!-- <div id=\"cwu\"><span class=\"pt-icon-standard pt-icon-chat\"></span> Chat with Us</div>  -->\\n        <div class=\"bt-overlay\"><img class=\"loader\" src=\"//static.bmdstatic.com/sf/assets/img/loading-spin.svg\" alt=\"on loading...\"></div>\\n        <div class=\"bt-offcanvas -side-right \">\\n            <div class=\"bt-offcanvas__content\">\\n                                    <div class=\"bt-offcanvas__title\">\\n                        <span class=\"bt-typo-displaysmall\"><a href=\"/login\">Masuk</a> atau <a href=\"/register\">Daftar</a></span>\\n                    </div>\\n                                </div>\\n            </div>\\n        </div>\\n\\n        \\n        <div class=\"bt-page-wrapper\">\\n                        <nav class=\"navbar bt-navbar-mobile navbar-static-top visible-xs bt-navbar-mobile--wrapper\" id=\"bt-header-mobile\">\\n                <div class=\"container\">\\n                                         <div class=\"bt-navbar__left bt-navbar__top\">\\n                        <div class=\"bt-menu-tree\">\\n                        </div>\\n                          <a class=\"navbar-logo\" href=\"/\"><img class=\"img-responsive\" src=\"//static.bmdstatic.com/sf/assets/img/bhinneka-logo.svg\" alt=\"Bhinneka Logo\"/></a>\\n                          <a class=\"navbar-logo-others\" href=\"/digital-product\" target=\"_blank\">Digital Product</a>\\n                    </div>\\n                    <div class=\"bt-navbar__bottom\">\\n                        <div class=\"bt-navbar__form\">\\n                            <div class=\"bt-search-suggestion\"></div>\\n                        </div>\\n                        <div class=\"bt-navbar__right\">\\n                                                            <a class=\"bt-navbar-mobile__account\" href=\"/login\"><span class=\"pt-icon-large pt-icon-log-in\"></span></a>\\n                                                        <div class=\"bt-navbar-mobile__cart\">\\n                                <a href=\"/cart\">\\n                                    <img class=\"navbar-cart-icon\" src=\"//static.bmdstatic.com/sf/assets/img/shopping_basket.svg\" alt=\"Shopping Cart\"/>\\n                                    <span class=\"bt-navbar__badge\"></span>\\n                                </a>\\n                            </div>\\n                        </div>\\n                    </div>\\n                                        \\n                </div>\\n                <div class=\"bt-navbar-mobile__autocomplete\">\\n                    <ul class=\"bt-autocomplete\">\\n                                            </ul>\\n                </div>\\n                 <div id=\"autocompleteMobileContaniner\"></div>\\n            </nav>\\n                        <header class=\"navbar navbar-inverse navbar-static-top visible-sm visible-md visible-lg bt-navbar \" id=\"bt-header\">\\n                                <div class=\"container\">\\n                                        <div class=\"row main-menu-merchant\">\\n                                                    <div class=\"bt-menu-tree\">\\n                            </div>\\n                                                <div class=\"navbar-header\"><a class=\"navbar-logo\" href=\"/\"><img class=\"img-responsive\" src=\"//static.bmdstatic.com/sf/assets/img/bhinneka-logo.svg\" alt=\"Bhinneka Logo\"/><img class=\"hide\" src=\"//static.bmdstatic.com/sf/assets/img/bhinneka-logo-mark.svg\" alt=\"Bhinneka Logo\">\\n                        </a>\\n                        </div>\\n                                                    <div class=\"navbar-cart\">\\n                                <a href=\"/cart\">\\n                                    <img class=\"navbar-cart__icon\" src=\"//static.bmdstatic.com/sf/assets/img/shopping_basket.svg\"/>\\n                                    <span class=\"bt-navbar__badge\"></span>\\n                                </a>\\n                            </div>\\n                                                            <div class=\"navbar-login\">\\n                                    <a class=\"btn\" href=\"/login\">Login</a>\\n                                </div>\\n                                                                                                        <div class=\"bt-search-suggestion\"></div>\\n                                            </div>\\n                </div>\\n            </header>\\n            <div class=\"container-fluid\">\\n\\n                        </div>\\n\\n            \\n\\n                        <div id=\"divTop\" class=bt-navbar-bottom>\\n                <div class=\"container\">\\n                    <div class=\"bt-navbar-bottom__list\">\\n                        <ul id=\"leftPromoLinks\"  >\\n                        </ul>\\n                                                    \\n                                            </div>\\n                </div>\\n            </div>\\n            \\n            <div>\\n                <!-- Alert-->\\n                <div id=\"formMessage\">\\n                                    </div>\\n                <main class=\"container-fluid category-list\" data-query=\"\" data-brands=\"\"\\n  data-cat-id=\"\" data-is-menu-tree=\"1\">\\n  <div class=\"row\">\\n    <div class=\"col-sm-12\">\\n      <div class=\"bt-catalog-breadcrumb\">\\n        <ol class=\"breadcrumb\"></ol>\\n        <div class=\"bt-total-shown-product pull-right text-overflow hidden-xs\" id=\"productCount\"></div>\\n      </div>\\n    </div>\\n  </div>\\n  <div class=\"row\">\\n    <aside class=\"bt-aside-filter theiaStickySidebar col-lg-2 visible-lg\" id=\"facetFilter\">\\n      <div class=\"bt-filter\" id=\"categoryFilter\">\\n        <div>\\n          <div class=\"ais-root ais-hierarchical-menu\">\\n            <div class=\"ais-hierarchical-menu--header ais-header\">\\n              <p class=\"bt-typo-heading bt-filter-title\">Kategori</p>\\n            </div>\\n            <div class=\"ais-body ais-hierarchical-menu--body\"></div>\\n          </div>\\n        </div>\\n      </div>\\n    </aside>\\n    <main class=\"bt-product-content -grid-view theiaStickySidebar col-lg-10\">\\n      <div class=\"row\">\\n        <div class=\"bt-catalog-info col-xs-12 col-lg-12\">\\n          <div class=\"bt-catalog-menu\">\\n            <div class=\"bt-filter-opt hidden-lg\">\\n              <a class=\"btn btn-block btn-default bt-filter-button\" data-toggle=\"modal\" data-target=\".bt-mobile-modal\"\\n                id=\"btnFilter\">\\n                <span class=\"pt-icon pt-icon-list-detail-view\"></span>\\n                <span>Filter (#)</span>\\n              </a>\\n            </div>\\n            <div class=\"bt-catalog-opt\">\\n              <label class=\"control-label visible-lg-inline\" for=\"sortCatalog\">Urutkan:</label>\\n              <select class=\"form-control bt-sort-button\" id=\"sortCatalog\">\\n                <option value=\"\">--Pilih--</option>\\n                <option value=\"name\">A-Z</option>\\n                <option value=\"-name\">Z-A</option>\\n                <option value=\"price\">Harga Terendah</option>\\n                <option value=\"-price\">Harga Tertinggi</option>\\n              </select>\\n              <div class=\"btn-group visible-lg-inline-block bt-catalog-view\" id=\"viewToggle\" role=\"group\"\\n                data-toggle=\"buttons\">\\n                <label class=\"btn btn-default active\">\\n                  <input type=\"radio\" name=\"viewType\" id=\"grid\" value=\"grid\" checked />\\n                  <span class=\"pt-icon pt-icon-grid-view\"></span>\\n                </label>\\n                <label class=\"btn btn-default\">\\n                  <input type=\"radio\" name=\"viewType\" id=\"list\" value=\"list\" />\\n                  <span class=\"pt-icon pt-icon-list\"></span>\\n                </label>\\n              </div>\\n            </div>\\n          </div>\\n        </div>\\n      </div>\\n      <div class=\"row no-gutters\" id=\"catalogueProduct\" data-assets-url=\"//static.bmdstatic.com/sf/assets/\">\\n        <div class=\"col-lg-3 col-md-4 col-xs-6 col-sm-6 bt-product-list\">\\n          <div class=\"row\">\\n            <div class=\"col-md-9 bt-product-main-info\">\\n              <div class=\"bt-product-list-image\">\\n                <img src=\"//static.bmdstatic.com/sf/assets/img/image-product-loader_grey.svg\"\\n                  alt=\"Loading...\" />\\n              </div>\\n              <div class=\"bt-product-list-info\">\\n                <div class=\"bt-typo-heading bt-product-list-title\"></div>\\n                <div class=\"bt-typo-body bt-product-list-stock\">\\n                  <p class=\"stockAvailable\"></p>\\n                  <p class=\"lowStock hidden\"></p>\\n                  <p class=\"outStock hidden\"></p>\\n                </div>\\n                <p class=\"bt-typo-body bt-product-list-spec\"></p>\\n              </div>\\n            </div>\\n            <div class=\"col-md-3 col-xs-12 bt-product-list-price\">\\n              <p class=\"bt-typo-caption bt-product-normalPrice text-muted\"></p>\\n              <p class=\"bt-typo-heading bt-product-webPrice\"></p>\\n            </div>\\n          </div>\\n        </div>\\n        <div class=\"col-lg-3 col-md-4 col-sm-6 bt-product-list\">\\n          <div class=\"row\">\\n            <div class=\"col-md-9 bt-product-main-info\">\\n              <div class=\"bt-product-list-image\">\\n                <img src=\"//static.bmdstatic.com/sf/assets/img/image-product-loader_grey.svg\"\\n                  alt=\"Loading...\" />\\n              </div>\\n              <div class=\"bt-product-list-info\">\\n                <div class=\"bt-typo-heading bt-product-list-title\"></div>\\n                <div class=\"bt-typo-body bt-product-list-stock\">\\n                  <p class=\"stockAvailable\"></p>\\n                  <p class=\"lowStock hidden\"></p>\\n                  <p class=\"outStock hidden\"></p>\\n                </div>\\n                <p class=\"bt-typo-body bt-product-list-spec\"></p>\\n              </div>\\n            </div>\\n            <div class=\"col-md-3 col-xs-12 bt-product-list-price\">\\n              <p class=\"bt-typo-caption bt-product-normalPrice text-muted\"></p>\\n              <p class=\"bt-typo-heading bt-product-webPrice\"></p>\\n            </div>\\n          </div>\\n        </div>\\n        <div class=\"col-lg-3 col-md-4 col-sm-6 bt-product-list\">\\n          <div class=\"row\">\\n            <div class=\"col-md-9 bt-product-main-info\">\\n              <div class=\"bt-product-list-image\">\\n                <img src=\"//static.bmdstatic.com/sf/assets/img/image-product-loader_grey.svg\"\\n                  alt=\"Loading...\" />\\n              </div>\\n              <div class=\"bt-product-list-info\">\\n                <div class=\"bt-typo-heading bt-product-list-title\"></div>\\n                <div class=\"bt-typo-body bt-product-list-stock\">\\n                  <p class=\"stockAvailable\"></p>\\n                  <p class=\"lowStock hidden\"></p>\\n                  <p class=\"outStock hidden\"></p>\\n                </div>\\n                <p class=\"bt-typo-body bt-product-list-spec\"></p>\\n              </div>\\n            </div>\\n            <div class=\"col-md-3 col-xs-12 bt-product-list-price\">\\n              <p class=\"bt-typo-caption bt-product-normalPrice text-muted\"></p>\\n              <p class=\"bt-typo-heading bt-product-webPrice\"></p>\\n            </div>\\n          </div>\\n        </div>\\n        <div class=\"col-lg-3 col-md-4 col-sm-6 bt-product-list\">\\n          <div class=\"row\">\\n            <div class=\"col-md-9 bt-product-main-info\">\\n              <div class=\"bt-product-list-image\">\\n                <img src=\"//static.bmdstatic.com/sf/assets/img/image-product-loader_grey.svg\"\\n                  alt=\"Loading...\" />\\n              </div>\\n              <div class=\"bt-product-list-info\">\\n                <div class=\"bt-typo-heading bt-product-list-title\"></div>\\n                <div class=\"bt-typo-body bt-product-list-stock\">\\n                  <p class=\"stockAvailable\"></p>\\n                  <p class=\"lowStock hidden\"></p>\\n                  <p class=\"outStock hidden\"></p>\\n                </div>\\n                <p class=\"bt-typo-body bt-product-list-spec\"></p>\\n              </div>\\n            </div>\\n            <div class=\"col-md-3 col-xs-12 bt-product-list-price\">\\n              <p class=\"bt-typo-caption bt-product-normalPrice text-muted\"></p>\\n              <p class=\"bt-typo-heading bt-product-webPrice\"></p>\\n            </div>\\n          </div>\\n        </div>\\n      </div>\\n      <div class=\"row\">\\n        <div class=\"col-lg-12\">\\n          <nav class=\"bt-product-pagination\" id=\"pagination\" style=\"display: none;\">\\n            <ul class=\"pager\">\\n              <li>\\n                <a class=\"btn btn-default\" aria-label=\"Sebelum\">\\n                  <span class=\"pt-icon-large pt-icon-chevron-left\"></span>\\n                </a>\\n              </li>\\n              <li>\\n                <input class=\"input-lg form-control input-pager\" id=\"currentPage\" type=\"number\" />\\n              </li>\\n              <li id=\"totalPages\"></li>\\n              <li>\\n                <a class=\"btn btn-default\" aria-label=\"Setelah\">\\n                  <span class=\"pt-icon-large pt-icon-chevron-right\"></span>\\n                </a>\\n              </li>\\n            </ul>\\n          </nav>\\n        </div>\\n      </div>\\n    </main>\\n  </div>\\n</main>\\n<div>\\n  <div class=\"col-lg-12\">\\n    <div class=\"row\">\\n      <button class=\"bt-back-to-top btn btn-block btn-link\">\\n        Kembali ke Atas\\n      </button>\\n    </div>\\n  </div>\\n</div>\\n<!-- # Modal Filter Mobile -->\\n<div class=\"bt-mobile-modal modal fade in\" tabindex=\"-1\" role=\"dialog\">\\n  <div class=\"modal-dialog modal-lg\" role=\"document\">\\n    <div class=\"modal-content\">\\n      <div class=\"modal-header\">\\n        <span class=\"pt-icon-large pt-icon-cross pull-right\" data-dismiss=\"modal\"></span>\\n        <h4 class=\"bt-typo-displaysmall modal-title\">Filter</h4>\\n      </div>\\n      <div class=\"modal-body\">\\n        <ul class=\"filter-accordion\">\\n          <!-- <li>\\n            <a class=\"filter-accordion__button\">\\n              <div class=\"filter-accordion__label\">Kategori</div>\\n            </a>\\n            <div class=\"filter-accordion__text\" id=\"textCategory\"></div>\\n            <div class=\"filter-accordion__value\" id=\"slugCategory\" hidden></div>\\n            <div class=\"filter-accordion__id\" id=\"idCategory\" hidden></div>\\n            <div class=\"collapse\" id=\"filterCategory\">\\n              <div class=\"filter-accordion__content filter-content__category\">\\n                <ul class=\"filter-single\" id=\"categoryList\"></ul>\\n                <div class=\"filter-action\">\\n                  <div class=\"col-xs-6\">\\n                    <a class=\"btn btn-hollow\" id=\"batalCategory\">Batal</a>\\n                  </div>\\n                  <div class=\"col-xs-6\">\\n                    <a class=\"btn btn-primary\" id=\"submitCategory\">Pilih</a>\\n                  </div>\\n                </div>\\n              </div>\\n            </div>\\n          </li> -->\\n          <li>\\n            <a class=\"filter-accordion__button\">\\n              <div class=\"filter-accordion__label\">Kisaran Harga</div>\\n            </a>\\n            <div class=\"filter-accordion__text\" id=\"textPrice\"></div>\\n            <div class=\"collapse\" id=\"filterPrice\">\\n              <div class=\"filter-accordion__content filter-content__price form-group\">\\n                <ul class=\"row\">\\n                  <li class=\"col-xs-6\">\\n                    <label class=\"control-label\">Harga Minimal</label>\\n                    <input class=\"form-control\" placeholder=\"Dari\" id=\"minPrice\" type=\"text\" maxlength=\"12\"\\n                      value=\"\" />\\n                  </li>\\n                  <li class=\"col-xs-6\">\\n                    <label class=\"control-label\">Harga Maksimal</label>\\n                    <input class=\"form-control\" placeholder=\"Hingga\" id=\"maxPrice\" type=\"text\" maxlength=\"12\"\\n                      value=\"\" />\\n                  </li>\\n                  <li class=\"col-xs-12\">\\n                    <p class=\"help-block\"></p>\\n                  </li>\\n                </ul>\\n                <div class=\"filter-action\">\\n                  <div class=\"col-xs-6\">\\n                    <a class=\"btn btn-hollow\" id=\"batalPrice\">Batal</a>\\n                  </div>\\n                  <button class=\"col-xs-6 btn btn-primary\" id=\"submitPrice\">\\n                    Pilih\\n                  </button>\\n                </div>\\n              </div>\\n            </div>\\n          </li>\\n          <div class=\"filter-accordion__slug\" id=\"slugBrand\" hidden></div>\\n          <li>\\n            <a class=\"filter-accordion__button\">\\n              <div class=\"filter-accordion__label\">Merek</div>\\n            </a>\\n            <div class=\"filter-accordion__text\" id=\"textBrand\"></div>\\n            <div class=\"collapse\" id=\"filterBrand\">\\n              <div class=\"filter-accordion__content filter-content__brand\">\\n                <ul class=\"filter-multiple\" id=\"brandList\"></ul>\\n                <div class=\"filter-action\">\\n                  <div class=\"col-xs-6\">\\n                    <a class=\"btn btn-hollow\" id=\"batalBrand\">Batal</a>\\n                  </div>\\n                  <div class=\"col-xs-6\">\\n                    <a class=\"btn btn-primary\" id=\"pilihBrand\">Pilih</a>\\n                  </div>\\n                </div>\\n              </div>\\n            </div>\\n          </li>\\n          <li class=\"filter-clear\"><a id=\"clearAll\">Hapus Semua Filter</a></li>\\n          <li class=\"filter-action row\">\\n            <div class=\"col-xs-6\">\\n              <a id=\"cancel\" class=\"btn btn-hollow\" data-dismiss=\"modal\">Batal</a>\\n            </div>\\n            <div class=\"col-xs-6\">\\n              <a id=\"submit\" class=\"btn btn-primary\" data-dismiss=\"modal\">OK</a>\\n            </div>\\n          </li>\\n        </ul>\\n      </div>\\n    </div>\\n  </div>\\n</div>\\n                <div class=\"modal fade\" id=\"bt-modal-buy\" tabindex=\"-1\" role=\"dialog\">\\n                    <div class=\"modal-dialog\" role=\"document\">\\n                        <div class=\"modal-content\">\\n                            <div class=\"modal-header\">\\n                                <button class=\"close\" type=\"button\" data-dismiss=\"modal\" aria-label=\"Close\"><span aria-hidden=\"true\">&times;</span></button>\\n                                <h5 class=\"modal-title\"></h5>\\n                            </div>\\n                            <div class=\"modal-body-footer\">\\n                                <div class=\"modal-body\"></div>\\n                            </div>\\n                        </div>\\n                    </div>\\n                </div>\\n\\n                <div class=\"modal fade\" id=\"bt-modal-installment\" tabindex=\"-1\" role=\"dialog\">\\n                    <div class=\"modal-dialog\" role=\"document\">\\n                        <div class=\"modal-content\">\\n                        <div class=\"modal-header\">\\n                            <button class=\"close\" type=\"button\" data-dismiss=\"modal\" aria-label=\"Close\"><span class=\"pt-icon-large pt-icon-cross\" aria-hidden=\"true\"></span></button>\\n                            <h4 class=\"modal-title\">Simulasi Cicilan</h4>\\n                        </div>\\n                        <div class=\"modal-body\">\\n                            <select id=\"installmentSimulatorValue\" class=\"form-control\">\\n                            </select>\\n                            <div class=\"modal-body-cicilan\">\\n                                <div class=\"row\">\\n                                    <table class=\"table table-striped\">\\n                                        <thead>\\n                                            <tr>\\n                                                <th>Tenor</th>\\n                                                <th>Bunga</th>\\n                                                <th>Per Bulan</th>\\n                                            </tr>\\n                                        </thead>\\n                                        <tbody id=\"installmentSimulatorTerms\">\\n                                        </tbody>\\n                                    </table>\\n                                </div>\\n                            <ul>\\n                                <li>Harga cicilan belum termasuk ongkos kirim, bea admin dan asuransi</li>\\n                                <li>Minimum pembelanjaan berbeda tiap bank</li>\\n                            </ul>\\n                            </div>\\n                        </div>\\n                        </div>\\n                    </div>\\n                </div>\\n\\n                <div class=\"bt-filter-modal modal fade\" tabindex=\"-1\" role=\"dialog\" style=\"display: none;\">\\n                    <div class=\"modal-dialog modal-lg\" role=\"document\">\\n                        <div class=\"modal-content\">\\n                            <div class=\"modal-header\"><span class=\"pt-icon-large pt-icon-cross pull-right\" data-dismiss=\"modal\"></span>\\n                                <h4 class=\"bt-typo-displaysmall modal-title\">Filter (#)</h4>\\n                            </div>\\n                            <div class=\"modal-body\">\\n                                <div class=\"bt-filter\" id=\"categoryFilterMobile\"></div>\\n                                <div class=\"bt-filter\" id=\"priceFilterMobile\"></div>\\n                                <div class=\"bt-filter\" id=\"brandFilterMobile\">\\n                                    <p class=\"bt-typo-heading bt-filter-title\">Merek\\n                                                                        </p>\\n                                    <div class=\"bt-filter-content\">\\n                                        <input class=\"form-control\" type=\"search\" placeholder=\"Cari Merek...\">\\n                                        <div class=\"bt-list-overflow\" id=\"list-brand-mobile\"></div>\\n                                    </div>\\n                                </div>\\n                            </div>\\n                        </div>\\n                    </div>\\n                </div>\\n            </div>\\n            <div class=\"pswp\" tabindex=\"-1\" role=\"dialog\" aria-hidden=\"true\">\\n                <div class=\"pswp__bg\"></div>\\n                <div class=\"pswp__scroll-wrap\">\\n                    <div class=\"pswp__container\">\\n                        <div class=\"pswp__item\"></div>\\n                        <div class=\"pswp__item\"></div>\\n                        <div class=\"pswp__item\"></div>\\n                    </div>\\n                    <div class=\"pswp__ui pswp__ui--hidden\">\\n                        <div class=\"pswp__top-bar\">\\n                            <div class=\"pswp__counter\"></div>\\n                            <button class=\"pswp__button pswp__button--close\" title=\"Close (Esc)\"></button>\\n                            <button class=\"pswp__button pswp__button--zoom\" title=\"Zoom in/out\"></button>\\n                            <div class=\"pswp__preloader\">\\n                                <div class=\"pswp__preloader__icn\">\\n                                    <div class=\"pswp__preloader__cut\">\\n                                        <div class=\"pswp__preloader__donut\"></div>\\n                                    </div>\\n                                </div>\\n                            </div>\\n                        </div>\\n                        <div class=\"pswp__share-modal pswp__share-modal--hidden pswp__single-tap\">\\n                            <div class=\"pswp__share-tooltip\"></div>\\n                        </div>\\n                        <button class=\"pswp__button pswp__button--arrow--left\" title=\"Previous (arrow left)\"></button>\\n                        <button class=\"pswp__button pswp__button--arrow--right\" title=\"Next (arrow right)\"></button>\\n                        <div class=\"pswp__caption\">\\n                            <div class=\"pswp__caption__center\"></div>\\n                        </div>\\n                    </div>\\n                </div>\\n            </div>\\n            <div>\\n                <div class=\"bt-seo__footer\">\\n                    <div class=\"container\">\\n                        <div class=\"row\">\\n                            <div id=\"SEOWording\" class=\"col-lg-12\">\\n                                                            </div>\\n                        </div>\\n                    </div>\\n                </div>\\n            </div>\\n\\n            <div class=\"bt-chat\">\\n                <div class=\"bt-chat__preview\">\\n                    <div class=\"bt-chat__preview-body\">\\n                        <p>Halo, Chat dengan Kami</p>\\n                    </div>\\n                    <div class=\"bt-chat__preview-caret\"></div>\\n                    <div class=\"bt-chat__preview-close\"></div>\\n                </div>\\n                <div class=\"bt-chat__button\">\\n                    <span class=\"pt-icon-large pt-icon-chat\"></span><span class=\"pt-icon-large pt-icon-cross\"></span>\\n                </div>\\n                <div class=\"bt-chat__screen\">\\n                    <div class=\"bt-chat__scroll\">\\n                        <div class=\"bt-chat__header\">\\n                            <h1>Halo, Selamat Datang \\xf0\\x9f\\x91\\x8b</h1>\\n                            <p>Chat dengan Kami melalui pilihan layanan di bawah</p>\\n                            <div class=\"bt-chat__button bt-chat__button--mobile\">\\n                                <span class=\"pt-icon-large pt-icon-cross\"></span>\\n                            </div>\\n                        </div> \\n                        <div class=\"bt-chat__content\" id=\"bt-chat__content\">\\n                            <div class=\"bt-chat__panel\">\\n                                <div class=\"bt-chat__body--media\">\\n                                    <div class=\"bt-chat__body--image\"><img alt=\"icon-chat\" src=\"//static.bmdstatic.com/sf/assets/img/icon-chat.svg\"></div>\\n                                    <div class=\"bt-chat__body--label\" id=\"bt-chat__body--text\">\\n                                        Live Chat\\n                                    </div>\\n                                </div>\\n                                <div class=\"bt-chat__body--content\">\\n                                    <p>Layanan ini tersedia setiap Senin-Jumat (pukul 08.00-19.00 WIB), dan Sabtu (09.00-16.00 WIB), kecuali hari libur nasional.</p>\\n                                    <ul class=\"list-chat\">\\n                                      <li>\\n                                         <a href=\"#\" id=\"personal-chat\"><span id=\"personal\" class=\"pt-icon-standard pt-icon-full-circle chat-offline\"></span>Pembelian Personal<span class=\"list-chat-status\">Tinggalkan Pesan</span></a>\\n                                      </li>\\n                                      <li>\\n                                          <a href=\"#\" id=\"korporat-chat\"><span class=\"pt-icon-standard pt-icon-full-circle chat-offline\"></span>Pembelian Korporat<span class=\"list-chat-status\">Tinggalkan Pesan</span></a> \\n                                      </li>\\n                                      <li>\\n                                         <a href=\"#\" id=\"cso-chat\"><span id=\"csoservice\" class=\"pt-icon-standard pt-icon-full-circle chat-offline\"></span>Customer Service<span class=\"list-chat-status\">Tinggalkan Pesan</span></a>\\n                                      </li>\\n\\n                                    </ul>\\n                                </div>\\n                            </div>\\n                            \\n                        </div>\\n                    </div>\\n                    <div class=\"bt-chat__form\">\\n                        <div class=\"bt-chat__panel bt-chat__panel--end hide\" id=\"container-pantun\">\\n                            <div class=\"bt-chat__body--content\">\\n                               <div class=\"bt-chat__form--index\" id=\"body-pantun\">\\n                                  <h5>Terima kasih, senang melayani Anda</h5>\\n                                  <div class=\"bt-chat__panel-quote\">\\n                                     <p>Jalan-jalan ke Jakarta, <br>Ingat tengok ke Kota Tua.</p>\\n                                     <p>Terima kasih, sudah ke Bhinneka, <br>Ingat belanja, ingat Bhinneka.</p>\\n                                  </div>\\n                                  <a class=\"btn\" id=\"back-menu-chat\">Kembali Ke Pilihan Layanan</a>\\n                               </div>\\n                            </div>\\n                         </div>\\n                         <div id=\"lhc_status_container_page\" ></div>\\n                        <div class=\"bt-chat__content\" id=\"chat-offline-form\">\\n                            <div class=\"bt-chat__panel\">\\n                               <div class=\"bt-chat__body--media\">\\n                                  <div class=\"bt-chat__body--back\">\\n                                     <a class=\"bt-chat__form--back\" href=\"#\"><span class=\"pt-icon-standard pt-icon-chevron-left\"></span></a><a class=\"bt-chat__form--back-form\" href=\"#\"><span class=\"pt-icon-standard pt-icon-chevron-left\"></span></a>\\n                                  </div>\\n                                  <div class=\"bt-chat__body--image\"><img alt=\"icon-chat\" src=\"//static.bmdstatic.com/sf/assets/img/icon-chat.svg\"></div>\\n                                  <div class=\"bt-chat__body--text\">\\n                                     Customer Service\\n                                  </div>\\n                               </div>\\n                               <div class=\"bt-chat__body--content\">\\n                                  <img src=\"//static.bmdstatic.com/sf/assets/img/loading-spin.svg\" class=\"loader-chat hide\">\\n                                  <div class=\"bt-chat__form--index\">\\n                                     <form>\\n                                        <div class=\"form-group\">\\n                                           <a class=\"btn btn-primary\" id=\"bt-chat__btn-member\" href=\"/login\">Login Akun Bhinneka</a>\\n                                        </div>\\n                                        <div class=\"form-group\">\\n                                           <span>Atau</span>\\n                                        </div>\\n                                        <div class=\"form-group\">\\n                                           <a class=\"btn btn-link\" id=\"bt-chat__btn-guest\">Lanjut Sebagai Pengunjung</a>\\n                                        </div>\\n                                     </form>\\n                                     <div class=\"bt-chat__body--popup__content hide\" style=\"\">\\n                                       <p>Apakah kamu yakin akan mengakhiri chat ini?</p>\\n                                       <button class=\"btn btn-default cancel-close\" type=\"submit\">Tidak</button>\\n                                       <button class=\"btn btn-primary confirm-close\" type=\"submit\">Ya</button>\\n                                    </div>\\n                                  </div>\\n\\n                               </div>\\n                            </div>\\n                         </div>\\n                    </div>\\n                </div>\\n            </div>\\n            <div id=\"bw\">\\n                <div id=\"dta\" ur=\\'https://livehelper.bhinneka.com\\' csi=\\'76yjAXe8k3aowEv9\\' psi=\\'2PXGkgdYQdvy1LpN\\' adi=\\'NRDZvadGQeX0WpJV\\' dpr=\\'NRDZvadGQeX0WpJV\\' kpr=\\'4RDWgQ3Qq3AmXY0j\\' dm=\\'https://livehelper.bhinneka.com\\' fna=\\'\\' lna=\\'\\' em=\\'\\' ph=\\'\\' jkt=\\'\\'></div>\\n            </div>\\n            <footer class=\"bt-footer\">\\n                <div class=\"container\">\\n                  <div class=\"row\">\\n                    <div class=\"col-md-3 footer-menu footer-icon\">\\n                        <div class=\"footer-apps\">\\n                            <h6 class=\"hidden-xs hidden-sm\">APLIKASI<span class=\"pt-icon-standard pt-icon-chevron-down bt-caret\"></span></h6>\\n                            <a href=\"https://play.google.com/store/apps/details?id=bmd.android.apps&amp;utm_source=bhinneka.com&amp;utm_campaign=bhinneka_website_footer&amp;pcampaignid=MKT-Other-global-all-co-prtnr-py-PartBadge-Mar2515-1%27\">\\n                                <img class=\"img-responsive\" src=\"//static.bmdstatic.com/sf/assets/img/google-play-badge.png\" alt=\"Tautan Google Play Store\" />\\n                            </a>\\n                            <a href=\"https://itunes.apple.com/id/app/bhinneka/id1446537328\">\\n                                <img class=\"img-responsive\" src=\"//static.bmdstatic.com/sf/assets/img/Download_on_the_App_Store_Badge_ID_135x40.svg\" alt=\"Tautan App Store\" />\\n                            </a>\\n                        </div>\\n                        <div class=\"footer-socmed\">\\n                            <h6 class=\"hidden-xs hidden-sm\">LET\\xe2\\x80\\x99S GET SOCIAL</h6>\\n                            <ul class=\"list-inline\">\\n                                <li>\\n                                    <a href=\"https://www.facebook.com/bhinnekacom\" target=\"_blank\"><img src=\"//static.bmdstatic.com/sf/assets/img/facebook.svg\" alt=\"Tautan Facebook Bhinneka\" /></a>\\n                                </li>\\n                                <li>\\n                                    <a href=\"https://twitter.com/bhinneka\" target=\"_blank\"><img src=\"//static.bmdstatic.com/sf/assets/img/twitter.svg\" alt=\"Tautan Twitter Bhinneka\" /></a>\\n                                </li>\\n                                <li>\\n                                    <a href=\"https://www.instagram.com/bhinnekacom/\" target=\"_blank\"><img src=\"//static.bmdstatic.com/sf/assets/img/instagram.svg\" alt=\"Tautan Instagram Bhinneka\" /></a>\\n                                </li>\\n                                <li>\\n                                    <a href=\"https://www.youtube.com/bhinnekacom/\" target=\"_blank\"><img src=\"//static.bmdstatic.com/sf/assets/img/youtube.svg\" alt=\"Tautan Youtube Bhinneka\" /></a>\\n                                </li>\\n                                <li>\\n                                    <a href=\"https://blog.bhinneka.com/\" target=\"_blank\"><img src=\"//static.bmdstatic.com/sf/assets/img/wordpress.svg\" alt=\"Tautan Blog Bhinneka\" /></a>\\n                                </li>\\n                                <li>\\n                                    <a href=\"https://api.whatsapp.com/send?phone=628121238000\" target=\"_blank\"><img src=\"//static.bmdstatic.com/sf/assets/img/whatsapp.svg\" alt=\"Tautan Whatsapp Bhinneka\"></a>\\n                                </li>\\n                            </ul>\\n                        </div>\\n                    </div>\\n                    <div class=\"col-md-3 footer-menu\">\\n                      <h6>BHINNEKA<span class=\"pt-icon-standard pt-icon-chevron-down bt-caret\"></span></h6>\\n                      <ul class=\"list-unstyled collapse\">\\n                        <li><a href=\"/tentang-kami\">Tentang Kami</a></li>\\n                        <li><a href=\"https://b2b.id/?utm_source=bhinnekacom\" target=\\xe2\\x80\\x9d_blank\\xe2\\x80\\x9d>b2b.id <sup>Beta</sup></a></li>\\n                        <li><a href=\"http://career.bhinneka.com/?utm_source=bhinnekacom&utm_medium=link&utm_campaign=job_bhinnekarir\" target=\"_blank\">Karir</a></li>\\n                                                <li><a href=\"/akun-bhinneka\">Akun Bhinneka</a></li>\\n                        <li><a href=\"/hubungi-kami\">Hubungi Kami</a></li>\\n                      </ul>\\n                    </div>\\n                    <div class=\"col-md-3 footer-menu\">\\n                      <h6>INFORMASI LAYANAN<span class=\"pt-icon-standard pt-icon-chevron-down bt-caret\"></span></h6>\\n                      <ul class=\"list-unstyled collapse\">\\n                        <!-- <li><a href=\"#\">Bantuan</a></li>\\n                        <li><a href=\"#\">Panduan Belanja</a></li> -->\\n                        <li><a href=\"/pengembalian-barang\">Pengembalian Barang</a></li>\\n                        <!-- <li><a href=\"#\">Tips Aman Bertransaksi</a></li> -->\\n                        <li><a href=\"/servis-dan-purna-jual\">Servis dan Purna Jual</a></li>\\n                        <li><a href=\"/syarat-dan-kondisi\">Syarat dan Kondisi</a></li>\\n                        <li><a href=\"/kebijakan-privasi\">Kebijakan Privasi</a></li>\\n                        <li><a href=\"/lokasi-retail\">Lokasi Toko</a></li>\\n                      </ul>\\n                    </div>\\n\\n                    <div class=\"col-md-3 footer-menu\">\\n                    <div class=\"footer-call-center\">\\n                      <h6>CONTACT CENTER</h6>\\n                      <ul class=\"list-unstyled\">\\n                        <li><span class=\"pt-icon-standard pt-icon-phone\"></span><span>(021) 2929\\xe2\\x80\\x932828</span></li>\\n                        <a href=\"https://api.whatsapp.com/send?phone=628121238000\" target=\"_blank\">\\n                            <li><img src=\"/assets/img/whatsapp.svg\"><span>0812\\xe2\\x80\\x93123\\xe2\\x80\\x938000</span></li>\\n                        </a>\\n                      </ul>\\n                    </div>\\n                    <div class=\"footer-security\">\\n                        <h6>STANDAR KEAMANAN</h6><a href=\"https://www.certipedia.com/quality_marks/0000069547?locale=en\" target=\"_blank\"><img src=\"//static.bmdstatic.com/sf/assets/img/tuv-x200.jpg\" style=\"width:auto;height:64px;\"></a>\\n                      </div>\\n                  </div>\\n                    \\n                </div>\\n                                <div class=\"row-credit\">\\n                    <div class=\"container footer-credit\">\\n                        <div class=\"row\">\\n                            <div class=\"col-sm-12\">\\n                                <div class=\"credit-image\">\\n                                    <img src=\"//static.bmdstatic.com/sf/assets/img/bhinneka-logo-grey.svg\">\\n                                </div>\\n                                <small>&copy; 1993-2019 PT. Bhinneka MentariDimensi</small>\\n                            </div>\\n                        </div>\\n                    </div>\\n                </div>\\n            </footer>\\n        </div>\\n    </div>\\n    <script type=\"text/javascript\" src=\"//static.bmdstatic.com/sf/assets/js/bmd/main.js?v=1.9.8\"></script>\\n    <script type=\"text/javascript\" src=\"//static.bmdstatic.com/sf/assets/js/plugin/typeahead.bundle.min.js?v=1.9.8\"></script>\\n    <script type=\"text/javascript\" src=\"//static.bmdstatic.com/sf/assets/js/bmd/url.js?v=1.9.8\"></script>\\n    <script type=\"text/javascript\" src=\"//static.bmdstatic.com/sf/assets/js/bmd/app.js?v=1.9.8\"></script>\\n                    <script type=\"text/javascript\" src=\"https://static.bmdstatic.com/sf/assets/starfish-cf/category.bundle.js\"></script>\\n        <script type=\"text/javascript\" src=\"https://static.bmdstatic.com/sf/assets/starfish-cf/search.bundle.js\"></script>\\n                <script id=\"menuMerchant\" type=\"text/html\"><li class=\"menu-merchant\"><a href=\"https://seller.bhinneka.com/\">Dashboard Merchant</a></li></script>\\n        <script id=\"menuIconMerchant\" type=\"text/html\"> \\n        <div class=\"menu-icon-merchant navbar-account\">\\n            <a href=\"https://seller.bhinneka.com/\">\\n                <span class=\"navbar-cart-icon pt-icon-large pt-icon-shop\"></span>\\n            </a>\\n        </div>\\n        </script>\\n        <script type=\"text/javascript\" src=\"//static.bmdstatic.com/sf/assets/js/plugin/integration.js?v=1.9.8\"></script>\\n\\n    <script type=\"text/javascript\" src=\"//static.bmdstatic.com/sf/assets/js/plugin/spin.min.js?v=1.9.8\"></script>\\n<script type=\"text/javascript\" src=\"//static.bmdstatic.com/sf/assets/js/plugin/jquery.spin.js?v=1.9.8\"></script>\\n<script type=\"text/javascript\" src=\"//static.bmdstatic.com/sf/assets/js/plugin/js.cookie.js?v=1.9.8\"></script>\\n<script type=\"text/javascript\" src=\"//static.bmdstatic.com/sf/assets/js/plugin/lazyload.min.js?v=1.9.8\"></script>\\n<script type=\"text/javascript\" src=\"//static.bmdstatic.com/sf/assets/js/bmd/helpers.js?v=1.9.8\"></script>\\n<script type=\"text/javascript\" src=\"//static.bmdstatic.com/sf/assets/js/bmd/html-helper.js?v=1.9.8\"></script>\\n<script type=\"text/javascript\" src=\"//static.bmdstatic.com/sf/assets/js/bmd/search-v2.js?v=1.9.8\"></script>\\n</body>\\n</html>'"
      ]
     },
     "execution_count": 9,
     "metadata": {},
     "output_type": "execute_result"
    }
   ],
   "source": [
    "r.data"
   ]
  },
  {
   "cell_type": "code",
   "execution_count": 10,
   "metadata": {},
   "outputs": [
    {
     "name": "stdout",
     "output_type": "stream",
     "text": [
      "<class 'urllib3.response.HTTPResponse'>\n"
     ]
    }
   ],
   "source": [
    "print(type(r))"
   ]
  },
  {
   "cell_type": "code",
   "execution_count": 52,
   "metadata": {},
   "outputs": [
    {
     "name": "stderr",
     "output_type": "stream",
     "text": [
      "C:\\ProgramData\\Anaconda3\\lib\\site-packages\\urllib3\\connectionpool.py:857: InsecureRequestWarning: Unverified HTTPS request is being made. Adding certificate verification is strongly advised. See: https://urllib3.readthedocs.io/en/latest/advanced-usage.html#ssl-warnings\n",
      "  InsecureRequestWarning)\n"
     ]
    }
   ],
   "source": [
    "from bs4 import BeautifulSoup\n",
    "import urllib3\n",
    "\n",
    "http = urllib3.PoolManager()\n",
    "\n",
    "url = 'https://m.tabloidpulsa.co.id/phones/apple.html'\n",
    "response = http.request('GET', url)\n",
    "soup = BeautifulSoup(response.data)"
   ]
  },
  {
   "cell_type": "code",
   "execution_count": 53,
   "metadata": {},
   "outputs": [
    {
     "data": {
      "text/plain": [
       "<!DOCTYPE html>\n",
       "<html dir=\"ltr\" lang=\"en-us\" prefix=\"og: http://ogp.me/ns#\">\n",
       "<head>\n",
       "<title>PULSA - Panduan Belanja Smartphone - spesifikasi phones </title>\n",
       "<meta content=\"text/html; charset=utf-8\" http-equiv=\"Content-Type\"/>\n",
       "<meta charset=\"utf-8\"/>\n",
       "<meta content=\"Tabloid PULSA Online - Panduan Belanja Smartphone dan Gaya Hidup Digital,spesifikasi phones ,Fitur,Spesifikasi,Harga HP,Terlengkap\" name=\"description\"/>\n",
       "<meta content=\"C40AE6388FC68E62B76766FFF20FFB67\" name=\"msvalidate.01\"/>\n",
       "<meta content=\"QrlglfCaOeKHBVFB6RYJo5MH_KgjLxvg7IzHUNT53dQ\" name=\"google-site-verification\"/>\n",
       "<meta content='spesifikasi phones  ,tabloid pulsa,harga hp,smartphone,android,samsung,spesifikasi hp,compare hp,review hp /&gt;\n",
       "        &lt;meta name=\"author\" content=' group=\"\" indomedia=\"\" name=\"keywords\"/>\n",
       "<link href=\"https://m.tabloidpulsa.co.id/phones/apple.html\" rel=\"canonical\"/>\n",
       "<meta content=\"True\" name=\"HandheldFriendly\"/>\n",
       "<meta content=\"320\" name=\"MobileOptimized\"/>\n",
       "<meta content=\"#d91e18\" name=\"msapplication-TileColor\"/>\n",
       "<meta content=\"#d91e18\" name=\"theme-color\"/>\n",
       "<meta content=\"width=device-width, initial-scale=1.0, user-scalable=no, maximum-scale=1.0, minimum-scale=1.0\" name=\"viewport\"/>\n",
       "<meta content=\"yes\" name=\"apple-mobile-web-app-capable\"/>\n",
       "<meta content=\"app-id=com.indomedia.tabpulsa\" name=\"google-play-app\"/>\n",
       "<meta content=\"192950170128\" property=\"fb:pages\"/>\n",
       "<meta content=\"900\" http-equiv=\"refresh\"/>\n",
       "<link href=\"https://plus.google.com/+TabloidPulsaIdOfficial\" rel=\"publisher\"/>\n",
       "<link href=\"android-app://com.indomedia.tabpulsa/https/m.tabloidpulsa.co.id/phones/apple.html\" rel=\"alternate\"/>\n",
       "<link href=\"/_global/images/favicon.ico\" rel=\"shortcut icon\"/><script src=\"/_global/scripts/jquery.min.js\" type=\"text/javascript\"></script><link href=\"https://cdnjs.cloudflare.com/ajax/libs/font-awesome/4.7.0/css/font-awesome.min.css\" rel=\"stylesheet\"/><script type=\"text/javascript\">var _gaq=_gaq||[];_gaq.push(['_setAccount','MO-13149568-14']);_gaq.push(['_trackPageview']);(function(){var ga=document.createElement('script');ga.type='text/javascript';ga.async=true;ga.src=('https:'==document.location.protocol?'https://ssl':'http://www')+'.google-analytics.com/ga.js';var s=document.getElementsByTagName('script')[0];s.parentNode.insertBefore(ga,s);})();</script>\n",
       "<link href=\"/manifest.json\" rel=\"manifest\"/>\n",
       "<script async=\"\" src=\"https://cdn.onesignal.com/sdks/OneSignalSDK.js\"></script>\n",
       "<script>var OneSignal=window.OneSignal||[];OneSignal.push(function(){OneSignal.init({appId:\"1c8f3a9a-ce6e-445a-997b-6827e9b9d066\",});});</script>\n",
       "<script type=\"text/javascript\">_atrk_opts={atrk_acct:\"6xqCh1aoie00iH\",domain:\"tabloidpulsa.co.id\",dynamic:true};(function(){var as=document.createElement('script');as.type='text/javascript';as.async=true;as.src=\"https://d31qbv1cthcecs.cloudfront.net/atrk.js\";var s=document.getElementsByTagName('script')[0];s.parentNode.insertBefore(as,s);})();</script>\n",
       "<noscript><img alt=\"\" height=\"1\" src=\"https://d5nxst8fruw4z.cloudfront.net/atrk.gif?account=6xqCh1aoie00iH\" style=\"display:none\" width=\"1\"/></noscript>\n",
       "<style>#menu,#footer-link{background-color:#114e70!important}#search form input{border:1px solid #114e70!important}#search form input.tombol{background-color:#114e70!important;border:1px solid #114e70!important}</style><link href=\"/_global/css/style.min16juli2018.css\" rel=\"stylesheet\" type=\"text/css\"/></head>\n",
       "<body class=\"red-theme\"><div id=\"navbar\"><header class=\"top-nav shadow\">\n",
       "<a href=\"/\"><img alt=\"Home\" src=\"/_global/images/logo-pulsa-white.png\"/></a><h1 style=\"display: none;\"> PULSA Online alt=\"PULSA\" title=\"PULSA\"&gt;</h1>\n",
       "<a href=\"javascript:void(0);\" id=\"btn-menu\"></a>\n",
       "</header>\n",
       "</div>\n",
       "<script>var stickyNavTop=$('#navbar').offset().top;var stickyNav=function(){var scrollTop=$(window).scrollTop();if(scrollTop>stickyNavTop){$('#navbar').addClass('sticky');}else{$('#navbar').removeClass('sticky');}};stickyNav();$(window).scroll(function(){stickyNav();});</script>\n",
       "<nav id=\"menu-main-nav\">\n",
       "<ul>\n",
       "<li><form action=\"/specs-search.php\" id=\"pulsa-search\" method=\"get\">\n",
       "<input class=\"search\" maxlength=\"255\" name=\"s\" placeholder=\"Search\" type=\"text\" value=\"\"/>\n",
       "</form>\n",
       "</li> <li><a href=\"/news\" title=\"News\">News</a></li>\n",
       "<li><a href=\"/review\" title=\"Review\">Review</a></li>\n",
       "<li><a href=\"/spesifikasi\" title=\"Spesifikasi\">Spesifikasi</a></li>\n",
       "<li><a href=\"/news/gadget\" title=\"Gadget\">Gadget</a></li>\n",
       "<li><a href=\"/tips-and-apps\" title=\"Tips &amp; Apps\">Tips &amp; Apps</a></li>\n",
       "<li><a href=\"/tips-and-apps/klinik\" title=\"Klinik\">Klinik</a></li>\n",
       "<li><a href=\"/tanya-pulsa\" title=\"Tanya PULSA\">Tanya PULSA</a></li>\n",
       "<li><a href=\"/rekomendasi\" title=\"Tanya PULSA\">Rekomendasi</a></li>\n",
       "<li><a href=\"/blog\" title=\"Blog\">Blog</a></li>\n",
       "</ul>\n",
       "</nav>\n",
       "<div id=\"logo\">\n",
       "<div class=\"container pulsa-menu\">\n",
       "<header class=\"pulsa-menu-header scroll\">\n",
       "<nav class=\"vertical-align-middle\">\n",
       "<span class=\"nav-item\"><a href=\"https://m.tabloidpulsa.co.id\">Home</a></span>\n",
       "<span class=\"nav-item\"><a href=\"/news\">News</a></span>\n",
       "<span class=\"nav-item\"><a href=\"/review\">Review</a></span>\n",
       "<span class=\"nav-item\"><a href=\"/spesifikasi\">Spesifikasi</a></span>\n",
       "<span class=\"nav-item\"><a href=\"/news/gadget\">Gadget</a></span>\n",
       "<span class=\"nav-item\"><a href=\"/tips-and-apps\">Tips &amp; Apps</a></span>\n",
       "<span class=\"nav-item\"><a href=\"/tips-and-apps/klinik\">Klinik</a></span>\n",
       "<span class=\"nav-item\"><a href=\"/tanya-pulsa\">Tanya PULSA</a></span>\n",
       "<span class=\"nav-item\"><a href=\"/rekomendasi\">Rekomendasi</a></span>\n",
       "<span class=\"nav-item\"><a href=\"/blog\">Blog</a></span>\n",
       "</nav>\n",
       "</header>\n",
       "</div>\n",
       "</div>\n",
       "<div class=\"pulsa-breadcrumb\">\n",
       "<ul>\n",
       "<li class=\"link\"><a href=\"https://m.tabloidpulsa.co.id\"> HOME</a></li>\n",
       "<li> spesifikasi phones </li>\n",
       "</ul>\n",
       "</div>\n",
       "<div class=\"title-top-block\"><h2 class=\"title-top\">spesifikasi phones </h2></div><div class=\"pulsa-spek-block\">\n",
       "<ul class=\"pulsa-spek\">\n",
       "<li><a href=\"/pc-tablet\">PC-Tablet</a></li>\n",
       "<li><a href=\"/phones\">Phone</a></li>\n",
       "</ul>\n",
       "</div><div class=\"spek-title\"><h3 style=\"color: #d91e18;color: #d91e18;text-align: center;font-size: 180%;text-transform: uppercase;margin: 20px 0px;\"></h3></div><div id=\"banner-ads\">\n",
       "<script type=\"text/javascript\">google_ad_client=\"ca-pub-6455661587007254\";google_ad_slot=\"4533081052\";google_ad_width=320;google_ad_height=50;google_ad_region=\"SPESIFIKASI TOP\";</script>\n",
       "<script src=\"https://pagead2.googlesyndication.com/pagead/show_ads.js\" type=\"text/javascript\"></script>\n",
       "</div>\n",
       "<div id=\"spekkonten-list\"><div class=\"spekkonten-list-thumb\">\n",
       "<ul class=\"spek-vendor-list\"></ul><div id=\"banner-ads\">\n",
       "<script type=\"text/javascript\">google_ad_client=\"ca-pub-6455661587007254\";google_ad_slot=\"4533081052\";google_ad_width=320;google_ad_height=50;google_ad_region=\"SPESIFIKASI TOP\";</script>\n",
       "<script src=\"https://pagead2.googlesyndication.com/pagead/show_ads.js\" type=\"text/javascript\"></script>\n",
       "</div>\n",
       "</div><div class=\"page_navigation\"><table style=\"width:100%;\"><tr><td> Page :</td></tr></table></div></div>\n",
       "<div id=\"banner-footerads\">\n",
       "<script async=\"\" src=\"https://pagead2.googlesyndication.com/pagead/js/adsbygoogle.js\"></script>\n",
       "<ins class=\"adsbygoogle\" data-ad-client=\"ca-pub-6455661587007254\" data-ad-slot=\"4131521452\" style=\"display:inline-block;width:300px;height:250px\"></ins>\n",
       "<script>(adsbygoogle=window.adsbygoogle||[]).push({});</script>\n",
       "</div><footer class=\"shadow\" id=\"footer\">\n",
       "<ul class=\"bottom-nav cf\" style=\"padding-bottom:50px;\">\n",
       "<li class=\"first-child\"><img alt=\"PULSA\" src=\"/_global/images/logo-pulsa-footer.png\"/></li>\n",
       "<li class=\"last-child\"></li>\n",
       "</ul>\n",
       "<br/><br/>\n",
       "<ul class=\"bottom-nav cf\">\n",
       "<li class=\"first-child\"><a href=\"https://www.tabloidpulsa.co.id/phones/apple.html?mobile=false\">Switch to Desktop</a></li>\n",
       "<li class=\"last-child\"></li>\n",
       "</ul>\n",
       "<br/>\n",
       "<h3 style=\"text-align:left;font-weight:bold;font-size:120%;\">ABOUT PULSA</h3>\n",
       "<ul class=\"bottom-nav cf\">\n",
       "<li class=\"first-child\"><a href=\"/about-us\">About Us</a></li>\n",
       "<li class=\"last-child\"></li>\n",
       "</ul>\n",
       "<ul class=\"bottom-nav cf\">\n",
       "<li class=\"first-child\"><a href=\"/pedoman-media-siber\">Pedoman Media Siber</a></li>\n",
       "<li class=\"last-child\"><a href=\"#\" title=\"Back to Top\">Back to Top</a></li>\n",
       "</ul>\n",
       "<br/><br/>\n",
       "<ul class=\"cf\" id=\"social-index\">\n",
       "<li class=\"mr-5\">\n",
       "<a href=\"https://www.facebook.com/pulcom\" target=\"_blank\"><img alt=\"facebook pulsa\" src=\"/_global/images/btn-facebook2.png\" title=\"facebook pulsa\"/></a>\n",
       "</li>\n",
       "<li class=\"mr-5\">\n",
       "<a href=\"https://www.twitter.com/tabloidpulsa\" target=\"_blank\"><img alt=\"twitter pulsa\" src=\"/_global/images/btn-twitter2.png\" title=\"twitter pulsa\"/></a>\n",
       "</li>\n",
       "<li class=\"mr-5\">\n",
       "<a href=\"https://www.instagram.com/pulsachannel\" target=\"_blank\"><img alt=\"instagram pulsa\" src=\"/_global/images/btn-instagram2.png\" title=\"instagram pulsa\"/></a>\n",
       "</li>\n",
       "<li class=\"mr-5\">\n",
       "<a href=\"https://plus.google.com/+TabloidPulsaIdOfficial\" target=\"_blank\"><img alt=\"googleplus pulsa\" src=\"/_global/images/btn-gplus2.png\" title=\"googleplus pulsa\"/></a>\n",
       "</li>\n",
       "<li>\n",
       "<a href=\"https://www.youtube.com/channel/UCHoMkozYL3o_M9TvBc4q6KA\" target=\"_blank\"><img alt=\"youtube pulsa\" src=\"/_global/images/btn-youtube2.png\" title=\"youtube pulsa\"/></a>\n",
       "</li>\n",
       "</ul>\n",
       "<br/>\n",
       "<p>Copyright © 2003-2019 TabloidPULSA.co.id, All Rights Reserved.\n",
       "<br/>PT. PULSA INDOMEDIA PRATAMA</p>\n",
       "</footer>\n",
       "<script src=\"/_global/scripts/jquery.min.js\" type=\"text/javascript\"></script>\n",
       "<script async=\"\" src=\"/_global/scripts/main.min.js\" type=\"text/javascript\"></script></body></html>"
      ]
     },
     "execution_count": 53,
     "metadata": {},
     "output_type": "execute_result"
    }
   ],
   "source": [
    "soup"
   ]
  },
  {
   "cell_type": "code",
   "execution_count": 111,
   "metadata": {},
   "outputs": [
    {
     "name": "stdout",
     "output_type": "stream",
     "text": [
      "\n",
      "\n",
      "News\n",
      "Review\n",
      "Spesifikasi\n",
      "Gadget\n",
      "Tips & Apps\n",
      "Klinik\n",
      "Tanya PULSA\n",
      "Rekomendasi\n",
      "Blog\n",
      "Home\n",
      "News\n",
      "Review\n",
      "Spesifikasi\n",
      "Gadget\n",
      "Tips & Apps\n",
      "Klinik\n",
      "Tanya PULSA\n",
      "Rekomendasi\n",
      "Blog\n",
      " HOME\n",
      "PC-Tablet\n",
      "Phone\n",
      "Switch to Desktop\n",
      "About Us\n",
      "Pedoman Media Siber\n",
      "Back to Top\n",
      "\n",
      "\n",
      "\n",
      "\n",
      "\n"
     ]
    }
   ],
   "source": [
    "produk = soup.findAll(\"a\")\n",
    "i = 1\n",
    "for p in produk:\n",
    "#    a = p.find(\"h2\",\"spek-title\")\n",
    "    print(p.text)"
   ]
  },
  {
   "cell_type": "code",
   "execution_count": 92,
   "metadata": {},
   "outputs": [
    {
     "data": {
      "text/plain": [
       "''"
      ]
     },
     "execution_count": 92,
     "metadata": {},
     "output_type": "execute_result"
    }
   ],
   "source": [
    "p.text"
   ]
  },
  {
   "cell_type": "code",
   "execution_count": 93,
   "metadata": {},
   "outputs": [
    {
     "data": {
      "text/plain": [
       "bs4.BeautifulSoup"
      ]
     },
     "execution_count": 93,
     "metadata": {},
     "output_type": "execute_result"
    }
   ],
   "source": [
    "type(soup)"
   ]
  },
  {
   "cell_type": "code",
   "execution_count": 106,
   "metadata": {},
   "outputs": [
    {
     "data": {
      "text/plain": [
       "[<a href=\"/\"><img alt=\"Home\" src=\"/_global/images/logo-pulsa-white.png\"/></a>,\n",
       " <a href=\"javascript:void(0);\" id=\"btn-menu\"></a>,\n",
       " <a href=\"/news\" title=\"News\">News</a>,\n",
       " <a href=\"/review\" title=\"Review\">Review</a>,\n",
       " <a href=\"/spesifikasi\" title=\"Spesifikasi\">Spesifikasi</a>,\n",
       " <a href=\"/news/gadget\" title=\"Gadget\">Gadget</a>,\n",
       " <a href=\"/tips-and-apps\" title=\"Tips &amp; Apps\">Tips &amp; Apps</a>,\n",
       " <a href=\"/tips-and-apps/klinik\" title=\"Klinik\">Klinik</a>,\n",
       " <a href=\"/tanya-pulsa\" title=\"Tanya PULSA\">Tanya PULSA</a>,\n",
       " <a href=\"/rekomendasi\" title=\"Tanya PULSA\">Rekomendasi</a>,\n",
       " <a href=\"/blog\" title=\"Blog\">Blog</a>,\n",
       " <a href=\"https://m.tabloidpulsa.co.id\">Home</a>,\n",
       " <a href=\"/news\">News</a>,\n",
       " <a href=\"/review\">Review</a>,\n",
       " <a href=\"/spesifikasi\">Spesifikasi</a>,\n",
       " <a href=\"/news/gadget\">Gadget</a>,\n",
       " <a href=\"/tips-and-apps\">Tips &amp; Apps</a>,\n",
       " <a href=\"/tips-and-apps/klinik\">Klinik</a>,\n",
       " <a href=\"/tanya-pulsa\">Tanya PULSA</a>,\n",
       " <a href=\"/rekomendasi\">Rekomendasi</a>,\n",
       " <a href=\"/blog\">Blog</a>,\n",
       " <a href=\"https://m.tabloidpulsa.co.id\"> HOME</a>,\n",
       " <a href=\"/pc-tablet\">PC-Tablet</a>,\n",
       " <a href=\"/phones\">Phone</a>,\n",
       " <a href=\"https://www.tabloidpulsa.co.id/phones/apple.html?mobile=false\">Switch to Desktop</a>,\n",
       " <a href=\"/about-us\">About Us</a>,\n",
       " <a href=\"/pedoman-media-siber\">Pedoman Media Siber</a>,\n",
       " <a href=\"#\" title=\"Back to Top\">Back to Top</a>,\n",
       " <a href=\"https://www.facebook.com/pulcom\" target=\"_blank\"><img alt=\"facebook pulsa\" src=\"/_global/images/btn-facebook2.png\" title=\"facebook pulsa\"/></a>,\n",
       " <a href=\"https://www.twitter.com/tabloidpulsa\" target=\"_blank\"><img alt=\"twitter pulsa\" src=\"/_global/images/btn-twitter2.png\" title=\"twitter pulsa\"/></a>,\n",
       " <a href=\"https://www.instagram.com/pulsachannel\" target=\"_blank\"><img alt=\"instagram pulsa\" src=\"/_global/images/btn-instagram2.png\" title=\"instagram pulsa\"/></a>,\n",
       " <a href=\"https://plus.google.com/+TabloidPulsaIdOfficial\" target=\"_blank\"><img alt=\"googleplus pulsa\" src=\"/_global/images/btn-gplus2.png\" title=\"googleplus pulsa\"/></a>,\n",
       " <a href=\"https://www.youtube.com/channel/UCHoMkozYL3o_M9TvBc4q6KA\" target=\"_blank\"><img alt=\"youtube pulsa\" src=\"/_global/images/btn-youtube2.png\" title=\"youtube pulsa\"/></a>]"
      ]
     },
     "execution_count": 106,
     "metadata": {},
     "output_type": "execute_result"
    }
   ],
   "source": [
    "a = soup.select('a')\n",
    "a"
   ]
  },
  {
   "cell_type": "code",
   "execution_count": 107,
   "metadata": {},
   "outputs": [
    {
     "data": {
      "text/plain": [
       "'Blog'"
      ]
     },
     "execution_count": 107,
     "metadata": {},
     "output_type": "execute_result"
    }
   ],
   "source": [
    "a[10].getText()"
   ]
  },
  {
   "cell_type": "code",
   "execution_count": null,
   "metadata": {},
   "outputs": [],
   "source": []
  }
 ],
 "metadata": {
  "kernelspec": {
   "display_name": "Python 3",
   "language": "python",
   "name": "python3"
  },
  "language_info": {
   "codemirror_mode": {
    "name": "ipython",
    "version": 3
   },
   "file_extension": ".py",
   "mimetype": "text/x-python",
   "name": "python",
   "nbconvert_exporter": "python",
   "pygments_lexer": "ipython3",
   "version": "3.6.6"
  }
 },
 "nbformat": 4,
 "nbformat_minor": 2
}
