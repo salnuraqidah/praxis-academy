{
 "cells": [
  {
   "cell_type": "code",
   "execution_count": 47,
   "metadata": {},
   "outputs": [],
   "source": [
    "import bs4\n",
    "from urllib.request import urlopen as uReq\n",
    "from bs4 import BeautifulSoup as soup"
   ]
  },
  {
   "cell_type": "code",
   "execution_count": 48,
   "metadata": {},
   "outputs": [],
   "source": [
    "my_url = 'https://id.priceprice.com/search/?keyword=laptop+thinkpad'"
   ]
  },
  {
   "cell_type": "code",
   "execution_count": 49,
   "metadata": {},
   "outputs": [],
   "source": [
    "uClient = uReq(my_url)\n",
    "page_html = uClient.read()\n",
    "uClient.close()"
   ]
  },
  {
   "cell_type": "code",
   "execution_count": 50,
   "metadata": {},
   "outputs": [
    {
     "data": {
      "text/plain": [
       "<div class=\"header \" id=\"header\"><div class=\"headerIn\">\n",
       "<div class=\"logoMod\"><a href=\"/\">\n",
       "<img alt=\"Priceprice.com\" height=\"32\" src=\"https://d2pa5gi5n2e1an.cloudfront.net/id/images/common/logo_priceprice_02.png\" width=\"182\"/>\n",
       "</a></div>\n",
       "<div class=\"searchMod\">\n",
       "<form action=\"/search/\" id=\"searchForm\" method=\"get\">\n",
       "<div class=\"searchBox01\" id=\"searchBox01\"><input id=\"searchKeyword\" maxlength=\"100\" name=\"keyword\" placeholder=\"Pencarian Produk...\" type=\"text\" value=\"laptop thinkpad\"/></div>\n",
       "<input class=\"searchBtn01\" id=\"searchBtn01\" type=\"submit\" value=\"\"/>\n",
       "</form>\n",
       "</div>\n",
       "<div class=\"menuMod\">\n",
       "<ul>\n",
       "<li class=\"mymenu\"><span>My Menu</span>\n",
       "<div class=\"hide\"><ul>\n",
       "<li><a href=\"/login/\">Log in</a></li>\n",
       "<li><a href=\"/signUp/\">Daftar</a></li>\n",
       "</ul></div>\n",
       "</li>\n",
       "</ul>\n",
       "</div>\n",
       "</div></div>"
      ]
     },
     "execution_count": 50,
     "metadata": {},
     "output_type": "execute_result"
    }
   ],
   "source": [
    "#html parsing\n",
    "page_soup = soup(page_html, \"html.parser\")\n",
    "\n",
    "page_soup.div"
   ]
  },
  {
   "cell_type": "code",
   "execution_count": 51,
   "metadata": {},
   "outputs": [
    {
     "data": {
      "text/plain": [
       "15"
      ]
     },
     "execution_count": 51,
     "metadata": {},
     "output_type": "execute_result"
    }
   ],
   "source": [
    "filename = \"products.csv\"\n",
    "f = open(filename,\"w\")\n",
    "\n",
    "headers = \"Product, Price\\n\"\n",
    "\n",
    "f.write(headers)"
   ]
  },
  {
   "cell_type": "code",
   "execution_count": 52,
   "metadata": {},
   "outputs": [
    {
     "name": "stdout",
     "output_type": "stream",
     "text": [
      "name: Lenovo Thinkpad T420\n",
      "price: 3700000\n",
      "name: Lenovo Thinkpad T430\n",
      "price: 15990000\n",
      "name: Lenovo ThinkPad X240\n",
      "price: 16489000\n",
      "name: Lenovo Thinkpad X220\n",
      "price: 250000\n",
      "name: Lenovo Thinkpad T410\n",
      "price: 3030000\n",
      "name: Lenovo ThinkPad T440p\n",
      "price: 17550000\n",
      "name: Lenovo Thinkpad X1 CARBON\n",
      "price: 17325000\n",
      "name: Lenovo ThinkPad X131e\n",
      "price: 4367000\n",
      "name: Lenovo ThinkPad 11e\n",
      "price: 3591000\n",
      "name: Lenovo ThinkPad X250\n",
      "price: 15990000\n",
      "name: Lenovo ThinkPad Yoga 11e\n",
      "price: 4685000\n",
      "name: Lenovo ThinkPad T450\n",
      "price: 19789000\n",
      "name: Lenovo ThinkPad Edge E440\n",
      "price: 5999000\n",
      "name: Lenovo ThinkPad T460\n",
      "price: 12950000\n",
      "name: Lenovo ThinkPad E470\n",
      "price: 8125000\n",
      "name: Lenovo Thinkpad Edge E420\n",
      "price: 4750000\n",
      "name: Lenovo ThinkPad Yoga 12\n",
      "price: 13099000\n",
      "name: Lenovo ThinkPad Edge E450\n",
      "price: 6699000\n",
      "name: Lenovo Thinkpad Edge E430\n",
      "price: 6690000\n",
      "name: Lenovo ThinkPad 13\n",
      "price: 12190000\n",
      "name: Lenovo ThinkPad X1 Yoga\n",
      "price: 15631000\n",
      "name: Lenovo Thinkpad Edge E330\n",
      "price: 5499000\n",
      "name: Lenovo ThinkPad X260\n",
      "price: 13200000\n",
      "name: Lenovo ThinkPad E460\n",
      "price: 6900000\n",
      "name: Lenovo ThinkPad E490\n",
      "price: 12700000\n",
      "name: Lenovo ThinkPad Yoga 260\n",
      "price: 13093500\n",
      "name: Lenovo ThinkPad Yoga 14\n",
      "price: 13999000\n",
      "name: Lenovo ThinkPad Edge E145\n",
      "price: 4299000\n",
      "name: Lenovo ThinkPad Edge E445\n",
      "price: 5849000\n",
      "name: Lenovo ThinkPad P50\n",
      "price: 39360000\n",
      "name: Lenovo ThinkPad Edge E540\n",
      "price: 11999000\n",
      "name: Lenovo Thinkpad Edge E431\n",
      "price: 6669000\n"
     ]
    }
   ],
   "source": [
    "product = page_soup.findAll(\"div\",\"itemBox\")\n",
    "\n",
    "for p in product:\n",
    "    name_product = p.find(\"li\",\"name\").get_text()\n",
    "   \n",
    "    \n",
    "    price_product = p.find(\"span\",\"newPice\").get_text().replace('Rp','').replace('.','').replace(' ','').replace('-','').strip()\n",
    "    \n",
    "    if price_product != '':\n",
    "        print(\"name: \" + name_product)\n",
    "        print(\"price: \" + price_product)\n",
    "        f.write(name_product + \",\" + price_product + \"\\n\")\n",
    "    \n",
    "f.close()\n"
   ]
  },
  {
   "cell_type": "code",
   "execution_count": null,
   "metadata": {},
   "outputs": [],
   "source": []
  }
 ],
 "metadata": {
  "kernelspec": {
   "display_name": "Python 3",
   "language": "python",
   "name": "python3"
  },
  "language_info": {
   "codemirror_mode": {
    "name": "ipython",
    "version": 3
   },
   "file_extension": ".py",
   "mimetype": "text/x-python",
   "name": "python",
   "nbconvert_exporter": "python",
   "pygments_lexer": "ipython3",
   "version": "3.6.9"
  }
 },
 "nbformat": 4,
 "nbformat_minor": 2
}
