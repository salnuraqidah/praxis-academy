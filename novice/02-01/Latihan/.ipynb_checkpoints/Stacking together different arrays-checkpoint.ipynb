{
 "cells": [
  {
   "cell_type": "code",
   "execution_count": 2,
   "metadata": {},
   "outputs": [
    {
     "data": {
      "text/plain": [
       "array([[6., 3.],\n",
       "       [0., 3.]])"
      ]
     },
     "execution_count": 2,
     "metadata": {},
     "output_type": "execute_result"
    }
   ],
   "source": [
    "#Stacking together different arrays\n",
    "\n",
    "import numpy as np\n",
    "\n",
    "a= np.floor(10*np.random.random((2,2)))\n",
    "a"
   ]
  },
  {
   "cell_type": "code",
   "execution_count": 3,
   "metadata": {},
   "outputs": [
    {
     "data": {
      "text/plain": [
       "array([[8., 5.],\n",
       "       [8., 8.]])"
      ]
     },
     "execution_count": 3,
     "metadata": {},
     "output_type": "execute_result"
    }
   ],
   "source": [
    "b= np.floor(10*np.random.random((2,2)))\n",
    "b"
   ]
  },
  {
   "cell_type": "code",
   "execution_count": 4,
   "metadata": {},
   "outputs": [
    {
     "data": {
      "text/plain": [
       "array([[6., 3.],\n",
       "       [0., 3.],\n",
       "       [8., 5.],\n",
       "       [8., 8.]])"
      ]
     },
     "execution_count": 4,
     "metadata": {},
     "output_type": "execute_result"
    }
   ],
   "source": [
    "np.vstack((a,b)) #menyatukan matriks a dan b secara vertikal"
   ]
  },
  {
   "cell_type": "code",
   "execution_count": 5,
   "metadata": {},
   "outputs": [
    {
     "data": {
      "text/plain": [
       "array([[6., 3., 8., 5.],\n",
       "       [0., 3., 8., 8.]])"
      ]
     },
     "execution_count": 5,
     "metadata": {},
     "output_type": "execute_result"
    }
   ],
   "source": [
    "np.hstack((a,b)) #menyatukan matriks a dan b secara horizontal"
   ]
  },
  {
   "cell_type": "code",
   "execution_count": 6,
   "metadata": {},
   "outputs": [
    {
     "data": {
      "text/plain": [
       "array([[6., 3., 8., 5.],\n",
       "       [0., 3., 8., 8.]])"
      ]
     },
     "execution_count": 6,
     "metadata": {},
     "output_type": "execute_result"
    }
   ],
   "source": [
    "from numpy import newaxis\n",
    "\n",
    "np.column_stack((a,b)) #1D menjadi 2D arrays"
   ]
  },
  {
   "cell_type": "code",
   "execution_count": 7,
   "metadata": {},
   "outputs": [
    {
     "data": {
      "text/plain": [
       "array([4., 2., 3., 5.])"
      ]
     },
     "execution_count": 7,
     "metadata": {},
     "output_type": "execute_result"
    }
   ],
   "source": [
    "a = np.array([4., 2., 3., 5.])\n",
    "a"
   ]
  },
  {
   "cell_type": "code",
   "execution_count": 8,
   "metadata": {},
   "outputs": [
    {
     "data": {
      "text/plain": [
       "array([3., 8., 4., 6.])"
      ]
     },
     "execution_count": 8,
     "metadata": {},
     "output_type": "execute_result"
    }
   ],
   "source": [
    "b = np.array([3., 8., 4., 6.])\n",
    "b"
   ]
  },
  {
   "cell_type": "code",
   "execution_count": 9,
   "metadata": {},
   "outputs": [
    {
     "data": {
      "text/plain": [
       "array([[4., 3.],\n",
       "       [2., 8.],\n",
       "       [3., 4.],\n",
       "       [5., 6.]])"
      ]
     },
     "execution_count": 9,
     "metadata": {},
     "output_type": "execute_result"
    }
   ],
   "source": [
    "np.column_stack((a,b)) #1D menjadi 2D"
   ]
  },
  {
   "cell_type": "code",
   "execution_count": 10,
   "metadata": {},
   "outputs": [
    {
     "data": {
      "text/plain": [
       "array([4., 2., 3., 5., 3., 8., 4., 6.])"
      ]
     },
     "execution_count": 10,
     "metadata": {},
     "output_type": "execute_result"
    }
   ],
   "source": [
    "np.hstack((a,b)) #hasilnya beda dengan column_stack -- masih 1 dimensi"
   ]
  },
  {
   "cell_type": "code",
   "execution_count": 11,
   "metadata": {},
   "outputs": [
    {
     "data": {
      "text/plain": [
       "array([4., 2., 3., 5.])"
      ]
     },
     "execution_count": 11,
     "metadata": {},
     "output_type": "execute_result"
    }
   ],
   "source": [
    "a"
   ]
  },
  {
   "cell_type": "code",
   "execution_count": 12,
   "metadata": {},
   "outputs": [
    {
     "data": {
      "text/plain": [
       "array([3., 8., 4., 6.])"
      ]
     },
     "execution_count": 12,
     "metadata": {},
     "output_type": "execute_result"
    }
   ],
   "source": [
    "b"
   ]
  },
  {
   "cell_type": "code",
   "execution_count": 13,
   "metadata": {},
   "outputs": [
    {
     "data": {
      "text/plain": [
       "array([[4.],\n",
       "       [2.],\n",
       "       [3.],\n",
       "       [5.]])"
      ]
     },
     "execution_count": 13,
     "metadata": {},
     "output_type": "execute_result"
    }
   ],
   "source": [
    "a[:,newaxis] #memungkinkan untuk memiliki vektor kolom 2D"
   ]
  },
  {
   "cell_type": "code",
   "execution_count": 14,
   "metadata": {},
   "outputs": [
    {
     "data": {
      "text/plain": [
       "array([[4., 3.],\n",
       "       [2., 8.],\n",
       "       [3., 4.],\n",
       "       [5., 6.]])"
      ]
     },
     "execution_count": 14,
     "metadata": {},
     "output_type": "execute_result"
    }
   ],
   "source": [
    "np.column_stack((a[:,newaxis],b[:,newaxis]))"
   ]
  },
  {
   "cell_type": "code",
   "execution_count": 15,
   "metadata": {},
   "outputs": [
    {
     "data": {
      "text/plain": [
       "array([[4., 3.],\n",
       "       [2., 8.],\n",
       "       [3., 4.],\n",
       "       [5., 6.]])"
      ]
     },
     "execution_count": 15,
     "metadata": {},
     "output_type": "execute_result"
    }
   ],
   "source": [
    "np.hstack((a[:,newaxis],b[:,newaxis])) #hasilnya sama dengan column_stack"
   ]
  },
  {
   "cell_type": "code",
   "execution_count": 16,
   "metadata": {},
   "outputs": [
    {
     "data": {
      "text/plain": [
       "array([2, 3, 0, 4, 3, 4, 5])"
      ]
     },
     "execution_count": 16,
     "metadata": {},
     "output_type": "execute_result"
    }
   ],
   "source": [
    "np.r_[2:4,0,4,3,4,5]"
   ]
  },
  {
   "cell_type": "code",
   "execution_count": 27,
   "metadata": {},
   "outputs": [
    {
     "data": {
      "text/plain": [
       "array([[1., 7., 7., 8., 2., 1., 4., 0., 4., 5., 0., 9.],\n",
       "       [0., 1., 5., 6., 9., 0., 7., 3., 1., 8., 9., 0.],\n",
       "       [4., 0., 4., 5., 2., 5., 7., 1., 9., 2., 1., 7.],\n",
       "       [6., 9., 2., 3., 5., 5., 8., 6., 9., 0., 2., 7.],\n",
       "       [6., 6., 1., 6., 9., 8., 6., 7., 7., 9., 5., 1.],\n",
       "       [9., 7., 7., 8., 3., 2., 9., 4., 8., 4., 2., 4.]])"
      ]
     },
     "execution_count": 27,
     "metadata": {},
     "output_type": "execute_result"
    }
   ],
   "source": [
    "#Splitting one array into several smaller ones\n",
    "\n",
    "a = np.floor(10*np.random.random((6,12)))\n",
    "a"
   ]
  },
  {
   "cell_type": "code",
   "execution_count": 28,
   "metadata": {},
   "outputs": [
    {
     "data": {
      "text/plain": [
       "[array([[1., 7., 7., 8.],\n",
       "        [0., 1., 5., 6.],\n",
       "        [4., 0., 4., 5.],\n",
       "        [6., 9., 2., 3.],\n",
       "        [6., 6., 1., 6.],\n",
       "        [9., 7., 7., 8.]]), array([[2., 1., 4., 0.],\n",
       "        [9., 0., 7., 3.],\n",
       "        [2., 5., 7., 1.],\n",
       "        [5., 5., 8., 6.],\n",
       "        [9., 8., 6., 7.],\n",
       "        [3., 2., 9., 4.]]), array([[4., 5., 0., 9.],\n",
       "        [1., 8., 9., 0.],\n",
       "        [9., 2., 1., 7.],\n",
       "        [9., 0., 2., 7.],\n",
       "        [7., 9., 5., 1.],\n",
       "        [8., 4., 2., 4.]])]"
      ]
     },
     "execution_count": 28,
     "metadata": {},
     "output_type": "execute_result"
    }
   ],
   "source": [
    "np.hsplit(a,3) #split menjadi 3 secara horizontal"
   ]
  },
  {
   "cell_type": "code",
   "execution_count": 29,
   "metadata": {},
   "outputs": [
    {
     "data": {
      "text/plain": [
       "[array([[1., 7., 7.],\n",
       "        [0., 1., 5.],\n",
       "        [4., 0., 4.],\n",
       "        [6., 9., 2.],\n",
       "        [6., 6., 1.],\n",
       "        [9., 7., 7.]]), array([[8.],\n",
       "        [6.],\n",
       "        [5.],\n",
       "        [3.],\n",
       "        [6.],\n",
       "        [8.]]), array([[2., 1., 4., 0., 4., 5., 0., 9.],\n",
       "        [9., 0., 7., 3., 1., 8., 9., 0.],\n",
       "        [2., 5., 7., 1., 9., 2., 1., 7.],\n",
       "        [5., 5., 8., 6., 9., 0., 2., 7.],\n",
       "        [9., 8., 6., 7., 7., 9., 5., 1.],\n",
       "        [3., 2., 9., 4., 8., 4., 2., 4.]])]"
      ]
     },
     "execution_count": 29,
     "metadata": {},
     "output_type": "execute_result"
    }
   ],
   "source": [
    "np.hsplit(a,(3,4)) #split setelah kolom ke-3 dan 4"
   ]
  },
  {
   "cell_type": "code",
   "execution_count": 31,
   "metadata": {},
   "outputs": [
    {
     "data": {
      "text/plain": [
       "[array([[1., 7., 7., 8., 2., 1., 4., 0., 4., 5., 0., 9.],\n",
       "        [0., 1., 5., 6., 9., 0., 7., 3., 1., 8., 9., 0.],\n",
       "        [4., 0., 4., 5., 2., 5., 7., 1., 9., 2., 1., 7.]]),\n",
       " array([[6., 9., 2., 3., 5., 5., 8., 6., 9., 0., 2., 7.],\n",
       "        [6., 6., 1., 6., 9., 8., 6., 7., 7., 9., 5., 1.],\n",
       "        [9., 7., 7., 8., 3., 2., 9., 4., 8., 4., 2., 4.]])]"
      ]
     },
     "execution_count": 31,
     "metadata": {},
     "output_type": "execute_result"
    }
   ],
   "source": [
    "np.vsplit(a,2)"
   ]
  },
  {
   "cell_type": "code",
   "execution_count": null,
   "metadata": {},
   "outputs": [],
   "source": []
  }
 ],
 "metadata": {
  "kernelspec": {
   "display_name": "Python 3",
   "language": "python",
   "name": "python3"
  }
 },
 "nbformat": 4,
 "nbformat_minor": 2
}
